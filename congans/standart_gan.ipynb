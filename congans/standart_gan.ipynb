{
 "cells": [
  {
   "cell_type": "code",
   "execution_count": 2,
   "metadata": {},
   "outputs": [
    {
     "name": "stderr",
     "output_type": "stream",
     "text": [
      "2022-05-25 19:20:49.739314: I tensorflow/stream_executor/platform/default/dso_loader.cc:49] Successfully opened dynamic library libcudart.so.10.1\n"
     ]
    },
    {
     "name": "stdout",
     "output_type": "stream",
     "text": [
      "Train (60000, 28, 28) (60000,)\n",
      "Test (10000, 28, 28) (10000,)\n"
     ]
    }
   ],
   "source": [
    "# example of loading the fashion_mnist dataset\n",
    "from keras.datasets.fashion_mnist import load_data\n",
    "from matplotlib import pyplot as plt\n",
    "import tensorflow as tf\n",
    "import keras\n",
    "import numpy as np\n",
    "# load the images into memory\n",
    "(trainX, trainy), (testX, testy) = load_data()\n",
    "# summarize the shape of the dataset\n",
    "print('Train', trainX.shape, trainy.shape)\n",
    "print('Test', testX.shape, testy.shape)"
   ]
  },
  {
   "cell_type": "code",
   "execution_count": 40,
   "metadata": {
    "pycharm": {
     "name": "#%%\n"
    }
   },
   "outputs": [],
   "source": [
    "def show_plot(examples, n):\n",
    "\t# plot images\n",
    "\tfor i in range(n * n):\n",
    "\t\t# define subplot\n",
    "\t\tplt.subplot(n, n, 1 + i)\n",
    "\t\t# turn off axis\n",
    "\t\tplt.axis('off')\n",
    "\t\t# plot raw pixel data\n",
    "\t\tplt.imshow(examples[i, :, :, 0], cmap='gray_r')\n",
    "\tplt.show()"
   ]
  },
  {
   "cell_type": "code",
   "execution_count": 4,
   "metadata": {
    "pycharm": {
     "name": "#%%\n"
    }
   },
   "outputs": [],
   "source": [
    "def define_discriminator(in_shape=(28,28,1)):\n",
    "\tmodel = tf.keras.Sequential()\n",
    "\t# downsample\n",
    "\tmodel.add(tf.keras.layers.Conv2D(128, (3,3), strides=(2,2), padding='same', input_shape=in_shape))\n",
    "\tmodel.add(tf.keras.layers.LeakyReLU(alpha=0.2))\n",
    "\t# downsample\n",
    "\tmodel.add(tf.keras.layers.Conv2D(128, (3,3), strides=(2,2), padding='same'))\n",
    "\tmodel.add(tf.keras.layers.LeakyReLU(alpha=0.2))\n",
    "\t# classifier\n",
    "\tmodel.add(tf.keras.layers.Flatten())\n",
    "\tmodel.add(tf.keras.layers.Dropout(0.4))\n",
    "\tmodel.add(tf.keras.layers.Dense(1, activation='sigmoid'))\n",
    "\t# compile model\n",
    "\topt = tf.keras.optimizers.Adam(lr=0.0002, beta_1=0.5)\n",
    "\tmodel.compile(loss='binary_crossentropy', optimizer=opt, metrics=['accuracy'])\n",
    "\treturn model"
   ]
  },
  {
   "cell_type": "code",
   "execution_count": 5,
   "metadata": {
    "pycharm": {
     "name": "#%%\n"
    }
   },
   "outputs": [],
   "source": [
    "def define_generator(latent_dim):\n",
    "\tmodel = tf.keras.Sequential()\n",
    "\t# foundation for 7x7 image\n",
    "\tn_nodes = 128 * 7 * 7\n",
    "\tmodel.add(tf.keras.layers.Dense(n_nodes, input_dim=latent_dim))\n",
    "\tmodel.add(tf.keras.layers.LeakyReLU(alpha=0.2))\n",
    "\tmodel.add(tf.keras.layers.Reshape((7, 7, 128)))\n",
    "\t# upsample to 14x14\n",
    "\tmodel.add(tf.keras.layers.Conv2DTranspose(128, (4,4), strides=(2,2), padding='same'))\n",
    "\tmodel.add(tf.keras.layers.LeakyReLU(alpha=0.2))\n",
    "\t# upsample to 28x28\n",
    "\tmodel.add(tf.keras.layers.Conv2DTranspose(128, (4,4), strides=(2,2), padding='same'))\n",
    "\tmodel.add(tf.keras.layers.LeakyReLU(alpha=0.2))\n",
    "\t# generate\n",
    "\tmodel.add(tf.keras.layers.Conv2D(1, (7,7), activation='tanh', padding='same'))\n",
    "\treturn model"
   ]
  },
  {
   "cell_type": "code",
   "execution_count": 6,
   "metadata": {
    "pycharm": {
     "name": "#%%\n"
    }
   },
   "outputs": [],
   "source": [
    "def define_gan(generator, discriminator):\n",
    "\t# make weights in the discriminator not trainable\n",
    "\tdiscriminator.trainable = False\n",
    "\t# connect them\n",
    "\tmodel = tf.keras.Sequential()\n",
    "\t# add generator\n",
    "\tmodel.add(generator)\n",
    "\t# add the discriminator\n",
    "\tmodel.add(discriminator)\n",
    "\t# compile model\n",
    "\topt = tf.keras.optimizers.Adam(lr=0.0002, beta_1=0.5)\n",
    "\tmodel.compile(loss='binary_crossentropy', optimizer=opt)\n",
    "\treturn model"
   ]
  },
  {
   "cell_type": "code",
   "execution_count": 7,
   "metadata": {
    "pycharm": {
     "name": "#%%\n"
    }
   },
   "outputs": [],
   "source": [
    "# load fashion mnist images\n",
    "def load_real_samples():\n",
    "\t# load dataset\n",
    "\t(trainX, _), (_, _) = load_data()\n",
    "\t# expand to 3d, e.g. add channels\n",
    "\tX = np.expand_dims(trainX, axis=-1)\n",
    "\t# convert from ints to floats\n",
    "\tX.astype('float32')\n",
    "\t# scale from [0,255] to [-1,1]\n",
    "\tX = (X - 127.5) / 127.5\n",
    "\treturn X"
   ]
  },
  {
   "cell_type": "code",
   "execution_count": 8,
   "metadata": {
    "pycharm": {
     "name": "#%%\n"
    }
   },
   "outputs": [],
   "source": [
    "def generate_real_samples(dataset, n_samples):\n",
    "\t# choose random instances\n",
    "\tix = np.random.randint(0, dataset.shape[0], n_samples)\n",
    "\t# select images\n",
    "\tX = dataset[ix]\n",
    "\t# generate class labels\n",
    "\ty = tf.ones((n_samples, 1))\n",
    "\treturn X, y"
   ]
  },
  {
   "cell_type": "code",
   "execution_count": 9,
   "metadata": {
    "pycharm": {
     "name": "#%%\n"
    }
   },
   "outputs": [],
   "source": [
    "def generate_latent_points(latent_dim, n_samples):\n",
    "\t# generate points in the latent space\n",
    "\tx_input = np.random.randn(latent_dim * n_samples)\n",
    "\t# reshape into a batch of inputs for the network\n",
    "\tx_input = x_input.reshape(n_samples, latent_dim)\n",
    "\treturn x_input"
   ]
  },
  {
   "cell_type": "code",
   "execution_count": 10,
   "metadata": {
    "pycharm": {
     "name": "#%%\n"
    }
   },
   "outputs": [],
   "source": [
    "def generate_fake_samples(generator, latent_dim, n_samples):\n",
    "\t# generate points in latent space\n",
    "\tx_input = generate_latent_points(latent_dim, n_samples)\n",
    "\t# predict outputs\n",
    "\tX = generator.predict(x_input)\n",
    "\t# create class labels\n",
    "\ty = np.zeros((n_samples, 1))\n",
    "\treturn X, y"
   ]
  },
  {
   "cell_type": "code",
   "execution_count": 49,
   "metadata": {
    "pycharm": {
     "name": "#%%\n"
    }
   },
   "outputs": [],
   "source": [
    "def train(g_model, d_model, gan_model, dataset, latent_dim, n_epochs=100, n_batch=1024):\n",
    "\tbat_per_epo = int(dataset.shape[0] / n_batch)\n",
    "\thalf_batch = int(n_batch / 2)\n",
    "\t# manually enumerate epochs\n",
    "\tfor i in range(n_epochs):\n",
    "\t\t# enumerate batches over the training set\n",
    "\t\tfor j in range(bat_per_epo):\n",
    "\t\t\t# get randomly selected 'real' samples\n",
    "\t\t\tX_real, y_real = generate_real_samples(dataset, half_batch)\n",
    "\t\t\t# update discriminator model weights\n",
    "\t\t\td_loss1, _ = d_model.train_on_batch(X_real, y_real)\n",
    "\t\t\t# generate 'fake' examples\n",
    "\t\t\tX_fake, y_fake = generate_fake_samples(g_model, latent_dim, half_batch)\n",
    "\t\t\t# update discriminator model weights\n",
    "\t\t\td_loss2, _ = d_model.train_on_batch(X_fake, y_fake)\n",
    "\t\t\t# prepare points in latent space as input for the generator\n",
    "\t\t\tX_gan = generate_latent_points(latent_dim, n_batch)\n",
    "\t\t\t# create inverted labels for the fake samples\n",
    "\t\t\ty_gan = np.ones((n_batch, 1))\n",
    "\t\t\t# update the generator via the discriminator's error\n",
    "\t\t\tg_loss = gan_model.train_on_batch(X_gan, y_gan)\n",
    "\t\t\t# summarize loss on this batch\n",
    "\t\tprint('>%d, d1=%.3f, d2=%.3f g=%.3f' %\n",
    "\t\t\t(i+1,  d_loss1, d_loss2, g_loss))\n",
    "\t# save the generator model\n",
    "\tg_model.save('generator.h5')"
   ]
  },
  {
   "cell_type": "code",
   "execution_count": 50,
   "metadata": {
    "pycharm": {
     "name": "#%%\n"
    }
   },
   "outputs": [],
   "source": [
    "# size of the latent space\n",
    "latent_dim = 100\n",
    "# create the discriminator\n",
    "discriminator = define_discriminator()\n",
    "# create the generator\n",
    "generator = define_generator(latent_dim)\n",
    "# create the gan\n",
    "gan_model = define_gan(generator, discriminator)\n",
    "# load image data\n",
    "dataset = load_real_samples()"
   ]
  },
  {
   "cell_type": "code",
   "execution_count": 51,
   "metadata": {
    "pycharm": {
     "name": "#%%\n"
    }
   },
   "outputs": [
    {
     "name": "stdout",
     "output_type": "stream",
     "text": [
      ">1, d1=0.067, d2=0.881 g=0.581\n",
      ">2, d1=0.749, d2=0.757 g=0.865\n",
      ">3, d1=0.709, d2=0.750 g=0.754\n",
      ">4, d1=0.691, d2=0.672 g=0.775\n",
      ">5, d1=0.630, d2=0.711 g=0.758\n",
      ">6, d1=0.717, d2=0.622 g=0.816\n",
      ">7, d1=0.722, d2=0.619 g=0.832\n",
      ">8, d1=0.678, d2=0.651 g=0.777\n",
      ">9, d1=0.684, d2=0.690 g=0.749\n",
      ">10, d1=0.684, d2=0.689 g=0.730\n",
      ">11, d1=0.697, d2=0.697 g=0.728\n",
      ">12, d1=0.682, d2=0.697 g=0.712\n",
      ">13, d1=0.653, d2=0.762 g=0.659\n",
      ">14, d1=0.722, d2=0.687 g=0.742\n",
      ">15, d1=0.662, d2=0.724 g=0.693\n",
      ">16, d1=0.694, d2=0.646 g=0.761\n",
      ">17, d1=0.679, d2=0.679 g=0.732\n",
      ">18, d1=0.670, d2=0.693 g=0.720\n",
      ">19, d1=0.715, d2=0.636 g=0.785\n",
      ">20, d1=0.704, d2=0.660 g=0.758\n",
      ">21, d1=0.665, d2=0.664 g=0.747\n",
      ">22, d1=0.686, d2=0.653 g=0.770\n",
      ">23, d1=0.690, d2=0.671 g=0.745\n",
      ">24, d1=0.686, d2=0.662 g=0.754\n",
      ">25, d1=0.699, d2=0.650 g=0.765\n",
      ">26, d1=0.671, d2=0.680 g=0.734\n",
      ">27, d1=0.688, d2=0.659 g=0.755\n",
      ">28, d1=0.682, d2=0.683 g=0.737\n",
      ">29, d1=0.682, d2=0.676 g=0.742\n",
      ">30, d1=0.680, d2=0.690 g=0.733\n",
      ">31, d1=0.668, d2=0.713 g=0.746\n",
      ">32, d1=0.651, d2=0.664 g=0.762\n",
      ">33, d1=0.690, d2=0.694 g=0.724\n",
      ">34, d1=0.705, d2=0.697 g=0.725\n",
      ">35, d1=0.697, d2=0.679 g=0.734\n",
      ">36, d1=0.689, d2=0.679 g=0.736\n",
      ">37, d1=0.692, d2=0.678 g=0.732\n",
      ">38, d1=0.690, d2=0.686 g=0.722\n",
      ">39, d1=0.678, d2=0.700 g=0.713\n",
      ">40, d1=0.703, d2=0.666 g=0.743\n",
      ">41, d1=0.700, d2=0.687 g=0.723\n",
      ">42, d1=0.681, d2=0.715 g=0.704\n",
      ">43, d1=0.712, d2=0.639 g=0.783\n",
      ">44, d1=0.719, d2=0.695 g=0.719\n",
      ">45, d1=0.699, d2=0.687 g=0.719\n",
      ">46, d1=0.695, d2=0.686 g=0.722\n",
      ">47, d1=0.689, d2=0.691 g=0.717\n",
      ">48, d1=0.697, d2=0.684 g=0.725\n",
      ">49, d1=0.699, d2=0.690 g=0.718\n",
      ">50, d1=0.692, d2=0.691 g=0.714\n",
      ">51, d1=0.700, d2=0.689 g=0.715\n",
      ">52, d1=0.702, d2=0.690 g=0.717\n",
      ">53, d1=0.697, d2=0.691 g=0.711\n",
      ">54, d1=0.702, d2=0.691 g=0.714\n",
      ">55, d1=0.694, d2=0.692 g=0.709\n",
      ">56, d1=0.695, d2=0.687 g=0.711\n",
      ">57, d1=0.698, d2=0.681 g=0.739\n",
      ">58, d1=0.688, d2=0.665 g=0.784\n",
      ">59, d1=0.691, d2=0.694 g=0.725\n",
      ">60, d1=0.684, d2=0.698 g=0.701\n",
      ">61, d1=0.692, d2=0.694 g=0.707\n",
      ">62, d1=0.700, d2=0.692 g=0.713\n",
      ">63, d1=0.698, d2=0.689 g=0.711\n",
      ">64, d1=0.696, d2=0.695 g=0.706\n",
      ">65, d1=0.696, d2=0.690 g=0.714\n",
      ">66, d1=0.692, d2=0.701 g=0.710\n",
      ">67, d1=0.693, d2=0.687 g=0.713\n",
      ">68, d1=0.697, d2=0.686 g=0.715\n",
      ">69, d1=0.696, d2=0.691 g=0.710\n",
      ">70, d1=0.694, d2=0.690 g=0.708\n",
      ">71, d1=0.691, d2=0.690 g=0.710\n",
      ">72, d1=0.689, d2=0.696 g=0.708\n",
      ">73, d1=0.704, d2=0.703 g=0.703\n",
      ">74, d1=0.683, d2=0.686 g=0.715\n",
      ">75, d1=0.690, d2=0.694 g=0.705\n",
      ">76, d1=0.698, d2=0.691 g=0.707\n",
      ">77, d1=0.691, d2=0.692 g=0.705\n",
      ">78, d1=0.698, d2=0.689 g=0.708\n",
      ">79, d1=0.693, d2=0.690 g=0.707\n",
      ">80, d1=0.697, d2=0.687 g=0.708\n",
      ">81, d1=0.696, d2=0.688 g=0.708\n",
      ">82, d1=0.697, d2=0.693 g=0.709\n",
      ">83, d1=0.694, d2=0.692 g=0.706\n",
      ">84, d1=0.696, d2=0.695 g=0.704\n",
      ">85, d1=0.694, d2=0.690 g=0.709\n",
      ">86, d1=0.694, d2=0.692 g=0.708\n",
      ">87, d1=0.694, d2=0.693 g=0.710\n",
      ">88, d1=0.695, d2=0.689 g=0.708\n",
      ">89, d1=0.695, d2=0.691 g=0.706\n",
      ">90, d1=0.693, d2=0.694 g=0.707\n",
      ">91, d1=0.692, d2=0.679 g=0.736\n",
      ">92, d1=0.681, d2=0.669 g=0.770\n",
      ">93, d1=0.676, d2=0.707 g=0.695\n",
      ">94, d1=0.694, d2=0.688 g=0.710\n",
      ">95, d1=0.697, d2=0.691 g=0.708\n",
      ">96, d1=0.690, d2=0.697 g=0.699\n",
      ">97, d1=0.697, d2=0.695 g=0.701\n",
      ">98, d1=0.696, d2=0.692 g=0.704\n",
      ">99, d1=0.694, d2=0.693 g=0.703\n",
      ">100, d1=0.696, d2=0.691 g=0.703\n"
     ]
    }
   ],
   "source": [
    "train(generator, discriminator, gan_model, dataset, latent_dim)"
   ]
  },
  {
   "cell_type": "code",
   "execution_count": 53,
   "outputs": [
    {
     "ename": "IndexError",
     "evalue": "index 5 is out of bounds for axis 0 with size 5",
     "output_type": "error",
     "traceback": [
      "\u001B[0;31m---------------------------------------------------------------------------\u001B[0m",
      "\u001B[0;31mIndexError\u001B[0m                                Traceback (most recent call last)",
      "Input \u001B[0;32mIn [53]\u001B[0m, in \u001B[0;36m<cell line: 4>\u001B[0;34m()\u001B[0m\n\u001B[1;32m      2\u001B[0m latent_points \u001B[38;5;241m=\u001B[39m generate_latent_points(\u001B[38;5;241m100\u001B[39m, \u001B[38;5;241m5\u001B[39m)\n\u001B[1;32m      3\u001B[0m X \u001B[38;5;241m=\u001B[39m model\u001B[38;5;241m.\u001B[39mpredict(latent_points)\n\u001B[0;32m----> 4\u001B[0m \u001B[43mshow_plot\u001B[49m\u001B[43m(\u001B[49m\u001B[43mX\u001B[49m\u001B[43m,\u001B[49m\u001B[43m \u001B[49m\u001B[38;5;241;43m5\u001B[39;49m\u001B[43m)\u001B[49m\n",
      "Input \u001B[0;32mIn [40]\u001B[0m, in \u001B[0;36mshow_plot\u001B[0;34m(examples, n)\u001B[0m\n\u001B[1;32m      7\u001B[0m \tplt\u001B[38;5;241m.\u001B[39maxis(\u001B[38;5;124m'\u001B[39m\u001B[38;5;124moff\u001B[39m\u001B[38;5;124m'\u001B[39m)\n\u001B[1;32m      8\u001B[0m \t\u001B[38;5;66;03m# plot raw pixel data\u001B[39;00m\n\u001B[0;32m----> 9\u001B[0m \tplt\u001B[38;5;241m.\u001B[39mimshow(\u001B[43mexamples\u001B[49m\u001B[43m[\u001B[49m\u001B[43mi\u001B[49m\u001B[43m,\u001B[49m\u001B[43m \u001B[49m\u001B[43m:\u001B[49m\u001B[43m,\u001B[49m\u001B[43m \u001B[49m\u001B[43m:\u001B[49m\u001B[43m,\u001B[49m\u001B[43m \u001B[49m\u001B[38;5;241;43m0\u001B[39;49m\u001B[43m]\u001B[49m, cmap\u001B[38;5;241m=\u001B[39m\u001B[38;5;124m'\u001B[39m\u001B[38;5;124mgray_r\u001B[39m\u001B[38;5;124m'\u001B[39m)\n\u001B[1;32m     10\u001B[0m plt\u001B[38;5;241m.\u001B[39mshow()\n",
      "\u001B[0;31mIndexError\u001B[0m: index 5 is out of bounds for axis 0 with size 5"
     ]
    },
    {
     "data": {
      "text/plain": "<Figure size 432x288 with 6 Axes>",
      "image/png": "[encoded data removed]"
     },
     "metadata": {
      "needs_background": "light"
     },
     "output_type": "display_data"
    }
   ],
   "source": [
    "model = keras.models.load_model('generator.h5', compile = False)\n",
    "latent_points = generate_latent_points(100, 5)\n",
    "X = model.predict(latent_points)\n",
    "show_plot(X, 5)"
   ],
   "metadata": {
    "collapsed": false,
    "pycharm": {
     "name": "#%%\n"
    }
   }
  },
  {
   "cell_type": "code",
   "execution_count": null,
   "outputs": [],
   "source": [],
   "metadata": {
    "collapsed": false,
    "pycharm": {
     "name": "#%%\n"
    }
   }
  }
 ],
 "metadata": {
  "kernelspec": {
   "display_name": "Python 3",
   "language": "python",
   "name": "python3"
  },
  "language_info": {
   "codemirror_mode": {
    "name": "ipython",
    "version": 3
   },
   "file_extension": ".py",
   "mimetype": "text/x-python",
   "name": "python",
   "nbconvert_exporter": "python",
   "pygments_lexer": "ipython3",
   "version": "3.9.5"
  }
 },
 "nbformat": 4,
 "nbformat_minor": 1
}