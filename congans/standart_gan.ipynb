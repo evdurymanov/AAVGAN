{
 "cells": [
  {
   "cell_type": "code",
   "execution_count": 2,
   "metadata": {},
   "outputs": [
    {
     "name": "stdout",
     "output_type": "stream",
     "text": [
      "Train (60000, 28, 28) (60000,)\n",
      "Test (10000, 28, 28) (10000,)\n"
     ]
    }
   ],
   "source": [
    "# example of loading the fashion_mnist dataset\n",
    "from keras.datasets.fashion_mnist import load_data\n",
    "from matplotlib import pyplot as plt\n",
    "import tensorflow as tf\n",
    "import keras\n",
    "import numpy as np\n",
    "# load the images into memory\n",
    "(trainX, trainy), (testX, testy) = load_data()\n",
    "# summarize the shape of the dataset\n",
    "print('Train', trainX.shape, trainy.shape)\n",
    "print('Test', testX.shape, testy.shape)"
   ]
  },
  {
   "cell_type": "code",
   "execution_count": 3,
   "metadata": {
    "pycharm": {
     "name": "#%%\n"
    }
   },
   "outputs": [],
   "source": [
    "def show_plot(examples, n):\n",
    "\t# plot images\n",
    "\tfor i in range(n * n):\n",
    "\t\t# define subplot\n",
    "\t\tplt.subplot(n, n, 1 + i)\n",
    "\t\t# turn off axis\n",
    "\t\tplt.axis('off')\n",
    "\t\t# plot raw pixel data\n",
    "\t\tplt.imshow(examples[i, :, :, 0], cmap='gray_r')\n",
    "\tplt.show()"
   ]
  },
  {
   "cell_type": "code",
   "execution_count": 3,
   "metadata": {
    "pycharm": {
     "name": "#%%\n"
    }
   },
   "outputs": [],
   "source": [
    "def define_discriminator(in_shape=(28,28,1)):\n",
    "\tmodel = tf.keras.Sequential()\n",
    "\t# downsample\n",
    "\tmodel.add(tf.keras.layers.Conv2D(128, (3,3), strides=(2,2), padding='same', input_shape=in_shape))\n",
    "\tmodel.add(tf.keras.layers.LeakyReLU(alpha=0.2))\n",
    "\t# downsample\n",
    "\tmodel.add(tf.keras.layers.Conv2D(128, (3,3), strides=(2,2), padding='same'))\n",
    "\tmodel.add(tf.keras.layers.LeakyReLU(alpha=0.2))\n",
    "\t# classifier\n",
    "\tmodel.add(tf.keras.layers.Flatten())\n",
    "\tmodel.add(tf.keras.layers.Dropout(0.4))\n",
    "\tmodel.add(tf.keras.layers.Dense(1, activation='sigmoid'))\n",
    "\t# compile model\n",
    "\topt = tf.keras.optimizers.Adam(lr=0.0002, beta_1=0.5)\n",
    "\tmodel.compile(loss='binary_crossentropy', optimizer=opt, metrics=['accuracy'])\n",
    "\treturn model"
   ]
  },
  {
   "cell_type": "code",
   "execution_count": 4,
   "metadata": {
    "pycharm": {
     "name": "#%%\n"
    }
   },
   "outputs": [],
   "source": [
    "def define_generator(latent_dim):\n",
    "\tmodel = tf.keras.Sequential()\n",
    "\t# foundation for 7x7 image\n",
    "\tn_nodes = 128 * 7 * 7\n",
    "\tmodel.add(tf.keras.layers.Dense(n_nodes, input_dim=latent_dim))\n",
    "\tmodel.add(tf.keras.layers.LeakyReLU(alpha=0.2))\n",
    "\tmodel.add(tf.keras.layers.Reshape((7, 7, 128)))\n",
    "\t# upsample to 14x14\n",
    "\tmodel.add(tf.keras.layers.Conv2DTranspose(128, (4,4), strides=(2,2), padding='same'))\n",
    "\tmodel.add(tf.keras.layers.LeakyReLU(alpha=0.2))\n",
    "\t# upsample to 28x28\n",
    "\tmodel.add(tf.keras.layers.Conv2DTranspose(128, (4,4), strides=(2,2), padding='same'))\n",
    "\tmodel.add(tf.keras.layers.LeakyReLU(alpha=0.2))\n",
    "\t# generate\n",
    "\tmodel.add(tf.keras.layers.Conv2D(1, (7,7), activation='tanh', padding='same'))\n",
    "\treturn model"
   ]
  },
  {
   "cell_type": "code",
   "execution_count": 5,
   "metadata": {
    "pycharm": {
     "name": "#%%\n"
    }
   },
   "outputs": [],
   "source": [
    "def define_gan(generator, discriminator):\n",
    "\t# make weights in the discriminator not trainable\n",
    "\tdiscriminator.trainable = False\n",
    "\t# connect them\n",
    "\tmodel = tf.keras.Sequential()\n",
    "\t# add generator\n",
    "\tmodel.add(generator)\n",
    "\t# add the discriminator\n",
    "\tmodel.add(discriminator)\n",
    "\t# compile model\n",
    "\topt = tf.keras.optimizers.Adam(lr=0.0002, beta_1=0.5)\n",
    "\tmodel.compile(loss='binary_crossentropy', optimizer=opt)\n",
    "\treturn model"
   ]
  },
  {
   "cell_type": "code",
   "execution_count": 6,
   "metadata": {
    "pycharm": {
     "name": "#%%\n"
    }
   },
   "outputs": [],
   "source": [
    "# load fashion mnist images\n",
    "def load_real_samples():\n",
    "\t# load dataset\n",
    "\t(trainX, _), (_, _) = load_data()\n",
    "\t# expand to 3d, e.g. add channels\n",
    "\tX = np.expand_dims(trainX, axis=-1)\n",
    "\t# convert from ints to floats\n",
    "\tX.astype('float32')\n",
    "\t# scale from [0,255] to [-1,1]\n",
    "\tX = (X - 127.5) / 127.5\n",
    "\treturn X"
   ]
  },
  {
   "cell_type": "code",
   "execution_count": 7,
   "metadata": {
    "pycharm": {
     "name": "#%%\n"
    }
   },
   "outputs": [],
   "source": [
    "def generate_real_samples(dataset, n_samples):\n",
    "\t# choose random instances\n",
    "\tix = np.random.randint(0, dataset.shape[0], n_samples)\n",
    "\t# select images\n",
    "\tX = dataset[ix]\n",
    "\t# generate class labels\n",
    "\ty = tf.ones((n_samples, 1))\n",
    "\treturn X, y"
   ]
  },
  {
   "cell_type": "code",
   "execution_count": 8,
   "metadata": {
    "pycharm": {
     "name": "#%%\n"
    }
   },
   "outputs": [],
   "source": [
    "def generate_latent_points(latent_dim, n_samples):\n",
    "\t# generate points in the latent space\n",
    "\tx_input = np.random.randn(latent_dim * n_samples)\n",
    "\t# reshape into a batch of inputs for the network\n",
    "\tx_input = x_input.reshape(n_samples, latent_dim)\n",
    "\treturn x_input"
   ]
  },
  {
   "cell_type": "code",
   "execution_count": 9,
   "metadata": {
    "pycharm": {
     "name": "#%%\n"
    }
   },
   "outputs": [],
   "source": [
    "def generate_fake_samples(generator, latent_dim, n_samples):\n",
    "\t# generate points in latent space\n",
    "\tx_input = generate_latent_points(latent_dim, n_samples)\n",
    "\t# predict outputs\n",
    "\tX = generator.predict(x_input)\n",
    "\t# create class labels\n",
    "\ty = np.zeros((n_samples, 1))\n",
    "\treturn X, y"
   ]
  },
  {
   "cell_type": "code",
   "execution_count": 10,
   "metadata": {
    "pycharm": {
     "name": "#%%\n"
    }
   },
   "outputs": [],
   "source": [
    "def train(g_model, d_model, gan_model, dataset, latent_dim, n_epochs=100, n_batch=1024):\n",
    "\tbat_per_epo = int(dataset.shape[0] / n_batch)\n",
    "\thalf_batch = int(n_batch / 2)\n",
    "\t# manually enumerate epochs\n",
    "\tfor i in range(n_epochs):\n",
    "\t\t# enumerate batches over the training set\n",
    "\t\tfor j in range(bat_per_epo):\n",
    "\t\t\t# get randomly selected 'real' samples\n",
    "\t\t\tX_real, y_real = generate_real_samples(dataset, half_batch)\n",
    "\t\t\t# update discriminator model weights\n",
    "\t\t\td_loss1, _ = d_model.train_on_batch(X_real, y_real)\n",
    "\t\t\t# generate 'fake' examples\n",
    "\t\t\tX_fake, y_fake = generate_fake_samples(g_model, latent_dim, half_batch)\n",
    "\t\t\t# update discriminator model weights\n",
    "\t\t\td_loss2, _ = d_model.train_on_batch(X_fake, y_fake)\n",
    "\t\t\t# prepare points in latent space as input for the generator\n",
    "\t\t\tX_gan = generate_latent_points(latent_dim, n_batch)\n",
    "\t\t\t# create inverted labels for the fake samples\n",
    "\t\t\ty_gan = np.ones((n_batch, 1))\n",
    "\t\t\t# update the generator via the discriminator's error\n",
    "\t\t\tg_loss = gan_model.train_on_batch(X_gan, y_gan)\n",
    "\t\t\t# summarize loss on this batch\n",
    "\t\tprint('>%d, d1=%.3f, d2=%.3f g=%.3f' %\n",
    "\t\t\t(i+1,  d_loss1, d_loss2, g_loss))\n",
    "\t# save the generator model\n",
    "\tg_model.save('generator.h5')"
   ]
  },
  {
   "cell_type": "code",
   "execution_count": 11,
   "metadata": {
    "pycharm": {
     "name": "#%%\n"
    }
   },
   "outputs": [],
   "source": [
    "# size of the latent space\n",
    "latent_dim = 100\n",
    "# create the discriminator\n",
    "discriminator = define_discriminator()\n",
    "# create the generator\n",
    "generator = define_generator(latent_dim)\n",
    "# create the gan\n",
    "gan_model = define_gan(generator, discriminator)\n",
    "# load image data\n",
    "dataset = load_real_samples()"
   ]
  },
  {
   "cell_type": "code",
   "execution_count": 12,
   "metadata": {
    "pycharm": {
     "name": "#%%\n"
    }
   },
   "outputs": [
    {
     "name": "stdout",
     "output_type": "stream",
     "text": [
      ">1, d1=0.301, d2=0.869 g=0.637\n"
     ]
    },
    {
     "ename": "KeyboardInterrupt",
     "evalue": "",
     "output_type": "error",
     "traceback": [
      "\u001B[0;31m---------------------------------------------------------------------------\u001B[0m",
      "\u001B[0;31mKeyboardInterrupt\u001B[0m                         Traceback (most recent call last)",
      "Input \u001B[0;32mIn [12]\u001B[0m, in \u001B[0;36m<cell line: 1>\u001B[0;34m()\u001B[0m\n\u001B[0;32m----> 1\u001B[0m \u001B[43mtrain\u001B[49m\u001B[43m(\u001B[49m\u001B[43mgenerator\u001B[49m\u001B[43m,\u001B[49m\u001B[43m \u001B[49m\u001B[43mdiscriminator\u001B[49m\u001B[43m,\u001B[49m\u001B[43m \u001B[49m\u001B[43mgan_model\u001B[49m\u001B[43m,\u001B[49m\u001B[43m \u001B[49m\u001B[43mdataset\u001B[49m\u001B[43m,\u001B[49m\u001B[43m \u001B[49m\u001B[43mlatent_dim\u001B[49m\u001B[43m)\u001B[49m\n",
      "Input \u001B[0;32mIn [10]\u001B[0m, in \u001B[0;36mtrain\u001B[0;34m(g_model, d_model, gan_model, dataset, latent_dim, n_epochs, n_batch)\u001B[0m\n\u001B[1;32m     19\u001B[0m \ty_gan \u001B[38;5;241m=\u001B[39m np\u001B[38;5;241m.\u001B[39mones((n_batch, \u001B[38;5;241m1\u001B[39m))\n\u001B[1;32m     20\u001B[0m \t\u001B[38;5;66;03m# update the generator via the discriminator's error\u001B[39;00m\n\u001B[0;32m---> 21\u001B[0m \tg_loss \u001B[38;5;241m=\u001B[39m \u001B[43mgan_model\u001B[49m\u001B[38;5;241;43m.\u001B[39;49m\u001B[43mtrain_on_batch\u001B[49m\u001B[43m(\u001B[49m\u001B[43mX_gan\u001B[49m\u001B[43m,\u001B[49m\u001B[43m \u001B[49m\u001B[43my_gan\u001B[49m\u001B[43m)\u001B[49m\n\u001B[1;32m     22\u001B[0m \t\u001B[38;5;66;03m# summarize loss on this batch\u001B[39;00m\n\u001B[1;32m     23\u001B[0m \u001B[38;5;28mprint\u001B[39m(\u001B[38;5;124m'\u001B[39m\u001B[38;5;124m>\u001B[39m\u001B[38;5;132;01m%d\u001B[39;00m\u001B[38;5;124m, d1=\u001B[39m\u001B[38;5;132;01m%.3f\u001B[39;00m\u001B[38;5;124m, d2=\u001B[39m\u001B[38;5;132;01m%.3f\u001B[39;00m\u001B[38;5;124m g=\u001B[39m\u001B[38;5;132;01m%.3f\u001B[39;00m\u001B[38;5;124m'\u001B[39m \u001B[38;5;241m%\u001B[39m\n\u001B[1;32m     24\u001B[0m \t(i\u001B[38;5;241m+\u001B[39m\u001B[38;5;241m1\u001B[39m,  d_loss1, d_loss2, g_loss))\n",
      "File \u001B[0;32m~/anaconda3/envs/pythonProject/lib/python3.9/site-packages/tensorflow/python/keras/engine/training.py:1730\u001B[0m, in \u001B[0;36mModel.train_on_batch\u001B[0;34m(self, x, y, sample_weight, class_weight, reset_metrics, return_dict)\u001B[0m\n\u001B[1;32m   1727\u001B[0m   logs \u001B[38;5;241m=\u001B[39m \u001B[38;5;28mself\u001B[39m\u001B[38;5;241m.\u001B[39mtrain_function(iterator)\n\u001B[1;32m   1729\u001B[0m \u001B[38;5;28;01mif\u001B[39;00m reset_metrics:\n\u001B[0;32m-> 1730\u001B[0m   \u001B[38;5;28;43mself\u001B[39;49m\u001B[38;5;241;43m.\u001B[39;49m\u001B[43mreset_metrics\u001B[49m\u001B[43m(\u001B[49m\u001B[43m)\u001B[49m\n\u001B[1;32m   1731\u001B[0m logs \u001B[38;5;241m=\u001B[39m tf_utils\u001B[38;5;241m.\u001B[39mto_numpy_or_python_type(logs)\n\u001B[1;32m   1732\u001B[0m \u001B[38;5;28;01mif\u001B[39;00m return_dict:\n",
      "File \u001B[0;32m~/anaconda3/envs/pythonProject/lib/python3.9/site-packages/tensorflow/python/keras/engine/training.py:1669\u001B[0m, in \u001B[0;36mModel.reset_metrics\u001B[0;34m(self)\u001B[0m\n\u001B[1;32m   1650\u001B[0m \u001B[38;5;124;03m\"\"\"Resets the state of all the metrics in the model.\u001B[39;00m\n\u001B[1;32m   1651\u001B[0m \n\u001B[1;32m   1652\u001B[0m \u001B[38;5;124;03mExamples:\u001B[39;00m\n\u001B[0;32m   (...)\u001B[0m\n\u001B[1;32m   1666\u001B[0m \n\u001B[1;32m   1667\u001B[0m \u001B[38;5;124;03m\"\"\"\u001B[39;00m\n\u001B[1;32m   1668\u001B[0m \u001B[38;5;28;01mfor\u001B[39;00m m \u001B[38;5;129;01min\u001B[39;00m \u001B[38;5;28mself\u001B[39m\u001B[38;5;241m.\u001B[39mmetrics:\n\u001B[0;32m-> 1669\u001B[0m   \u001B[43mm\u001B[49m\u001B[38;5;241;43m.\u001B[39;49m\u001B[43mreset_states\u001B[49m\u001B[43m(\u001B[49m\u001B[43m)\u001B[49m\n",
      "File \u001B[0;32m~/anaconda3/envs/pythonProject/lib/python3.9/site-packages/tensorflow/python/keras/metrics.py:253\u001B[0m, in \u001B[0;36mMetric.reset_states\u001B[0;34m(self)\u001B[0m\n\u001B[1;32m    247\u001B[0m \u001B[38;5;28;01mdef\u001B[39;00m \u001B[38;5;21mreset_states\u001B[39m(\u001B[38;5;28mself\u001B[39m):\n\u001B[1;32m    248\u001B[0m   \u001B[38;5;124;03m\"\"\"Resets all of the metric state variables.\u001B[39;00m\n\u001B[1;32m    249\u001B[0m \n\u001B[1;32m    250\u001B[0m \u001B[38;5;124;03m  This function is called between epochs/steps,\u001B[39;00m\n\u001B[1;32m    251\u001B[0m \u001B[38;5;124;03m  when a metric is evaluated during training.\u001B[39;00m\n\u001B[1;32m    252\u001B[0m \u001B[38;5;124;03m  \"\"\"\u001B[39;00m\n\u001B[0;32m--> 253\u001B[0m   \u001B[43mK\u001B[49m\u001B[38;5;241;43m.\u001B[39;49m\u001B[43mbatch_set_value\u001B[49m\u001B[43m(\u001B[49m\u001B[43m[\u001B[49m\u001B[43m(\u001B[49m\u001B[43mv\u001B[49m\u001B[43m,\u001B[49m\u001B[43m \u001B[49m\u001B[38;5;241;43m0\u001B[39;49m\u001B[43m)\u001B[49m\u001B[43m \u001B[49m\u001B[38;5;28;43;01mfor\u001B[39;49;00m\u001B[43m \u001B[49m\u001B[43mv\u001B[49m\u001B[43m \u001B[49m\u001B[38;5;129;43;01min\u001B[39;49;00m\u001B[43m \u001B[49m\u001B[38;5;28;43mself\u001B[39;49m\u001B[38;5;241;43m.\u001B[39;49m\u001B[43mvariables\u001B[49m\u001B[43m]\u001B[49m\u001B[43m)\u001B[49m\n",
      "File \u001B[0;32m~/anaconda3/envs/pythonProject/lib/python3.9/site-packages/tensorflow/python/util/dispatch.py:201\u001B[0m, in \u001B[0;36madd_dispatch_support.<locals>.wrapper\u001B[0;34m(*args, **kwargs)\u001B[0m\n\u001B[1;32m    199\u001B[0m \u001B[38;5;124;03m\"\"\"Call target, and fall back on dispatchers if there is a TypeError.\"\"\"\u001B[39;00m\n\u001B[1;32m    200\u001B[0m \u001B[38;5;28;01mtry\u001B[39;00m:\n\u001B[0;32m--> 201\u001B[0m   \u001B[38;5;28;01mreturn\u001B[39;00m \u001B[43mtarget\u001B[49m\u001B[43m(\u001B[49m\u001B[38;5;241;43m*\u001B[39;49m\u001B[43margs\u001B[49m\u001B[43m,\u001B[49m\u001B[43m \u001B[49m\u001B[38;5;241;43m*\u001B[39;49m\u001B[38;5;241;43m*\u001B[39;49m\u001B[43mkwargs\u001B[49m\u001B[43m)\u001B[49m\n\u001B[1;32m    202\u001B[0m \u001B[38;5;28;01mexcept\u001B[39;00m (\u001B[38;5;167;01mTypeError\u001B[39;00m, \u001B[38;5;167;01mValueError\u001B[39;00m):\n\u001B[1;32m    203\u001B[0m   \u001B[38;5;66;03m# Note: convert_to_eager_tensor currently raises a ValueError, not a\u001B[39;00m\n\u001B[1;32m    204\u001B[0m   \u001B[38;5;66;03m# TypeError, when given unexpected types.  So we need to catch both.\u001B[39;00m\n\u001B[1;32m    205\u001B[0m   result \u001B[38;5;241m=\u001B[39m dispatch(wrapper, args, kwargs)\n",
      "File \u001B[0;32m~/anaconda3/envs/pythonProject/lib/python3.9/site-packages/tensorflow/python/keras/backend.py:3706\u001B[0m, in \u001B[0;36mbatch_set_value\u001B[0;34m(tuples)\u001B[0m\n\u001B[1;32m   3704\u001B[0m \u001B[38;5;28;01mif\u001B[39;00m ops\u001B[38;5;241m.\u001B[39mexecuting_eagerly_outside_functions():\n\u001B[1;32m   3705\u001B[0m   \u001B[38;5;28;01mfor\u001B[39;00m x, value \u001B[38;5;129;01min\u001B[39;00m tuples:\n\u001B[0;32m-> 3706\u001B[0m     \u001B[43mx\u001B[49m\u001B[38;5;241;43m.\u001B[39;49m\u001B[43massign\u001B[49m\u001B[43m(\u001B[49m\u001B[43mnp\u001B[49m\u001B[38;5;241;43m.\u001B[39;49m\u001B[43masarray\u001B[49m\u001B[43m(\u001B[49m\u001B[43mvalue\u001B[49m\u001B[43m,\u001B[49m\u001B[43m \u001B[49m\u001B[43mdtype\u001B[49m\u001B[38;5;241;43m=\u001B[39;49m\u001B[43mdtype\u001B[49m\u001B[43m(\u001B[49m\u001B[43mx\u001B[49m\u001B[43m)\u001B[49m\u001B[43m)\u001B[49m\u001B[43m)\u001B[49m\n\u001B[1;32m   3707\u001B[0m \u001B[38;5;28;01melse\u001B[39;00m:\n\u001B[1;32m   3708\u001B[0m   \u001B[38;5;28;01mwith\u001B[39;00m get_graph()\u001B[38;5;241m.\u001B[39mas_default():\n",
      "File \u001B[0;32m~/anaconda3/envs/pythonProject/lib/python3.9/site-packages/tensorflow/python/ops/resource_variable_ops.py:892\u001B[0m, in \u001B[0;36mBaseResourceVariable.assign\u001B[0;34m(self, value, use_locking, name, read_value)\u001B[0m\n\u001B[1;32m    887\u001B[0m     tensor_name \u001B[38;5;241m=\u001B[39m \u001B[38;5;124m\"\u001B[39m\u001B[38;5;124m \u001B[39m\u001B[38;5;124m\"\u001B[39m \u001B[38;5;241m+\u001B[39m \u001B[38;5;28mstr\u001B[39m(\u001B[38;5;28mself\u001B[39m\u001B[38;5;241m.\u001B[39mname)\n\u001B[1;32m    888\u001B[0m   \u001B[38;5;28;01mraise\u001B[39;00m \u001B[38;5;167;01mValueError\u001B[39;00m(\n\u001B[1;32m    889\u001B[0m       (\u001B[38;5;124m\"\u001B[39m\u001B[38;5;124mCannot assign to variable\u001B[39m\u001B[38;5;132;01m%s\u001B[39;00m\u001B[38;5;124m due to variable shape \u001B[39m\u001B[38;5;132;01m%s\u001B[39;00m\u001B[38;5;124m and value \u001B[39m\u001B[38;5;124m\"\u001B[39m\n\u001B[1;32m    890\u001B[0m        \u001B[38;5;124m\"\u001B[39m\u001B[38;5;124mshape \u001B[39m\u001B[38;5;132;01m%s\u001B[39;00m\u001B[38;5;124m are incompatible\u001B[39m\u001B[38;5;124m\"\u001B[39m) \u001B[38;5;241m%\u001B[39m\n\u001B[1;32m    891\u001B[0m       (tensor_name, \u001B[38;5;28mself\u001B[39m\u001B[38;5;241m.\u001B[39m_shape, value_tensor\u001B[38;5;241m.\u001B[39mshape))\n\u001B[0;32m--> 892\u001B[0m assign_op \u001B[38;5;241m=\u001B[39m \u001B[43mgen_resource_variable_ops\u001B[49m\u001B[38;5;241;43m.\u001B[39;49m\u001B[43massign_variable_op\u001B[49m\u001B[43m(\u001B[49m\n\u001B[1;32m    893\u001B[0m \u001B[43m    \u001B[49m\u001B[38;5;28;43mself\u001B[39;49m\u001B[38;5;241;43m.\u001B[39;49m\u001B[43mhandle\u001B[49m\u001B[43m,\u001B[49m\u001B[43m \u001B[49m\u001B[43mvalue_tensor\u001B[49m\u001B[43m,\u001B[49m\u001B[43m \u001B[49m\u001B[43mname\u001B[49m\u001B[38;5;241;43m=\u001B[39;49m\u001B[43mname\u001B[49m\u001B[43m)\u001B[49m\n\u001B[1;32m    894\u001B[0m \u001B[38;5;28;01mif\u001B[39;00m read_value:\n\u001B[1;32m    895\u001B[0m   \u001B[38;5;28;01mreturn\u001B[39;00m \u001B[38;5;28mself\u001B[39m\u001B[38;5;241m.\u001B[39m_lazy_read(assign_op)\n",
      "File \u001B[0;32m~/anaconda3/envs/pythonProject/lib/python3.9/site-packages/tensorflow/python/ops/gen_resource_variable_ops.py:141\u001B[0m, in \u001B[0;36massign_variable_op\u001B[0;34m(resource, value, name)\u001B[0m\n\u001B[1;32m    139\u001B[0m \u001B[38;5;28;01mif\u001B[39;00m tld\u001B[38;5;241m.\u001B[39mis_eager:\n\u001B[1;32m    140\u001B[0m   \u001B[38;5;28;01mtry\u001B[39;00m:\n\u001B[0;32m--> 141\u001B[0m     _result \u001B[38;5;241m=\u001B[39m \u001B[43mpywrap_tfe\u001B[49m\u001B[38;5;241;43m.\u001B[39;49m\u001B[43mTFE_Py_FastPathExecute\u001B[49m\u001B[43m(\u001B[49m\n\u001B[1;32m    142\u001B[0m \u001B[43m      \u001B[49m\u001B[43m_ctx\u001B[49m\u001B[43m,\u001B[49m\u001B[43m \u001B[49m\u001B[38;5;124;43m\"\u001B[39;49m\u001B[38;5;124;43mAssignVariableOp\u001B[39;49m\u001B[38;5;124;43m\"\u001B[39;49m\u001B[43m,\u001B[49m\u001B[43m \u001B[49m\u001B[43mname\u001B[49m\u001B[43m,\u001B[49m\u001B[43m \u001B[49m\u001B[43mresource\u001B[49m\u001B[43m,\u001B[49m\u001B[43m \u001B[49m\u001B[43mvalue\u001B[49m\u001B[43m)\u001B[49m\n\u001B[1;32m    143\u001B[0m     \u001B[38;5;28;01mreturn\u001B[39;00m _result\n\u001B[1;32m    144\u001B[0m   \u001B[38;5;28;01mexcept\u001B[39;00m _core\u001B[38;5;241m.\u001B[39m_NotOkStatusException \u001B[38;5;28;01mas\u001B[39;00m e:\n",
      "\u001B[0;31mKeyboardInterrupt\u001B[0m: "
     ]
    }
   ],
   "source": [
    "train(generator, discriminator, gan_model, dataset, latent_dim)"
   ]
  },
  {
   "cell_type": "code",
   "execution_count": 4,
   "outputs": [
    {
     "ename": "InternalError",
     "evalue": "CUDA runtime implicit initialization on GPU:0 failed. Status: out of memory",
     "output_type": "error",
     "traceback": [
      "\u001B[0;31m---------------------------------------------------------------------------\u001B[0m",
      "\u001B[0;31mInternalError\u001B[0m                             Traceback (most recent call last)",
      "Input \u001B[0;32mIn [4]\u001B[0m, in \u001B[0;36m<cell line: 1>\u001B[0;34m()\u001B[0m\n\u001B[0;32m----> 1\u001B[0m model \u001B[38;5;241m=\u001B[39m \u001B[43mkeras\u001B[49m\u001B[38;5;241;43m.\u001B[39;49m\u001B[43mmodels\u001B[49m\u001B[38;5;241;43m.\u001B[39;49m\u001B[43mload_model\u001B[49m\u001B[43m(\u001B[49m\u001B[38;5;124;43m'\u001B[39;49m\u001B[38;5;124;43mgenerator.h5\u001B[39;49m\u001B[38;5;124;43m'\u001B[39;49m\u001B[43m,\u001B[49m\u001B[43m \u001B[49m\u001B[38;5;28;43mcompile\u001B[39;49m\u001B[43m \u001B[49m\u001B[38;5;241;43m=\u001B[39;49m\u001B[43m \u001B[49m\u001B[38;5;28;43;01mFalse\u001B[39;49;00m\u001B[43m)\u001B[49m\n\u001B[1;32m      2\u001B[0m latent_points \u001B[38;5;241m=\u001B[39m generate_latent_points(\u001B[38;5;241m100\u001B[39m, \u001B[38;5;241m5\u001B[39m)\n\u001B[1;32m      3\u001B[0m X \u001B[38;5;241m=\u001B[39m model\u001B[38;5;241m.\u001B[39mpredict(latent_points)\n",
      "File \u001B[0;32m~/anaconda3/envs/pythonProject/lib/python3.9/site-packages/tensorflow/python/keras/saving/save.py:206\u001B[0m, in \u001B[0;36mload_model\u001B[0;34m(filepath, custom_objects, compile, options)\u001B[0m\n\u001B[1;32m    203\u001B[0m \u001B[38;5;28;01mwith\u001B[39;00m load_context\u001B[38;5;241m.\u001B[39mload_context(options):\n\u001B[1;32m    204\u001B[0m   \u001B[38;5;28;01mif\u001B[39;00m (h5py \u001B[38;5;129;01mis\u001B[39;00m \u001B[38;5;129;01mnot\u001B[39;00m \u001B[38;5;28;01mNone\u001B[39;00m \u001B[38;5;129;01mand\u001B[39;00m\n\u001B[1;32m    205\u001B[0m       (\u001B[38;5;28misinstance\u001B[39m(filepath, h5py\u001B[38;5;241m.\u001B[39mFile) \u001B[38;5;129;01mor\u001B[39;00m h5py\u001B[38;5;241m.\u001B[39mis_hdf5(filepath))):\n\u001B[0;32m--> 206\u001B[0m     \u001B[38;5;28;01mreturn\u001B[39;00m \u001B[43mhdf5_format\u001B[49m\u001B[38;5;241;43m.\u001B[39;49m\u001B[43mload_model_from_hdf5\u001B[49m\u001B[43m(\u001B[49m\u001B[43mfilepath\u001B[49m\u001B[43m,\u001B[49m\u001B[43m \u001B[49m\u001B[43mcustom_objects\u001B[49m\u001B[43m,\u001B[49m\n\u001B[1;32m    207\u001B[0m \u001B[43m                                            \u001B[49m\u001B[38;5;28;43mcompile\u001B[39;49m\u001B[43m)\u001B[49m\n\u001B[1;32m    209\u001B[0m   filepath \u001B[38;5;241m=\u001B[39m path_to_string(filepath)\n\u001B[1;32m    210\u001B[0m   \u001B[38;5;28;01mif\u001B[39;00m \u001B[38;5;28misinstance\u001B[39m(filepath, six\u001B[38;5;241m.\u001B[39mstring_types):\n",
      "File \u001B[0;32m~/anaconda3/envs/pythonProject/lib/python3.9/site-packages/tensorflow/python/keras/saving/hdf5_format.py:183\u001B[0m, in \u001B[0;36mload_model_from_hdf5\u001B[0;34m(filepath, custom_objects, compile)\u001B[0m\n\u001B[1;32m    181\u001B[0m   \u001B[38;5;28;01mraise\u001B[39;00m \u001B[38;5;167;01mValueError\u001B[39;00m(\u001B[38;5;124m'\u001B[39m\u001B[38;5;124mNo model found in config file.\u001B[39m\u001B[38;5;124m'\u001B[39m)\n\u001B[1;32m    182\u001B[0m model_config \u001B[38;5;241m=\u001B[39m json_utils\u001B[38;5;241m.\u001B[39mdecode(model_config\u001B[38;5;241m.\u001B[39mdecode(\u001B[38;5;124m'\u001B[39m\u001B[38;5;124mutf-8\u001B[39m\u001B[38;5;124m'\u001B[39m))\n\u001B[0;32m--> 183\u001B[0m model \u001B[38;5;241m=\u001B[39m \u001B[43mmodel_config_lib\u001B[49m\u001B[38;5;241;43m.\u001B[39;49m\u001B[43mmodel_from_config\u001B[49m\u001B[43m(\u001B[49m\u001B[43mmodel_config\u001B[49m\u001B[43m,\u001B[49m\n\u001B[1;32m    184\u001B[0m \u001B[43m                                           \u001B[49m\u001B[43mcustom_objects\u001B[49m\u001B[38;5;241;43m=\u001B[39;49m\u001B[43mcustom_objects\u001B[49m\u001B[43m)\u001B[49m\n\u001B[1;32m    186\u001B[0m \u001B[38;5;66;03m# set weights\u001B[39;00m\n\u001B[1;32m    187\u001B[0m load_weights_from_hdf5_group(f[\u001B[38;5;124m'\u001B[39m\u001B[38;5;124mmodel_weights\u001B[39m\u001B[38;5;124m'\u001B[39m], model\u001B[38;5;241m.\u001B[39mlayers)\n",
      "File \u001B[0;32m~/anaconda3/envs/pythonProject/lib/python3.9/site-packages/tensorflow/python/keras/saving/model_config.py:64\u001B[0m, in \u001B[0;36mmodel_from_config\u001B[0;34m(config, custom_objects)\u001B[0m\n\u001B[1;32m     60\u001B[0m   \u001B[38;5;28;01mraise\u001B[39;00m \u001B[38;5;167;01mTypeError\u001B[39;00m(\u001B[38;5;124m'\u001B[39m\u001B[38;5;124m`model_from_config` expects a dictionary, not a list. \u001B[39m\u001B[38;5;124m'\u001B[39m\n\u001B[1;32m     61\u001B[0m                   \u001B[38;5;124m'\u001B[39m\u001B[38;5;124mMaybe you meant to use \u001B[39m\u001B[38;5;124m'\u001B[39m\n\u001B[1;32m     62\u001B[0m                   \u001B[38;5;124m'\u001B[39m\u001B[38;5;124m`Sequential.from_config(config)`?\u001B[39m\u001B[38;5;124m'\u001B[39m)\n\u001B[1;32m     63\u001B[0m \u001B[38;5;28;01mfrom\u001B[39;00m \u001B[38;5;21;01mtensorflow\u001B[39;00m\u001B[38;5;21;01m.\u001B[39;00m\u001B[38;5;21;01mpython\u001B[39;00m\u001B[38;5;21;01m.\u001B[39;00m\u001B[38;5;21;01mkeras\u001B[39;00m\u001B[38;5;21;01m.\u001B[39;00m\u001B[38;5;21;01mlayers\u001B[39;00m \u001B[38;5;28;01mimport\u001B[39;00m deserialize  \u001B[38;5;66;03m# pylint: disable=g-import-not-at-top\u001B[39;00m\n\u001B[0;32m---> 64\u001B[0m \u001B[38;5;28;01mreturn\u001B[39;00m \u001B[43mdeserialize\u001B[49m\u001B[43m(\u001B[49m\u001B[43mconfig\u001B[49m\u001B[43m,\u001B[49m\u001B[43m \u001B[49m\u001B[43mcustom_objects\u001B[49m\u001B[38;5;241;43m=\u001B[39;49m\u001B[43mcustom_objects\u001B[49m\u001B[43m)\u001B[49m\n",
      "File \u001B[0;32m~/anaconda3/envs/pythonProject/lib/python3.9/site-packages/tensorflow/python/keras/layers/serialization.py:173\u001B[0m, in \u001B[0;36mdeserialize\u001B[0;34m(config, custom_objects)\u001B[0m\n\u001B[1;32m    162\u001B[0m \u001B[38;5;124;03m\"\"\"Instantiates a layer from a config dictionary.\u001B[39;00m\n\u001B[1;32m    163\u001B[0m \n\u001B[1;32m    164\u001B[0m \u001B[38;5;124;03mArguments:\u001B[39;00m\n\u001B[0;32m   (...)\u001B[0m\n\u001B[1;32m    170\u001B[0m \u001B[38;5;124;03m    Layer instance (may be Model, Sequential, Network, Layer...)\u001B[39;00m\n\u001B[1;32m    171\u001B[0m \u001B[38;5;124;03m\"\"\"\u001B[39;00m\n\u001B[1;32m    172\u001B[0m populate_deserializable_objects()\n\u001B[0;32m--> 173\u001B[0m \u001B[38;5;28;01mreturn\u001B[39;00m \u001B[43mgeneric_utils\u001B[49m\u001B[38;5;241;43m.\u001B[39;49m\u001B[43mdeserialize_keras_object\u001B[49m\u001B[43m(\u001B[49m\n\u001B[1;32m    174\u001B[0m \u001B[43m    \u001B[49m\u001B[43mconfig\u001B[49m\u001B[43m,\u001B[49m\n\u001B[1;32m    175\u001B[0m \u001B[43m    \u001B[49m\u001B[43mmodule_objects\u001B[49m\u001B[38;5;241;43m=\u001B[39;49m\u001B[43mLOCAL\u001B[49m\u001B[38;5;241;43m.\u001B[39;49m\u001B[43mALL_OBJECTS\u001B[49m\u001B[43m,\u001B[49m\n\u001B[1;32m    176\u001B[0m \u001B[43m    \u001B[49m\u001B[43mcustom_objects\u001B[49m\u001B[38;5;241;43m=\u001B[39;49m\u001B[43mcustom_objects\u001B[49m\u001B[43m,\u001B[49m\n\u001B[1;32m    177\u001B[0m \u001B[43m    \u001B[49m\u001B[43mprintable_module_name\u001B[49m\u001B[38;5;241;43m=\u001B[39;49m\u001B[38;5;124;43m'\u001B[39;49m\u001B[38;5;124;43mlayer\u001B[39;49m\u001B[38;5;124;43m'\u001B[39;49m\u001B[43m)\u001B[49m\n",
      "File \u001B[0;32m~/anaconda3/envs/pythonProject/lib/python3.9/site-packages/tensorflow/python/keras/utils/generic_utils.py:354\u001B[0m, in \u001B[0;36mdeserialize_keras_object\u001B[0;34m(identifier, module_objects, custom_objects, printable_module_name)\u001B[0m\n\u001B[1;32m    351\u001B[0m custom_objects \u001B[38;5;241m=\u001B[39m custom_objects \u001B[38;5;129;01mor\u001B[39;00m {}\n\u001B[1;32m    353\u001B[0m \u001B[38;5;28;01mif\u001B[39;00m \u001B[38;5;124m'\u001B[39m\u001B[38;5;124mcustom_objects\u001B[39m\u001B[38;5;124m'\u001B[39m \u001B[38;5;129;01min\u001B[39;00m arg_spec\u001B[38;5;241m.\u001B[39margs:\n\u001B[0;32m--> 354\u001B[0m   \u001B[38;5;28;01mreturn\u001B[39;00m \u001B[38;5;28;43mcls\u001B[39;49m\u001B[38;5;241;43m.\u001B[39;49m\u001B[43mfrom_config\u001B[49m\u001B[43m(\u001B[49m\n\u001B[1;32m    355\u001B[0m \u001B[43m      \u001B[49m\u001B[43mcls_config\u001B[49m\u001B[43m,\u001B[49m\n\u001B[1;32m    356\u001B[0m \u001B[43m      \u001B[49m\u001B[43mcustom_objects\u001B[49m\u001B[38;5;241;43m=\u001B[39;49m\u001B[38;5;28;43mdict\u001B[39;49m\u001B[43m(\u001B[49m\n\u001B[1;32m    357\u001B[0m \u001B[43m          \u001B[49m\u001B[38;5;28;43mlist\u001B[39;49m\u001B[43m(\u001B[49m\u001B[43m_GLOBAL_CUSTOM_OBJECTS\u001B[49m\u001B[38;5;241;43m.\u001B[39;49m\u001B[43mitems\u001B[49m\u001B[43m(\u001B[49m\u001B[43m)\u001B[49m\u001B[43m)\u001B[49m\u001B[43m \u001B[49m\u001B[38;5;241;43m+\u001B[39;49m\n\u001B[1;32m    358\u001B[0m \u001B[43m          \u001B[49m\u001B[38;5;28;43mlist\u001B[39;49m\u001B[43m(\u001B[49m\u001B[43mcustom_objects\u001B[49m\u001B[38;5;241;43m.\u001B[39;49m\u001B[43mitems\u001B[49m\u001B[43m(\u001B[49m\u001B[43m)\u001B[49m\u001B[43m)\u001B[49m\u001B[43m)\u001B[49m\u001B[43m)\u001B[49m\n\u001B[1;32m    359\u001B[0m \u001B[38;5;28;01mwith\u001B[39;00m CustomObjectScope(custom_objects):\n\u001B[1;32m    360\u001B[0m   \u001B[38;5;28;01mreturn\u001B[39;00m \u001B[38;5;28mcls\u001B[39m\u001B[38;5;241m.\u001B[39mfrom_config(cls_config)\n",
      "File \u001B[0;32m~/anaconda3/envs/pythonProject/lib/python3.9/site-packages/tensorflow/python/keras/engine/sequential.py:490\u001B[0m, in \u001B[0;36mSequential.from_config\u001B[0;34m(cls, config, custom_objects)\u001B[0m\n\u001B[1;32m    488\u001B[0m   build_input_shape \u001B[38;5;241m=\u001B[39m \u001B[38;5;28;01mNone\u001B[39;00m\n\u001B[1;32m    489\u001B[0m   layer_configs \u001B[38;5;241m=\u001B[39m config\n\u001B[0;32m--> 490\u001B[0m model \u001B[38;5;241m=\u001B[39m \u001B[38;5;28;43mcls\u001B[39;49m\u001B[43m(\u001B[49m\u001B[43mname\u001B[49m\u001B[38;5;241;43m=\u001B[39;49m\u001B[43mname\u001B[49m\u001B[43m)\u001B[49m\n\u001B[1;32m    491\u001B[0m \u001B[38;5;28;01mfor\u001B[39;00m layer_config \u001B[38;5;129;01min\u001B[39;00m layer_configs:\n\u001B[1;32m    492\u001B[0m   layer \u001B[38;5;241m=\u001B[39m layer_module\u001B[38;5;241m.\u001B[39mdeserialize(layer_config,\n\u001B[1;32m    493\u001B[0m                                    custom_objects\u001B[38;5;241m=\u001B[39mcustom_objects)\n",
      "File \u001B[0;32m~/anaconda3/envs/pythonProject/lib/python3.9/site-packages/tensorflow/python/training/tracking/base.py:517\u001B[0m, in \u001B[0;36mno_automatic_dependency_tracking.<locals>._method_wrapper\u001B[0;34m(self, *args, **kwargs)\u001B[0m\n\u001B[1;32m    515\u001B[0m \u001B[38;5;28mself\u001B[39m\u001B[38;5;241m.\u001B[39m_self_setattr_tracking \u001B[38;5;241m=\u001B[39m \u001B[38;5;28;01mFalse\u001B[39;00m  \u001B[38;5;66;03m# pylint: disable=protected-access\u001B[39;00m\n\u001B[1;32m    516\u001B[0m \u001B[38;5;28;01mtry\u001B[39;00m:\n\u001B[0;32m--> 517\u001B[0m   result \u001B[38;5;241m=\u001B[39m \u001B[43mmethod\u001B[49m\u001B[43m(\u001B[49m\u001B[38;5;28;43mself\u001B[39;49m\u001B[43m,\u001B[49m\u001B[43m \u001B[49m\u001B[38;5;241;43m*\u001B[39;49m\u001B[43margs\u001B[49m\u001B[43m,\u001B[49m\u001B[43m \u001B[49m\u001B[38;5;241;43m*\u001B[39;49m\u001B[38;5;241;43m*\u001B[39;49m\u001B[43mkwargs\u001B[49m\u001B[43m)\u001B[49m\n\u001B[1;32m    518\u001B[0m \u001B[38;5;28;01mfinally\u001B[39;00m:\n\u001B[1;32m    519\u001B[0m   \u001B[38;5;28mself\u001B[39m\u001B[38;5;241m.\u001B[39m_self_setattr_tracking \u001B[38;5;241m=\u001B[39m previous_value  \u001B[38;5;66;03m# pylint: disable=protected-access\u001B[39;00m\n",
      "File \u001B[0;32m~/anaconda3/envs/pythonProject/lib/python3.9/site-packages/tensorflow/python/keras/engine/sequential.py:117\u001B[0m, in \u001B[0;36mSequential.__init__\u001B[0;34m(self, layers, name)\u001B[0m\n\u001B[1;32m    110\u001B[0m \u001B[38;5;124;03m\"\"\"Creates a `Sequential` model instance.\u001B[39;00m\n\u001B[1;32m    111\u001B[0m \n\u001B[1;32m    112\u001B[0m \u001B[38;5;124;03mArgs:\u001B[39;00m\n\u001B[1;32m    113\u001B[0m \u001B[38;5;124;03m  layers: Optional list of layers to add to the model.\u001B[39;00m\n\u001B[1;32m    114\u001B[0m \u001B[38;5;124;03m  name: Optional name for the model.\u001B[39;00m\n\u001B[1;32m    115\u001B[0m \u001B[38;5;124;03m\"\"\"\u001B[39;00m\n\u001B[1;32m    116\u001B[0m \u001B[38;5;66;03m# Skip the init in FunctionalModel since model doesn't have input/output yet\u001B[39;00m\n\u001B[0;32m--> 117\u001B[0m \u001B[38;5;28;43msuper\u001B[39;49m\u001B[43m(\u001B[49m\u001B[43mfunctional\u001B[49m\u001B[38;5;241;43m.\u001B[39;49m\u001B[43mFunctional\u001B[49m\u001B[43m,\u001B[49m\u001B[43m \u001B[49m\u001B[38;5;28;43mself\u001B[39;49m\u001B[43m)\u001B[49m\u001B[38;5;241;43m.\u001B[39;49m\u001B[38;5;21;43m__init__\u001B[39;49m\u001B[43m(\u001B[49m\u001B[43m  \u001B[49m\u001B[38;5;66;43;03m# pylint: disable=bad-super-call\u001B[39;49;00m\n\u001B[1;32m    118\u001B[0m \u001B[43m    \u001B[49m\u001B[43mname\u001B[49m\u001B[38;5;241;43m=\u001B[39;49m\u001B[43mname\u001B[49m\u001B[43m,\u001B[49m\u001B[43m \u001B[49m\u001B[43mautocast\u001B[49m\u001B[38;5;241;43m=\u001B[39;49m\u001B[38;5;28;43;01mFalse\u001B[39;49;00m\u001B[43m)\u001B[49m\n\u001B[1;32m    119\u001B[0m base_layer\u001B[38;5;241m.\u001B[39mkeras_api_gauge\u001B[38;5;241m.\u001B[39mget_cell(\u001B[38;5;124m'\u001B[39m\u001B[38;5;124mSequential\u001B[39m\u001B[38;5;124m'\u001B[39m)\u001B[38;5;241m.\u001B[39mset(\u001B[38;5;28;01mTrue\u001B[39;00m)\n\u001B[1;32m    120\u001B[0m \u001B[38;5;28mself\u001B[39m\u001B[38;5;241m.\u001B[39msupports_masking \u001B[38;5;241m=\u001B[39m \u001B[38;5;28;01mTrue\u001B[39;00m\n",
      "File \u001B[0;32m~/anaconda3/envs/pythonProject/lib/python3.9/site-packages/tensorflow/python/training/tracking/base.py:517\u001B[0m, in \u001B[0;36mno_automatic_dependency_tracking.<locals>._method_wrapper\u001B[0;34m(self, *args, **kwargs)\u001B[0m\n\u001B[1;32m    515\u001B[0m \u001B[38;5;28mself\u001B[39m\u001B[38;5;241m.\u001B[39m_self_setattr_tracking \u001B[38;5;241m=\u001B[39m \u001B[38;5;28;01mFalse\u001B[39;00m  \u001B[38;5;66;03m# pylint: disable=protected-access\u001B[39;00m\n\u001B[1;32m    516\u001B[0m \u001B[38;5;28;01mtry\u001B[39;00m:\n\u001B[0;32m--> 517\u001B[0m   result \u001B[38;5;241m=\u001B[39m \u001B[43mmethod\u001B[49m\u001B[43m(\u001B[49m\u001B[38;5;28;43mself\u001B[39;49m\u001B[43m,\u001B[49m\u001B[43m \u001B[49m\u001B[38;5;241;43m*\u001B[39;49m\u001B[43margs\u001B[49m\u001B[43m,\u001B[49m\u001B[43m \u001B[49m\u001B[38;5;241;43m*\u001B[39;49m\u001B[38;5;241;43m*\u001B[39;49m\u001B[43mkwargs\u001B[49m\u001B[43m)\u001B[49m\n\u001B[1;32m    518\u001B[0m \u001B[38;5;28;01mfinally\u001B[39;00m:\n\u001B[1;32m    519\u001B[0m   \u001B[38;5;28mself\u001B[39m\u001B[38;5;241m.\u001B[39m_self_setattr_tracking \u001B[38;5;241m=\u001B[39m previous_value  \u001B[38;5;66;03m# pylint: disable=protected-access\u001B[39;00m\n",
      "File \u001B[0;32m~/anaconda3/envs/pythonProject/lib/python3.9/site-packages/tensorflow/python/keras/engine/training.py:293\u001B[0m, in \u001B[0;36mModel.__init__\u001B[0;34m(self, *args, **kwargs)\u001B[0m\n\u001B[1;32m    288\u001B[0m \u001B[38;5;28mself\u001B[39m\u001B[38;5;241m.\u001B[39m_trackable_saver \u001B[38;5;241m=\u001B[39m (\n\u001B[1;32m    289\u001B[0m     trackable_utils\u001B[38;5;241m.\u001B[39msaver_with_op_caching(\u001B[38;5;28mself\u001B[39m))\n\u001B[1;32m    291\u001B[0m \u001B[38;5;28mself\u001B[39m\u001B[38;5;241m.\u001B[39m_steps_per_execution \u001B[38;5;241m=\u001B[39m \u001B[38;5;28;01mNone\u001B[39;00m\n\u001B[0;32m--> 293\u001B[0m \u001B[38;5;28;43mself\u001B[39;49m\u001B[38;5;241;43m.\u001B[39;49m\u001B[43m_init_batch_counters\u001B[49m\u001B[43m(\u001B[49m\u001B[43m)\u001B[49m\n\u001B[1;32m    294\u001B[0m \u001B[38;5;28mself\u001B[39m\u001B[38;5;241m.\u001B[39m_base_model_initialized \u001B[38;5;241m=\u001B[39m \u001B[38;5;28;01mTrue\u001B[39;00m\n",
      "File \u001B[0;32m~/anaconda3/envs/pythonProject/lib/python3.9/site-packages/tensorflow/python/training/tracking/base.py:517\u001B[0m, in \u001B[0;36mno_automatic_dependency_tracking.<locals>._method_wrapper\u001B[0;34m(self, *args, **kwargs)\u001B[0m\n\u001B[1;32m    515\u001B[0m \u001B[38;5;28mself\u001B[39m\u001B[38;5;241m.\u001B[39m_self_setattr_tracking \u001B[38;5;241m=\u001B[39m \u001B[38;5;28;01mFalse\u001B[39;00m  \u001B[38;5;66;03m# pylint: disable=protected-access\u001B[39;00m\n\u001B[1;32m    516\u001B[0m \u001B[38;5;28;01mtry\u001B[39;00m:\n\u001B[0;32m--> 517\u001B[0m   result \u001B[38;5;241m=\u001B[39m \u001B[43mmethod\u001B[49m\u001B[43m(\u001B[49m\u001B[38;5;28;43mself\u001B[39;49m\u001B[43m,\u001B[49m\u001B[43m \u001B[49m\u001B[38;5;241;43m*\u001B[39;49m\u001B[43margs\u001B[49m\u001B[43m,\u001B[49m\u001B[43m \u001B[49m\u001B[38;5;241;43m*\u001B[39;49m\u001B[38;5;241;43m*\u001B[39;49m\u001B[43mkwargs\u001B[49m\u001B[43m)\u001B[49m\n\u001B[1;32m    518\u001B[0m \u001B[38;5;28;01mfinally\u001B[39;00m:\n\u001B[1;32m    519\u001B[0m   \u001B[38;5;28mself\u001B[39m\u001B[38;5;241m.\u001B[39m_self_setattr_tracking \u001B[38;5;241m=\u001B[39m previous_value  \u001B[38;5;66;03m# pylint: disable=protected-access\u001B[39;00m\n",
      "File \u001B[0;32m~/anaconda3/envs/pythonProject/lib/python3.9/site-packages/tensorflow/python/keras/engine/training.py:301\u001B[0m, in \u001B[0;36mModel._init_batch_counters\u001B[0;34m(self)\u001B[0m\n\u001B[1;32m    296\u001B[0m \u001B[38;5;129m@trackable\u001B[39m\u001B[38;5;241m.\u001B[39mno_automatic_dependency_tracking\n\u001B[1;32m    297\u001B[0m \u001B[38;5;28;01mdef\u001B[39;00m \u001B[38;5;21m_init_batch_counters\u001B[39m(\u001B[38;5;28mself\u001B[39m):\n\u001B[1;32m    298\u001B[0m   \u001B[38;5;66;03m# Untracked Variables, used to keep track of mini-batches seen in `fit`,\u001B[39;00m\n\u001B[1;32m    299\u001B[0m   \u001B[38;5;66;03m# `evaluate`, and `predict`.\u001B[39;00m\n\u001B[1;32m    300\u001B[0m   agg \u001B[38;5;241m=\u001B[39m variables\u001B[38;5;241m.\u001B[39mVariableAggregationV2\u001B[38;5;241m.\u001B[39mONLY_FIRST_REPLICA\n\u001B[0;32m--> 301\u001B[0m   \u001B[38;5;28mself\u001B[39m\u001B[38;5;241m.\u001B[39m_train_counter \u001B[38;5;241m=\u001B[39m \u001B[43mvariables\u001B[49m\u001B[38;5;241;43m.\u001B[39;49m\u001B[43mVariable\u001B[49m\u001B[43m(\u001B[49m\u001B[38;5;241;43m0\u001B[39;49m\u001B[43m,\u001B[49m\u001B[43m \u001B[49m\u001B[43mdtype\u001B[49m\u001B[38;5;241;43m=\u001B[39;49m\u001B[38;5;124;43m'\u001B[39;49m\u001B[38;5;124;43mint64\u001B[39;49m\u001B[38;5;124;43m'\u001B[39;49m\u001B[43m,\u001B[49m\u001B[43m \u001B[49m\u001B[43maggregation\u001B[49m\u001B[38;5;241;43m=\u001B[39;49m\u001B[43magg\u001B[49m\u001B[43m)\u001B[49m\n\u001B[1;32m    302\u001B[0m   \u001B[38;5;28mself\u001B[39m\u001B[38;5;241m.\u001B[39m_test_counter \u001B[38;5;241m=\u001B[39m variables\u001B[38;5;241m.\u001B[39mVariable(\u001B[38;5;241m0\u001B[39m, dtype\u001B[38;5;241m=\u001B[39m\u001B[38;5;124m'\u001B[39m\u001B[38;5;124mint64\u001B[39m\u001B[38;5;124m'\u001B[39m, aggregation\u001B[38;5;241m=\u001B[39magg)\n\u001B[1;32m    303\u001B[0m   \u001B[38;5;28mself\u001B[39m\u001B[38;5;241m.\u001B[39m_predict_counter \u001B[38;5;241m=\u001B[39m variables\u001B[38;5;241m.\u001B[39mVariable(\n\u001B[1;32m    304\u001B[0m       \u001B[38;5;241m0\u001B[39m, dtype\u001B[38;5;241m=\u001B[39m\u001B[38;5;124m'\u001B[39m\u001B[38;5;124mint64\u001B[39m\u001B[38;5;124m'\u001B[39m, aggregation\u001B[38;5;241m=\u001B[39magg)\n",
      "File \u001B[0;32m~/anaconda3/envs/pythonProject/lib/python3.9/site-packages/tensorflow/python/ops/variables.py:262\u001B[0m, in \u001B[0;36mVariableMetaclass.__call__\u001B[0;34m(cls, *args, **kwargs)\u001B[0m\n\u001B[1;32m    260\u001B[0m   \u001B[38;5;28;01mreturn\u001B[39;00m \u001B[38;5;28mcls\u001B[39m\u001B[38;5;241m.\u001B[39m_variable_v1_call(\u001B[38;5;241m*\u001B[39margs, \u001B[38;5;241m*\u001B[39m\u001B[38;5;241m*\u001B[39mkwargs)\n\u001B[1;32m    261\u001B[0m \u001B[38;5;28;01melif\u001B[39;00m \u001B[38;5;28mcls\u001B[39m \u001B[38;5;129;01mis\u001B[39;00m Variable:\n\u001B[0;32m--> 262\u001B[0m   \u001B[38;5;28;01mreturn\u001B[39;00m \u001B[38;5;28;43mcls\u001B[39;49m\u001B[38;5;241;43m.\u001B[39;49m\u001B[43m_variable_v2_call\u001B[49m\u001B[43m(\u001B[49m\u001B[38;5;241;43m*\u001B[39;49m\u001B[43margs\u001B[49m\u001B[43m,\u001B[49m\u001B[43m \u001B[49m\u001B[38;5;241;43m*\u001B[39;49m\u001B[38;5;241;43m*\u001B[39;49m\u001B[43mkwargs\u001B[49m\u001B[43m)\u001B[49m\n\u001B[1;32m    263\u001B[0m \u001B[38;5;28;01melse\u001B[39;00m:\n\u001B[1;32m    264\u001B[0m   \u001B[38;5;28;01mreturn\u001B[39;00m \u001B[38;5;28msuper\u001B[39m(VariableMetaclass, \u001B[38;5;28mcls\u001B[39m)\u001B[38;5;241m.\u001B[39m\u001B[38;5;21m__call__\u001B[39m(\u001B[38;5;241m*\u001B[39margs, \u001B[38;5;241m*\u001B[39m\u001B[38;5;241m*\u001B[39mkwargs)\n",
      "File \u001B[0;32m~/anaconda3/envs/pythonProject/lib/python3.9/site-packages/tensorflow/python/ops/variables.py:244\u001B[0m, in \u001B[0;36mVariableMetaclass._variable_v2_call\u001B[0;34m(cls, initial_value, trainable, validate_shape, caching_device, name, variable_def, dtype, import_scope, constraint, synchronization, aggregation, shape)\u001B[0m\n\u001B[1;32m    242\u001B[0m \u001B[38;5;28;01mif\u001B[39;00m aggregation \u001B[38;5;129;01mis\u001B[39;00m \u001B[38;5;28;01mNone\u001B[39;00m:\n\u001B[1;32m    243\u001B[0m   aggregation \u001B[38;5;241m=\u001B[39m VariableAggregation\u001B[38;5;241m.\u001B[39mNONE\n\u001B[0;32m--> 244\u001B[0m \u001B[38;5;28;01mreturn\u001B[39;00m \u001B[43mprevious_getter\u001B[49m\u001B[43m(\u001B[49m\n\u001B[1;32m    245\u001B[0m \u001B[43m    \u001B[49m\u001B[43minitial_value\u001B[49m\u001B[38;5;241;43m=\u001B[39;49m\u001B[43minitial_value\u001B[49m\u001B[43m,\u001B[49m\n\u001B[1;32m    246\u001B[0m \u001B[43m    \u001B[49m\u001B[43mtrainable\u001B[49m\u001B[38;5;241;43m=\u001B[39;49m\u001B[43mtrainable\u001B[49m\u001B[43m,\u001B[49m\n\u001B[1;32m    247\u001B[0m \u001B[43m    \u001B[49m\u001B[43mvalidate_shape\u001B[49m\u001B[38;5;241;43m=\u001B[39;49m\u001B[43mvalidate_shape\u001B[49m\u001B[43m,\u001B[49m\n\u001B[1;32m    248\u001B[0m \u001B[43m    \u001B[49m\u001B[43mcaching_device\u001B[49m\u001B[38;5;241;43m=\u001B[39;49m\u001B[43mcaching_device\u001B[49m\u001B[43m,\u001B[49m\n\u001B[1;32m    249\u001B[0m \u001B[43m    \u001B[49m\u001B[43mname\u001B[49m\u001B[38;5;241;43m=\u001B[39;49m\u001B[43mname\u001B[49m\u001B[43m,\u001B[49m\n\u001B[1;32m    250\u001B[0m \u001B[43m    \u001B[49m\u001B[43mvariable_def\u001B[49m\u001B[38;5;241;43m=\u001B[39;49m\u001B[43mvariable_def\u001B[49m\u001B[43m,\u001B[49m\n\u001B[1;32m    251\u001B[0m \u001B[43m    \u001B[49m\u001B[43mdtype\u001B[49m\u001B[38;5;241;43m=\u001B[39;49m\u001B[43mdtype\u001B[49m\u001B[43m,\u001B[49m\n\u001B[1;32m    252\u001B[0m \u001B[43m    \u001B[49m\u001B[43mimport_scope\u001B[49m\u001B[38;5;241;43m=\u001B[39;49m\u001B[43mimport_scope\u001B[49m\u001B[43m,\u001B[49m\n\u001B[1;32m    253\u001B[0m \u001B[43m    \u001B[49m\u001B[43mconstraint\u001B[49m\u001B[38;5;241;43m=\u001B[39;49m\u001B[43mconstraint\u001B[49m\u001B[43m,\u001B[49m\n\u001B[1;32m    254\u001B[0m \u001B[43m    \u001B[49m\u001B[43msynchronization\u001B[49m\u001B[38;5;241;43m=\u001B[39;49m\u001B[43msynchronization\u001B[49m\u001B[43m,\u001B[49m\n\u001B[1;32m    255\u001B[0m \u001B[43m    \u001B[49m\u001B[43maggregation\u001B[49m\u001B[38;5;241;43m=\u001B[39;49m\u001B[43maggregation\u001B[49m\u001B[43m,\u001B[49m\n\u001B[1;32m    256\u001B[0m \u001B[43m    \u001B[49m\u001B[43mshape\u001B[49m\u001B[38;5;241;43m=\u001B[39;49m\u001B[43mshape\u001B[49m\u001B[43m)\u001B[49m\n",
      "File \u001B[0;32m~/anaconda3/envs/pythonProject/lib/python3.9/site-packages/tensorflow/python/ops/variables.py:237\u001B[0m, in \u001B[0;36mVariableMetaclass._variable_v2_call.<locals>.<lambda>\u001B[0;34m(**kws)\u001B[0m\n\u001B[1;32m    223\u001B[0m \u001B[38;5;28;01mdef\u001B[39;00m \u001B[38;5;21m_variable_v2_call\u001B[39m(\u001B[38;5;28mcls\u001B[39m,\n\u001B[1;32m    224\u001B[0m                       initial_value\u001B[38;5;241m=\u001B[39m\u001B[38;5;28;01mNone\u001B[39;00m,\n\u001B[1;32m    225\u001B[0m                       trainable\u001B[38;5;241m=\u001B[39m\u001B[38;5;28;01mNone\u001B[39;00m,\n\u001B[0;32m   (...)\u001B[0m\n\u001B[1;32m    234\u001B[0m                       aggregation\u001B[38;5;241m=\u001B[39mVariableAggregation\u001B[38;5;241m.\u001B[39mNONE,\n\u001B[1;32m    235\u001B[0m                       shape\u001B[38;5;241m=\u001B[39m\u001B[38;5;28;01mNone\u001B[39;00m):\n\u001B[1;32m    236\u001B[0m   \u001B[38;5;124;03m\"\"\"Call on Variable class. Useful to force the signature.\"\"\"\u001B[39;00m\n\u001B[0;32m--> 237\u001B[0m   previous_getter \u001B[38;5;241m=\u001B[39m \u001B[38;5;28;01mlambda\u001B[39;00m \u001B[38;5;241m*\u001B[39m\u001B[38;5;241m*\u001B[39mkws: \u001B[43mdefault_variable_creator_v2\u001B[49m\u001B[43m(\u001B[49m\u001B[38;5;28;43;01mNone\u001B[39;49;00m\u001B[43m,\u001B[49m\u001B[43m \u001B[49m\u001B[38;5;241;43m*\u001B[39;49m\u001B[38;5;241;43m*\u001B[39;49m\u001B[43mkws\u001B[49m\u001B[43m)\u001B[49m\n\u001B[1;32m    238\u001B[0m   \u001B[38;5;28;01mfor\u001B[39;00m _, getter \u001B[38;5;129;01min\u001B[39;00m ops\u001B[38;5;241m.\u001B[39mget_default_graph()\u001B[38;5;241m.\u001B[39m_variable_creator_stack:  \u001B[38;5;66;03m# pylint: disable=protected-access\u001B[39;00m\n\u001B[1;32m    239\u001B[0m     previous_getter \u001B[38;5;241m=\u001B[39m _make_getter(getter, previous_getter)\n",
      "File \u001B[0;32m~/anaconda3/envs/pythonProject/lib/python3.9/site-packages/tensorflow/python/ops/variable_scope.py:2654\u001B[0m, in \u001B[0;36mdefault_variable_creator_v2\u001B[0;34m(next_creator, **kwargs)\u001B[0m\n\u001B[1;32m   2651\u001B[0m aggregation \u001B[38;5;241m=\u001B[39m kwargs\u001B[38;5;241m.\u001B[39mget(\u001B[38;5;124m\"\u001B[39m\u001B[38;5;124maggregation\u001B[39m\u001B[38;5;124m\"\u001B[39m, \u001B[38;5;28;01mNone\u001B[39;00m)\n\u001B[1;32m   2652\u001B[0m shape \u001B[38;5;241m=\u001B[39m kwargs\u001B[38;5;241m.\u001B[39mget(\u001B[38;5;124m\"\u001B[39m\u001B[38;5;124mshape\u001B[39m\u001B[38;5;124m\"\u001B[39m, \u001B[38;5;28;01mNone\u001B[39;00m)\n\u001B[0;32m-> 2654\u001B[0m \u001B[38;5;28;01mreturn\u001B[39;00m \u001B[43mresource_variable_ops\u001B[49m\u001B[38;5;241;43m.\u001B[39;49m\u001B[43mResourceVariable\u001B[49m\u001B[43m(\u001B[49m\n\u001B[1;32m   2655\u001B[0m \u001B[43m    \u001B[49m\u001B[43minitial_value\u001B[49m\u001B[38;5;241;43m=\u001B[39;49m\u001B[43minitial_value\u001B[49m\u001B[43m,\u001B[49m\n\u001B[1;32m   2656\u001B[0m \u001B[43m    \u001B[49m\u001B[43mtrainable\u001B[49m\u001B[38;5;241;43m=\u001B[39;49m\u001B[43mtrainable\u001B[49m\u001B[43m,\u001B[49m\n\u001B[1;32m   2657\u001B[0m \u001B[43m    \u001B[49m\u001B[43mvalidate_shape\u001B[49m\u001B[38;5;241;43m=\u001B[39;49m\u001B[43mvalidate_shape\u001B[49m\u001B[43m,\u001B[49m\n\u001B[1;32m   2658\u001B[0m \u001B[43m    \u001B[49m\u001B[43mcaching_device\u001B[49m\u001B[38;5;241;43m=\u001B[39;49m\u001B[43mcaching_device\u001B[49m\u001B[43m,\u001B[49m\n\u001B[1;32m   2659\u001B[0m \u001B[43m    \u001B[49m\u001B[43mname\u001B[49m\u001B[38;5;241;43m=\u001B[39;49m\u001B[43mname\u001B[49m\u001B[43m,\u001B[49m\n\u001B[1;32m   2660\u001B[0m \u001B[43m    \u001B[49m\u001B[43mdtype\u001B[49m\u001B[38;5;241;43m=\u001B[39;49m\u001B[43mdtype\u001B[49m\u001B[43m,\u001B[49m\n\u001B[1;32m   2661\u001B[0m \u001B[43m    \u001B[49m\u001B[43mconstraint\u001B[49m\u001B[38;5;241;43m=\u001B[39;49m\u001B[43mconstraint\u001B[49m\u001B[43m,\u001B[49m\n\u001B[1;32m   2662\u001B[0m \u001B[43m    \u001B[49m\u001B[43mvariable_def\u001B[49m\u001B[38;5;241;43m=\u001B[39;49m\u001B[43mvariable_def\u001B[49m\u001B[43m,\u001B[49m\n\u001B[1;32m   2663\u001B[0m \u001B[43m    \u001B[49m\u001B[43mimport_scope\u001B[49m\u001B[38;5;241;43m=\u001B[39;49m\u001B[43mimport_scope\u001B[49m\u001B[43m,\u001B[49m\n\u001B[1;32m   2664\u001B[0m \u001B[43m    \u001B[49m\u001B[43mdistribute_strategy\u001B[49m\u001B[38;5;241;43m=\u001B[39;49m\u001B[43mdistribute_strategy\u001B[49m\u001B[43m,\u001B[49m\n\u001B[1;32m   2665\u001B[0m \u001B[43m    \u001B[49m\u001B[43msynchronization\u001B[49m\u001B[38;5;241;43m=\u001B[39;49m\u001B[43msynchronization\u001B[49m\u001B[43m,\u001B[49m\n\u001B[1;32m   2666\u001B[0m \u001B[43m    \u001B[49m\u001B[43maggregation\u001B[49m\u001B[38;5;241;43m=\u001B[39;49m\u001B[43maggregation\u001B[49m\u001B[43m,\u001B[49m\n\u001B[1;32m   2667\u001B[0m \u001B[43m    \u001B[49m\u001B[43mshape\u001B[49m\u001B[38;5;241;43m=\u001B[39;49m\u001B[43mshape\u001B[49m\u001B[43m)\u001B[49m\n",
      "File \u001B[0;32m~/anaconda3/envs/pythonProject/lib/python3.9/site-packages/tensorflow/python/ops/variables.py:264\u001B[0m, in \u001B[0;36mVariableMetaclass.__call__\u001B[0;34m(cls, *args, **kwargs)\u001B[0m\n\u001B[1;32m    262\u001B[0m   \u001B[38;5;28;01mreturn\u001B[39;00m \u001B[38;5;28mcls\u001B[39m\u001B[38;5;241m.\u001B[39m_variable_v2_call(\u001B[38;5;241m*\u001B[39margs, \u001B[38;5;241m*\u001B[39m\u001B[38;5;241m*\u001B[39mkwargs)\n\u001B[1;32m    263\u001B[0m \u001B[38;5;28;01melse\u001B[39;00m:\n\u001B[0;32m--> 264\u001B[0m   \u001B[38;5;28;01mreturn\u001B[39;00m \u001B[38;5;28;43msuper\u001B[39;49m\u001B[43m(\u001B[49m\u001B[43mVariableMetaclass\u001B[49m\u001B[43m,\u001B[49m\u001B[43m \u001B[49m\u001B[38;5;28;43mcls\u001B[39;49m\u001B[43m)\u001B[49m\u001B[38;5;241;43m.\u001B[39;49m\u001B[38;5;21;43m__call__\u001B[39;49m\u001B[43m(\u001B[49m\u001B[38;5;241;43m*\u001B[39;49m\u001B[43margs\u001B[49m\u001B[43m,\u001B[49m\u001B[43m \u001B[49m\u001B[38;5;241;43m*\u001B[39;49m\u001B[38;5;241;43m*\u001B[39;49m\u001B[43mkwargs\u001B[49m\u001B[43m)\u001B[49m\n",
      "File \u001B[0;32m~/anaconda3/envs/pythonProject/lib/python3.9/site-packages/tensorflow/python/ops/resource_variable_ops.py:1574\u001B[0m, in \u001B[0;36mResourceVariable.__init__\u001B[0;34m(self, initial_value, trainable, collections, validate_shape, caching_device, name, dtype, variable_def, import_scope, constraint, distribute_strategy, synchronization, aggregation, shape)\u001B[0m\n\u001B[1;32m   1572\u001B[0m   \u001B[38;5;28mself\u001B[39m\u001B[38;5;241m.\u001B[39m_init_from_proto(variable_def, import_scope\u001B[38;5;241m=\u001B[39mimport_scope)\n\u001B[1;32m   1573\u001B[0m \u001B[38;5;28;01melse\u001B[39;00m:\n\u001B[0;32m-> 1574\u001B[0m   \u001B[38;5;28;43mself\u001B[39;49m\u001B[38;5;241;43m.\u001B[39;49m\u001B[43m_init_from_args\u001B[49m\u001B[43m(\u001B[49m\n\u001B[1;32m   1575\u001B[0m \u001B[43m      \u001B[49m\u001B[43minitial_value\u001B[49m\u001B[38;5;241;43m=\u001B[39;49m\u001B[43minitial_value\u001B[49m\u001B[43m,\u001B[49m\n\u001B[1;32m   1576\u001B[0m \u001B[43m      \u001B[49m\u001B[43mtrainable\u001B[49m\u001B[38;5;241;43m=\u001B[39;49m\u001B[43mtrainable\u001B[49m\u001B[43m,\u001B[49m\n\u001B[1;32m   1577\u001B[0m \u001B[43m      \u001B[49m\u001B[43mcollections\u001B[49m\u001B[38;5;241;43m=\u001B[39;49m\u001B[43mcollections\u001B[49m\u001B[43m,\u001B[49m\n\u001B[1;32m   1578\u001B[0m \u001B[43m      \u001B[49m\u001B[43mcaching_device\u001B[49m\u001B[38;5;241;43m=\u001B[39;49m\u001B[43mcaching_device\u001B[49m\u001B[43m,\u001B[49m\n\u001B[1;32m   1579\u001B[0m \u001B[43m      \u001B[49m\u001B[43mname\u001B[49m\u001B[38;5;241;43m=\u001B[39;49m\u001B[43mname\u001B[49m\u001B[43m,\u001B[49m\n\u001B[1;32m   1580\u001B[0m \u001B[43m      \u001B[49m\u001B[43mdtype\u001B[49m\u001B[38;5;241;43m=\u001B[39;49m\u001B[43mdtype\u001B[49m\u001B[43m,\u001B[49m\n\u001B[1;32m   1581\u001B[0m \u001B[43m      \u001B[49m\u001B[43mconstraint\u001B[49m\u001B[38;5;241;43m=\u001B[39;49m\u001B[43mconstraint\u001B[49m\u001B[43m,\u001B[49m\n\u001B[1;32m   1582\u001B[0m \u001B[43m      \u001B[49m\u001B[43msynchronization\u001B[49m\u001B[38;5;241;43m=\u001B[39;49m\u001B[43msynchronization\u001B[49m\u001B[43m,\u001B[49m\n\u001B[1;32m   1583\u001B[0m \u001B[43m      \u001B[49m\u001B[43maggregation\u001B[49m\u001B[38;5;241;43m=\u001B[39;49m\u001B[43maggregation\u001B[49m\u001B[43m,\u001B[49m\n\u001B[1;32m   1584\u001B[0m \u001B[43m      \u001B[49m\u001B[43mshape\u001B[49m\u001B[38;5;241;43m=\u001B[39;49m\u001B[43mshape\u001B[49m\u001B[43m,\u001B[49m\n\u001B[1;32m   1585\u001B[0m \u001B[43m      \u001B[49m\u001B[43mdistribute_strategy\u001B[49m\u001B[38;5;241;43m=\u001B[39;49m\u001B[43mdistribute_strategy\u001B[49m\u001B[43m)\u001B[49m\n",
      "File \u001B[0;32m~/anaconda3/envs/pythonProject/lib/python3.9/site-packages/tensorflow/python/ops/resource_variable_ops.py:1717\u001B[0m, in \u001B[0;36mResourceVariable._init_from_args\u001B[0;34m(self, initial_value, trainable, collections, caching_device, name, dtype, constraint, synchronization, aggregation, distribute_strategy, shape)\u001B[0m\n\u001B[1;32m   1715\u001B[0m     \u001B[38;5;28mself\u001B[39m\u001B[38;5;241m.\u001B[39m_update_uid \u001B[38;5;241m=\u001B[39m initial_value\u001B[38;5;241m.\u001B[39mcheckpoint_position\u001B[38;5;241m.\u001B[39mrestore_uid\n\u001B[1;32m   1716\u001B[0m     initial_value \u001B[38;5;241m=\u001B[39m initial_value\u001B[38;5;241m.\u001B[39mwrapped_value\n\u001B[0;32m-> 1717\u001B[0m   initial_value \u001B[38;5;241m=\u001B[39m \u001B[43mops\u001B[49m\u001B[38;5;241;43m.\u001B[39;49m\u001B[43mconvert_to_tensor\u001B[49m\u001B[43m(\u001B[49m\u001B[43minitial_value\u001B[49m\u001B[43m,\u001B[49m\n\u001B[1;32m   1718\u001B[0m \u001B[43m                                        \u001B[49m\u001B[43mname\u001B[49m\u001B[38;5;241;43m=\u001B[39;49m\u001B[38;5;124;43m\"\u001B[39;49m\u001B[38;5;124;43minitial_value\u001B[39;49m\u001B[38;5;124;43m\"\u001B[39;49m\u001B[43m,\u001B[49m\n\u001B[1;32m   1719\u001B[0m \u001B[43m                                        \u001B[49m\u001B[43mdtype\u001B[49m\u001B[38;5;241;43m=\u001B[39;49m\u001B[43mdtype\u001B[49m\u001B[43m)\u001B[49m\n\u001B[1;32m   1720\u001B[0m \u001B[38;5;28;01mif\u001B[39;00m shape \u001B[38;5;129;01mis\u001B[39;00m \u001B[38;5;129;01mnot\u001B[39;00m \u001B[38;5;28;01mNone\u001B[39;00m:\n\u001B[1;32m   1721\u001B[0m   \u001B[38;5;28;01mif\u001B[39;00m \u001B[38;5;129;01mnot\u001B[39;00m initial_value\u001B[38;5;241m.\u001B[39mshape\u001B[38;5;241m.\u001B[39mis_compatible_with(shape):\n",
      "File \u001B[0;32m~/anaconda3/envs/pythonProject/lib/python3.9/site-packages/tensorflow/python/profiler/trace.py:163\u001B[0m, in \u001B[0;36mtrace_wrapper.<locals>.inner_wrapper.<locals>.wrapped\u001B[0;34m(*args, **kwargs)\u001B[0m\n\u001B[1;32m    161\u001B[0m   \u001B[38;5;28;01mwith\u001B[39;00m Trace(trace_name, \u001B[38;5;241m*\u001B[39m\u001B[38;5;241m*\u001B[39mtrace_kwargs):\n\u001B[1;32m    162\u001B[0m     \u001B[38;5;28;01mreturn\u001B[39;00m func(\u001B[38;5;241m*\u001B[39margs, \u001B[38;5;241m*\u001B[39m\u001B[38;5;241m*\u001B[39mkwargs)\n\u001B[0;32m--> 163\u001B[0m \u001B[38;5;28;01mreturn\u001B[39;00m \u001B[43mfunc\u001B[49m\u001B[43m(\u001B[49m\u001B[38;5;241;43m*\u001B[39;49m\u001B[43margs\u001B[49m\u001B[43m,\u001B[49m\u001B[43m \u001B[49m\u001B[38;5;241;43m*\u001B[39;49m\u001B[38;5;241;43m*\u001B[39;49m\u001B[43mkwargs\u001B[49m\u001B[43m)\u001B[49m\n",
      "File \u001B[0;32m~/anaconda3/envs/pythonProject/lib/python3.9/site-packages/tensorflow/python/framework/ops.py:1540\u001B[0m, in \u001B[0;36mconvert_to_tensor\u001B[0;34m(value, dtype, name, as_ref, preferred_dtype, dtype_hint, ctx, accepted_result_types)\u001B[0m\n\u001B[1;32m   1535\u001B[0m       \u001B[38;5;28;01mraise\u001B[39;00m \u001B[38;5;167;01mTypeError\u001B[39;00m(\u001B[38;5;124m\"\u001B[39m\u001B[38;5;124mconvert_to_tensor did not convert to \u001B[39m\u001B[38;5;124m\"\u001B[39m\n\u001B[1;32m   1536\u001B[0m                       \u001B[38;5;124m\"\u001B[39m\u001B[38;5;124mthe preferred dtype: \u001B[39m\u001B[38;5;132;01m%s\u001B[39;00m\u001B[38;5;124m vs \u001B[39m\u001B[38;5;132;01m%s\u001B[39;00m\u001B[38;5;124m \u001B[39m\u001B[38;5;124m\"\u001B[39m \u001B[38;5;241m%\u001B[39m\n\u001B[1;32m   1537\u001B[0m                       (ret\u001B[38;5;241m.\u001B[39mdtype\u001B[38;5;241m.\u001B[39mbase_dtype, preferred_dtype\u001B[38;5;241m.\u001B[39mbase_dtype))\n\u001B[1;32m   1539\u001B[0m \u001B[38;5;28;01mif\u001B[39;00m ret \u001B[38;5;129;01mis\u001B[39;00m \u001B[38;5;28;01mNone\u001B[39;00m:\n\u001B[0;32m-> 1540\u001B[0m   ret \u001B[38;5;241m=\u001B[39m \u001B[43mconversion_func\u001B[49m\u001B[43m(\u001B[49m\u001B[43mvalue\u001B[49m\u001B[43m,\u001B[49m\u001B[43m \u001B[49m\u001B[43mdtype\u001B[49m\u001B[38;5;241;43m=\u001B[39;49m\u001B[43mdtype\u001B[49m\u001B[43m,\u001B[49m\u001B[43m \u001B[49m\u001B[43mname\u001B[49m\u001B[38;5;241;43m=\u001B[39;49m\u001B[43mname\u001B[49m\u001B[43m,\u001B[49m\u001B[43m \u001B[49m\u001B[43mas_ref\u001B[49m\u001B[38;5;241;43m=\u001B[39;49m\u001B[43mas_ref\u001B[49m\u001B[43m)\u001B[49m\n\u001B[1;32m   1542\u001B[0m \u001B[38;5;28;01mif\u001B[39;00m ret \u001B[38;5;129;01mis\u001B[39;00m \u001B[38;5;28mNotImplemented\u001B[39m:\n\u001B[1;32m   1543\u001B[0m   \u001B[38;5;28;01mcontinue\u001B[39;00m\n",
      "File \u001B[0;32m~/anaconda3/envs/pythonProject/lib/python3.9/site-packages/tensorflow/python/framework/tensor_conversion_registry.py:52\u001B[0m, in \u001B[0;36m_default_conversion_function\u001B[0;34m(***failed resolving arguments***)\u001B[0m\n\u001B[1;32m     50\u001B[0m \u001B[38;5;28;01mdef\u001B[39;00m \u001B[38;5;21m_default_conversion_function\u001B[39m(value, dtype, name, as_ref):\n\u001B[1;32m     51\u001B[0m   \u001B[38;5;28;01mdel\u001B[39;00m as_ref  \u001B[38;5;66;03m# Unused.\u001B[39;00m\n\u001B[0;32m---> 52\u001B[0m   \u001B[38;5;28;01mreturn\u001B[39;00m \u001B[43mconstant_op\u001B[49m\u001B[38;5;241;43m.\u001B[39;49m\u001B[43mconstant\u001B[49m\u001B[43m(\u001B[49m\u001B[43mvalue\u001B[49m\u001B[43m,\u001B[49m\u001B[43m \u001B[49m\u001B[43mdtype\u001B[49m\u001B[43m,\u001B[49m\u001B[43m \u001B[49m\u001B[43mname\u001B[49m\u001B[38;5;241;43m=\u001B[39;49m\u001B[43mname\u001B[49m\u001B[43m)\u001B[49m\n",
      "File \u001B[0;32m~/anaconda3/envs/pythonProject/lib/python3.9/site-packages/tensorflow/python/framework/constant_op.py:264\u001B[0m, in \u001B[0;36mconstant\u001B[0;34m(value, dtype, shape, name)\u001B[0m\n\u001B[1;32m    166\u001B[0m \u001B[38;5;129m@tf_export\u001B[39m(\u001B[38;5;124m\"\u001B[39m\u001B[38;5;124mconstant\u001B[39m\u001B[38;5;124m\"\u001B[39m, v1\u001B[38;5;241m=\u001B[39m[])\n\u001B[1;32m    167\u001B[0m \u001B[38;5;28;01mdef\u001B[39;00m \u001B[38;5;21mconstant\u001B[39m(value, dtype\u001B[38;5;241m=\u001B[39m\u001B[38;5;28;01mNone\u001B[39;00m, shape\u001B[38;5;241m=\u001B[39m\u001B[38;5;28;01mNone\u001B[39;00m, name\u001B[38;5;241m=\u001B[39m\u001B[38;5;124m\"\u001B[39m\u001B[38;5;124mConst\u001B[39m\u001B[38;5;124m\"\u001B[39m):\n\u001B[1;32m    168\u001B[0m   \u001B[38;5;124;03m\"\"\"Creates a constant tensor from a tensor-like object.\u001B[39;00m\n\u001B[1;32m    169\u001B[0m \n\u001B[1;32m    170\u001B[0m \u001B[38;5;124;03m  Note: All eager `tf.Tensor` values are immutable (in contrast to\u001B[39;00m\n\u001B[0;32m   (...)\u001B[0m\n\u001B[1;32m    262\u001B[0m \u001B[38;5;124;03m    ValueError: if called on a symbolic tensor.\u001B[39;00m\n\u001B[1;32m    263\u001B[0m \u001B[38;5;124;03m  \"\"\"\u001B[39;00m\n\u001B[0;32m--> 264\u001B[0m   \u001B[38;5;28;01mreturn\u001B[39;00m \u001B[43m_constant_impl\u001B[49m\u001B[43m(\u001B[49m\u001B[43mvalue\u001B[49m\u001B[43m,\u001B[49m\u001B[43m \u001B[49m\u001B[43mdtype\u001B[49m\u001B[43m,\u001B[49m\u001B[43m \u001B[49m\u001B[43mshape\u001B[49m\u001B[43m,\u001B[49m\u001B[43m \u001B[49m\u001B[43mname\u001B[49m\u001B[43m,\u001B[49m\u001B[43m \u001B[49m\u001B[43mverify_shape\u001B[49m\u001B[38;5;241;43m=\u001B[39;49m\u001B[38;5;28;43;01mFalse\u001B[39;49;00m\u001B[43m,\u001B[49m\n\u001B[1;32m    265\u001B[0m \u001B[43m                        \u001B[49m\u001B[43mallow_broadcast\u001B[49m\u001B[38;5;241;43m=\u001B[39;49m\u001B[38;5;28;43;01mTrue\u001B[39;49;00m\u001B[43m)\u001B[49m\n",
      "File \u001B[0;32m~/anaconda3/envs/pythonProject/lib/python3.9/site-packages/tensorflow/python/framework/constant_op.py:276\u001B[0m, in \u001B[0;36m_constant_impl\u001B[0;34m(value, dtype, shape, name, verify_shape, allow_broadcast)\u001B[0m\n\u001B[1;32m    274\u001B[0m     \u001B[38;5;28;01mwith\u001B[39;00m trace\u001B[38;5;241m.\u001B[39mTrace(\u001B[38;5;124m\"\u001B[39m\u001B[38;5;124mtf.constant\u001B[39m\u001B[38;5;124m\"\u001B[39m):\n\u001B[1;32m    275\u001B[0m       \u001B[38;5;28;01mreturn\u001B[39;00m _constant_eager_impl(ctx, value, dtype, shape, verify_shape)\n\u001B[0;32m--> 276\u001B[0m   \u001B[38;5;28;01mreturn\u001B[39;00m \u001B[43m_constant_eager_impl\u001B[49m\u001B[43m(\u001B[49m\u001B[43mctx\u001B[49m\u001B[43m,\u001B[49m\u001B[43m \u001B[49m\u001B[43mvalue\u001B[49m\u001B[43m,\u001B[49m\u001B[43m \u001B[49m\u001B[43mdtype\u001B[49m\u001B[43m,\u001B[49m\u001B[43m \u001B[49m\u001B[43mshape\u001B[49m\u001B[43m,\u001B[49m\u001B[43m \u001B[49m\u001B[43mverify_shape\u001B[49m\u001B[43m)\u001B[49m\n\u001B[1;32m    278\u001B[0m g \u001B[38;5;241m=\u001B[39m ops\u001B[38;5;241m.\u001B[39mget_default_graph()\n\u001B[1;32m    279\u001B[0m tensor_value \u001B[38;5;241m=\u001B[39m attr_value_pb2\u001B[38;5;241m.\u001B[39mAttrValue()\n",
      "File \u001B[0;32m~/anaconda3/envs/pythonProject/lib/python3.9/site-packages/tensorflow/python/framework/constant_op.py:301\u001B[0m, in \u001B[0;36m_constant_eager_impl\u001B[0;34m(ctx, value, dtype, shape, verify_shape)\u001B[0m\n\u001B[1;32m    299\u001B[0m \u001B[38;5;28;01mdef\u001B[39;00m \u001B[38;5;21m_constant_eager_impl\u001B[39m(ctx, value, dtype, shape, verify_shape):\n\u001B[1;32m    300\u001B[0m   \u001B[38;5;124;03m\"\"\"Implementation of eager constant.\"\"\"\u001B[39;00m\n\u001B[0;32m--> 301\u001B[0m   t \u001B[38;5;241m=\u001B[39m \u001B[43mconvert_to_eager_tensor\u001B[49m\u001B[43m(\u001B[49m\u001B[43mvalue\u001B[49m\u001B[43m,\u001B[49m\u001B[43m \u001B[49m\u001B[43mctx\u001B[49m\u001B[43m,\u001B[49m\u001B[43m \u001B[49m\u001B[43mdtype\u001B[49m\u001B[43m)\u001B[49m\n\u001B[1;32m    302\u001B[0m   \u001B[38;5;28;01mif\u001B[39;00m shape \u001B[38;5;129;01mis\u001B[39;00m \u001B[38;5;28;01mNone\u001B[39;00m:\n\u001B[1;32m    303\u001B[0m     \u001B[38;5;28;01mreturn\u001B[39;00m t\n",
      "File \u001B[0;32m~/anaconda3/envs/pythonProject/lib/python3.9/site-packages/tensorflow/python/framework/constant_op.py:97\u001B[0m, in \u001B[0;36mconvert_to_eager_tensor\u001B[0;34m(value, ctx, dtype)\u001B[0m\n\u001B[1;32m     95\u001B[0m   \u001B[38;5;28;01mexcept\u001B[39;00m \u001B[38;5;167;01mAttributeError\u001B[39;00m:\n\u001B[1;32m     96\u001B[0m     dtype \u001B[38;5;241m=\u001B[39m dtypes\u001B[38;5;241m.\u001B[39mas_dtype(dtype)\u001B[38;5;241m.\u001B[39mas_datatype_enum\n\u001B[0;32m---> 97\u001B[0m \u001B[43mctx\u001B[49m\u001B[38;5;241;43m.\u001B[39;49m\u001B[43mensure_initialized\u001B[49m\u001B[43m(\u001B[49m\u001B[43m)\u001B[49m\n\u001B[1;32m     98\u001B[0m \u001B[38;5;28;01mreturn\u001B[39;00m ops\u001B[38;5;241m.\u001B[39mEagerTensor(value, ctx\u001B[38;5;241m.\u001B[39mdevice_name, dtype)\n",
      "File \u001B[0;32m~/anaconda3/envs/pythonProject/lib/python3.9/site-packages/tensorflow/python/eager/context.py:526\u001B[0m, in \u001B[0;36mContext.ensure_initialized\u001B[0;34m(self)\u001B[0m\n\u001B[1;32m    524\u001B[0m   \u001B[38;5;28;01mif\u001B[39;00m \u001B[38;5;28mself\u001B[39m\u001B[38;5;241m.\u001B[39m_use_tfrt \u001B[38;5;129;01mis\u001B[39;00m \u001B[38;5;129;01mnot\u001B[39;00m \u001B[38;5;28;01mNone\u001B[39;00m:\n\u001B[1;32m    525\u001B[0m     pywrap_tfe\u001B[38;5;241m.\u001B[39mTFE_ContextOptionsSetTfrt(opts, \u001B[38;5;28mself\u001B[39m\u001B[38;5;241m.\u001B[39m_use_tfrt)\n\u001B[0;32m--> 526\u001B[0m   context_handle \u001B[38;5;241m=\u001B[39m \u001B[43mpywrap_tfe\u001B[49m\u001B[38;5;241;43m.\u001B[39;49m\u001B[43mTFE_NewContext\u001B[49m\u001B[43m(\u001B[49m\u001B[43mopts\u001B[49m\u001B[43m)\u001B[49m\n\u001B[1;32m    527\u001B[0m \u001B[38;5;28;01mfinally\u001B[39;00m:\n\u001B[1;32m    528\u001B[0m   pywrap_tfe\u001B[38;5;241m.\u001B[39mTFE_DeleteContextOptions(opts)\n",
      "\u001B[0;31mInternalError\u001B[0m: CUDA runtime implicit initialization on GPU:0 failed. Status: out of memory"
     ]
    }
   ],
   "source": [
    "model = keras.models.load_model('generator.h5', compile = False)\n",
    "latent_points = generate_latent_points(100, 5)\n",
    "X = model.predict(latent_points)\n",
    "show_plot(X, 5)"
   ],
   "metadata": {
    "collapsed": false,
    "pycharm": {
     "name": "#%%\n"
    }
   }
  },
  {
   "cell_type": "code",
   "execution_count": null,
   "outputs": [],
   "source": [],
   "metadata": {
    "collapsed": false,
    "pycharm": {
     "name": "#%%\n"
    }
   }
  }
 ],
 "metadata": {
  "kernelspec": {
   "display_name": "Python 3",
   "language": "python",
   "name": "python3"
  },
  "language_info": {
   "codemirror_mode": {
    "name": "ipython",
    "version": 3
   },
   "file_extension": ".py",
   "mimetype": "text/x-python",
   "name": "python",
   "nbconvert_exporter": "python",
   "pygments_lexer": "ipython3",
   "version": "3.9.5"
  }
 },
 "nbformat": 4,
 "nbformat_minor": 1
}