{
 "cells": [
  {
   "cell_type": "code",
   "execution_count": 1,
   "metadata": {
    "collapsed": true
   },
   "outputs": [],
   "source": [
    "from numpy import expand_dims\n",
    "from numpy import zeros\n",
    "from numpy import ones\n",
    "from keras.datasets.fashion_mnist import load_data\n",
    "from keras.optimizers import Adam\n",
    "from keras.models import Model\n",
    "from keras.layers import Input\n",
    "from keras.layers import Dense\n",
    "from keras.layers import Reshape\n",
    "from keras.layers import Flatten\n",
    "from keras.layers import Conv2D\n",
    "from keras.layers import Conv2DTranspose\n",
    "from keras.layers import LeakyReLU\n",
    "from keras.layers import Dropout\n",
    "from keras.layers import Embedding\n",
    "from keras.layers import Concatenate\n",
    "import matplotlib.pyplot as plt\n",
    "from numpy import asarray\n",
    "from numpy.random import randn\n",
    "from numpy.random import randint\n",
    "from keras.models import load_model"
   ]
  },
  {
   "cell_type": "code",
   "execution_count": 2,
   "outputs": [],
   "source": [
    "# create and save a plot of generated images\n",
    "def save_plot(examples, n):\n",
    "\t# plot images\n",
    "\tfor i in range(n * n):\n",
    "\t\t# define subplot\n",
    "\t\tplt.subplot(n, n, 1 + i)\n",
    "\t\t# turn off axis\n",
    "\t\tplt.axis('off')\n",
    "\t\t# plot raw pixel data\n",
    "\t\tplt.imshow(examples[i, :, :, 0], cmap='gray_r')\n",
    "\tplt.show()"
   ],
   "metadata": {
    "collapsed": false,
    "pycharm": {
     "name": "#%%\n"
    }
   }
  },
  {
   "cell_type": "code",
   "execution_count": 3,
   "outputs": [],
   "source": [
    "# define the standalone discriminator model\n",
    "def define_discriminator(in_shape=(28,28,1), n_classes=10):\n",
    "\t# label input\n",
    "\tin_label = Input(shape=(1,))\n",
    "\t# embedding for categorical input\n",
    "\tli = Embedding(n_classes, 50)(in_label)\n",
    "\t# scale up to image dimensions with linear activation\n",
    "\tn_nodes = in_shape[0] * in_shape[1]\n",
    "\tli = Dense(n_nodes)(li)\n",
    "\t# reshape to additional channel\n",
    "\tli = Reshape((in_shape[0], in_shape[1], 1))(li)\n",
    "\t# image input\n",
    "\tin_image = Input(shape=in_shape)\n",
    "\t# concat label as a channel\n",
    "\tmerge = Concatenate()([in_image, li])\n",
    "\t# downsample\n",
    "\tfe = Conv2D(128, (3,3), strides=(2,2), padding='same')(merge)\n",
    "\tfe = LeakyReLU(alpha=0.2)(fe)\n",
    "\t# downsample\n",
    "\tfe = Conv2D(128, (3,3), strides=(2,2), padding='same')(fe)\n",
    "\tfe = LeakyReLU(alpha=0.2)(fe)\n",
    "\t# flatten feature maps\n",
    "\tfe = Flatten()(fe)\n",
    "\t# dropout\n",
    "\tfe = Dropout(0.4)(fe)\n",
    "\t# output\n",
    "\tout_layer = Dense(1, activation='sigmoid')(fe)\n",
    "\t# define model\n",
    "\tmodel = Model([in_image, in_label], out_layer)\n",
    "\t# compile model\n",
    "\topt = Adam(lr=0.0002, beta_1=0.5)\n",
    "\tmodel.compile(loss='binary_crossentropy', optimizer=opt, metrics=['accuracy'])\n",
    "\treturn model"
   ],
   "metadata": {
    "collapsed": false,
    "pycharm": {
     "name": "#%%\n"
    }
   }
  },
  {
   "cell_type": "code",
   "execution_count": null,
   "outputs": [],
   "source": [
    "# define projection discriminator\n",
    "\n",
    "def discriminator_projection(in_shape = (28, 28, 1), n_classes = 10):"
   ],
   "metadata": {
    "collapsed": false,
    "pycharm": {
     "name": "#%%\n"
    }
   }
  },
  {
   "cell_type": "code",
   "execution_count": 4,
   "outputs": [],
   "source": [
    "# define the standalone generator model\n",
    "def define_generator(latent_dim, n_classes=10):\n",
    "\t# label input\n",
    "\tin_label = Input(shape=(1,))\n",
    "\t# embedding for categorical input\n",
    "\tli = Embedding(n_classes, 50)(in_label)\n",
    "\t# linear multiplication\n",
    "\tn_nodes = 7 * 7\n",
    "\tli = Dense(n_nodes)(li)\n",
    "\t# reshape to additional channel\n",
    "\tli = Reshape((7, 7, 1))(li)\n",
    "\t# image generator input\n",
    "\tin_lat = Input(shape=(latent_dim,))\n",
    "\t# foundation for 7x7 image\n",
    "\tn_nodes = 128 * 7 * 7\n",
    "\tgen = Dense(n_nodes)(in_lat)\n",
    "\tgen = LeakyReLU(alpha=0.2)(gen)\n",
    "\tgen = Reshape((7, 7, 128))(gen)\n",
    "\t# merge image gen and label input\n",
    "\tmerge = Concatenate()([gen, li])\n",
    "\t# upsample to 14x14\n",
    "\tgen = Conv2DTranspose(128, (4,4), strides=(2,2), padding='same')(merge)\n",
    "\tgen = LeakyReLU(alpha=0.2)(gen)\n",
    "\t# upsample to 28x28\n",
    "\tgen = Conv2DTranspose(128, (4,4), strides=(2,2), padding='same')(gen)\n",
    "\tgen = LeakyReLU(alpha=0.2)(gen)\n",
    "\t# output\n",
    "\tout_layer = Conv2D(1, (7,7), activation='tanh', padding='same')(gen)\n",
    "\t# define model\n",
    "\tmodel = Model([in_lat, in_label], out_layer)\n",
    "\treturn model"
   ],
   "metadata": {
    "collapsed": false,
    "pycharm": {
     "name": "#%%\n"
    }
   }
  },
  {
   "cell_type": "code",
   "execution_count": 5,
   "outputs": [],
   "source": [
    "# define the combined generator and discriminator model, for updating the generator\n",
    "def define_gan(g_model, d_model):\n",
    "\t# make weights in the discriminator not trainable\n",
    "\td_model.trainable = False\n",
    "\t# get noise and label inputs from generator model\n",
    "\tgen_noise, gen_label = g_model.input\n",
    "\t# get image output from the generator model\n",
    "\tgen_output = g_model.output\n",
    "\t# connect image output and label input from generator as inputs to discriminator\n",
    "\tgan_output = d_model([gen_output, gen_label])\n",
    "\t# define gan model as taking noise and label and outputting a classification\n",
    "\tmodel = Model([gen_noise, gen_label], gan_output)\n",
    "\t# compile model\n",
    "\topt = Adam(lr=0.0002, beta_1=0.5)\n",
    "\tmodel.compile(loss='binary_crossentropy', optimizer=opt)\n",
    "\treturn model"
   ],
   "metadata": {
    "collapsed": false,
    "pycharm": {
     "name": "#%%\n"
    }
   }
  },
  {
   "cell_type": "code",
   "execution_count": 6,
   "outputs": [],
   "source": [
    "def load_real_samples():\n",
    "\t# load dataset\n",
    "\t(trainX, trainy), (_, _) = load_data()\n",
    "\t# expand to 3d, e.g. add channels\n",
    "\tX = expand_dims(trainX, axis=-1)\n",
    "\t# convert from ints to floats\n",
    "\tX = X.astype('float32')\n",
    "\t# scale from [0,255] to [-1,1]\n",
    "\tX = (X - 127.5) / 127.5\n",
    "\treturn [X, trainy]"
   ],
   "metadata": {
    "collapsed": false,
    "pycharm": {
     "name": "#%%\n"
    }
   }
  },
  {
   "cell_type": "code",
   "execution_count": 7,
   "outputs": [],
   "source": [
    "def generate_real_samples(dataset, n_samples):\n",
    "\t# split into images and labels\n",
    "\timages, labels = dataset\n",
    "\t# choose random instances\n",
    "\tix = randint(0, images.shape[0], n_samples)\n",
    "\t# select images and labels\n",
    "\tX, labels = images[ix], labels[ix]\n",
    "\t# generate class labels\n",
    "\ty = ones((n_samples, 1))\n",
    "\treturn [X, labels], y"
   ],
   "metadata": {
    "collapsed": false,
    "pycharm": {
     "name": "#%%\n"
    }
   }
  },
  {
   "cell_type": "code",
   "execution_count": 8,
   "outputs": [],
   "source": [
    "# generate points in latent space as input for the generator\n",
    "def generate_latent_points(latent_dim, n_samples, n_classes=10):\n",
    "\t# generate points in the latent space\n",
    "\tx_input = randn(latent_dim * n_samples)\n",
    "\t# reshape into a batch of inputs for the network\n",
    "\tz_input = x_input.reshape(n_samples, latent_dim)\n",
    "\t# generate labels\n",
    "\tlabels = randint(0, n_classes, n_samples)\n",
    "\treturn [z_input, labels]"
   ],
   "metadata": {
    "collapsed": false,
    "pycharm": {
     "name": "#%%\n"
    }
   }
  },
  {
   "cell_type": "code",
   "execution_count": 9,
   "outputs": [],
   "source": [
    "# use the generator to generate n fake examples, with class labels\n",
    "def generate_fake_samples(generator, latent_dim, n_samples):\n",
    "\t# generate points in latent space\n",
    "\tz_input, labels_input = generate_latent_points(latent_dim, n_samples)\n",
    "\t# predict outputs\n",
    "\timages = generator.predict([z_input, labels_input])\n",
    "\t# create class labels\n",
    "\ty = zeros((n_samples, 1))\n",
    "\treturn [images, labels_input], y"
   ],
   "metadata": {
    "collapsed": false,
    "pycharm": {
     "name": "#%%\n"
    }
   }
  },
  {
   "cell_type": "code",
   "execution_count": 10,
   "outputs": [],
   "source": [
    "# train the generator and discriminator\n",
    "def train(g_model, d_model, gan_model, dataset, latent_dim, n_epochs=100, n_batch=128):\n",
    "\tbat_per_epo = int(dataset[0].shape[0] / n_batch)\n",
    "\thalf_batch = int(n_batch / 2)\n",
    "\t# manually enumerate epochs\n",
    "\tfor i in range(n_epochs):\n",
    "\t\t# enumerate batches over the training set\n",
    "\t\tfor j in range(bat_per_epo):\n",
    "\t\t\t# get randomly selected 'real' samples\n",
    "\t\t\t[X_real, labels_real], y_real = generate_real_samples(dataset, half_batch)\n",
    "\t\t\t# update discriminator model weights\n",
    "\t\t\td_loss1, _ = d_model.train_on_batch([X_real, labels_real], y_real)\n",
    "\t\t\t# generate 'fake' examples\n",
    "\t\t\t[X_fake, labels], y_fake = generate_fake_samples(g_model, latent_dim, half_batch)\n",
    "\t\t\t# update discriminator model weights\n",
    "\t\t\td_loss2, _ = d_model.train_on_batch([X_fake, labels], y_fake)\n",
    "\t\t\t# prepare points in latent space as input for the generator\n",
    "\t\t\t[z_input, labels_input] = generate_latent_points(latent_dim, n_batch)\n",
    "\t\t\t# create inverted labels for the fake samples\n",
    "\t\t\ty_gan = ones((n_batch, 1))\n",
    "\t\t\t# update the generator via the discriminator's error\n",
    "\t\t\tg_loss = gan_model.train_on_batch([z_input, labels_input], y_gan)\n",
    "\t\t\t# summarize loss on this batch\n",
    "\t\tprint('>%d, d1=%.3f, d2=%.3f g=%.3f' %\n",
    "\t\t\t(i+1,  d_loss1, d_loss2, g_loss))\n",
    "\t# save the generator model\n",
    "\tg_model.save('cgan_generator.h5')"
   ],
   "metadata": {
    "collapsed": false,
    "pycharm": {
     "name": "#%%\n"
    }
   }
  },
  {
   "cell_type": "code",
   "execution_count": 11,
   "outputs": [
    {
     "name": "stderr",
     "output_type": "stream",
     "text": [
      "2022-05-27 12:51:58.183094: I tensorflow/core/platform/cpu_feature_guard.cc:142] This TensorFlow binary is optimized with oneAPI Deep Neural Network Library (oneDNN) to use the following CPU instructions in performance-critical operations:  SSE4.1 SSE4.2\n",
      "To enable them in other operations, rebuild TensorFlow with the appropriate compiler flags.\n"
     ]
    }
   ],
   "source": [
    "# size of the latent space\n",
    "latent_dim = 100\n",
    "# create the discriminator\n",
    "d_model = define_discriminator()\n",
    "# create the generator\n",
    "g_model = define_generator(latent_dim)\n",
    "# create the gan\n",
    "gan_model = define_gan(g_model, d_model)\n",
    "# load image data\n",
    "dataset = load_real_samples()"
   ],
   "metadata": {
    "collapsed": false,
    "pycharm": {
     "name": "#%%\n"
    }
   }
  },
  {
   "cell_type": "code",
   "execution_count": 16,
   "outputs": [
    {
     "name": "stderr",
     "output_type": "stream",
     "text": [
      "2022-05-25 21:44:14.243237: I tensorflow/compiler/mlir/mlir_graph_optimization_pass.cc:116] None of the MLIR optimization passes are enabled (registered 2)\n",
      "2022-05-25 21:44:14.263798: I tensorflow/core/platform/profile_utils/cpu_utils.cc:112] CPU Frequency: 3199980000 Hz\n",
      "2022-05-25 21:44:14.358930: I tensorflow/stream_executor/platform/default/dso_loader.cc:49] Successfully opened dynamic library libcublas.so.10\n",
      "2022-05-25 21:44:14.524298: I tensorflow/stream_executor/platform/default/dso_loader.cc:49] Successfully opened dynamic library libcudnn.so.7\n",
      "2022-05-25 21:44:15.295393: W tensorflow/stream_executor/gpu/asm_compiler.cc:63] Running ptxas --version returned 256\n",
      "2022-05-25 21:44:15.339424: W tensorflow/stream_executor/gpu/redzone_allocator.cc:314] Internal: ptxas exited with non-zero error code 256, output: \n",
      "Relying on driver to perform ptx compilation. \n",
      "Modify $PATH to customize ptxas location.\n",
      "This message will be only logged once.\n"
     ]
    },
    {
     "name": "stdout",
     "output_type": "stream",
     "text": [
      ">1, d1=0.657, d2=0.658 g=0.754\n",
      ">2, d1=0.637, d2=0.615 g=0.835\n",
      ">3, d1=0.655, d2=0.663 g=0.768\n",
      ">4, d1=0.679, d2=0.665 g=0.782\n",
      ">5, d1=0.643, d2=0.663 g=0.784\n",
      ">6, d1=0.655, d2=0.625 g=0.805\n",
      ">7, d1=0.617, d2=0.709 g=0.760\n",
      ">8, d1=0.711, d2=0.627 g=0.771\n",
      ">9, d1=0.682, d2=0.665 g=0.779\n",
      ">10, d1=0.692, d2=0.667 g=0.774\n",
      ">11, d1=0.683, d2=0.677 g=0.778\n",
      ">12, d1=0.662, d2=0.672 g=0.792\n",
      ">13, d1=0.663, d2=0.685 g=0.772\n",
      ">14, d1=0.683, d2=0.646 g=0.760\n",
      ">15, d1=0.673, d2=0.669 g=0.779\n",
      ">16, d1=0.636, d2=0.652 g=0.766\n",
      ">17, d1=0.669, d2=0.663 g=0.767\n",
      ">18, d1=0.682, d2=0.654 g=0.793\n",
      ">19, d1=0.675, d2=0.646 g=0.791\n",
      ">20, d1=0.697, d2=0.660 g=0.749\n",
      ">21, d1=0.668, d2=0.713 g=0.771\n",
      ">22, d1=0.657, d2=0.702 g=0.758\n",
      ">23, d1=0.665, d2=0.682 g=0.818\n",
      ">24, d1=0.663, d2=0.710 g=0.765\n",
      ">25, d1=0.665, d2=0.673 g=0.770\n",
      ">26, d1=0.693, d2=0.638 g=0.835\n",
      ">27, d1=0.705, d2=0.674 g=0.767\n",
      ">28, d1=0.684, d2=0.677 g=0.798\n",
      ">29, d1=0.727, d2=0.699 g=0.811\n",
      ">30, d1=0.662, d2=0.673 g=0.775\n",
      ">31, d1=0.707, d2=0.686 g=0.748\n",
      ">32, d1=0.665, d2=0.636 g=0.861\n",
      ">33, d1=0.653, d2=0.671 g=0.767\n",
      ">34, d1=0.631, d2=0.654 g=0.788\n",
      ">35, d1=0.660, d2=0.703 g=0.773\n",
      ">36, d1=0.707, d2=0.656 g=0.781\n",
      ">37, d1=0.681, d2=0.674 g=0.745\n",
      ">38, d1=0.670, d2=0.687 g=0.744\n",
      ">39, d1=0.698, d2=0.646 g=0.778\n",
      ">40, d1=0.721, d2=0.724 g=0.813\n",
      ">41, d1=0.661, d2=0.661 g=0.796\n",
      ">42, d1=0.692, d2=0.679 g=0.766\n",
      ">43, d1=0.692, d2=0.680 g=0.793\n",
      ">44, d1=0.698, d2=0.678 g=0.770\n",
      ">45, d1=0.691, d2=0.633 g=0.812\n",
      ">46, d1=0.691, d2=0.648 g=0.773\n",
      ">47, d1=0.716, d2=0.666 g=0.786\n",
      ">48, d1=0.664, d2=0.641 g=0.778\n",
      ">49, d1=0.657, d2=0.658 g=0.799\n",
      ">50, d1=0.692, d2=0.730 g=0.756\n",
      ">51, d1=0.695, d2=0.650 g=0.773\n",
      ">52, d1=0.739, d2=0.703 g=0.786\n",
      ">53, d1=0.626, d2=0.701 g=0.763\n",
      ">54, d1=0.701, d2=0.685 g=0.750\n",
      ">55, d1=0.660, d2=0.688 g=0.802\n",
      ">56, d1=0.746, d2=0.716 g=0.814\n",
      ">57, d1=0.725, d2=0.627 g=0.806\n",
      ">58, d1=0.673, d2=0.642 g=0.782\n",
      ">59, d1=0.685, d2=0.689 g=0.800\n",
      ">60, d1=0.668, d2=0.644 g=0.758\n",
      ">61, d1=0.678, d2=0.688 g=0.757\n",
      ">62, d1=0.667, d2=0.663 g=0.774\n",
      ">63, d1=0.718, d2=0.686 g=0.776\n",
      ">64, d1=0.649, d2=0.627 g=0.852\n",
      ">65, d1=0.704, d2=0.668 g=0.763\n",
      ">66, d1=0.688, d2=0.690 g=0.743\n",
      ">67, d1=0.709, d2=0.684 g=0.751\n",
      ">68, d1=0.666, d2=0.672 g=0.801\n",
      ">69, d1=0.732, d2=0.668 g=0.802\n",
      ">70, d1=0.711, d2=0.694 g=0.780\n",
      ">71, d1=0.684, d2=0.720 g=0.764\n",
      ">72, d1=0.676, d2=0.664 g=0.758\n",
      ">73, d1=0.707, d2=0.661 g=0.735\n",
      ">74, d1=0.697, d2=0.671 g=0.810\n",
      ">75, d1=0.701, d2=0.660 g=0.746\n",
      ">76, d1=0.691, d2=0.714 g=0.766\n",
      ">77, d1=0.713, d2=0.708 g=0.747\n",
      ">78, d1=0.664, d2=0.701 g=0.765\n",
      ">79, d1=0.687, d2=0.681 g=0.770\n",
      ">80, d1=0.703, d2=0.693 g=0.765\n",
      ">81, d1=0.682, d2=0.669 g=0.738\n",
      ">82, d1=0.711, d2=0.679 g=0.781\n",
      ">83, d1=0.707, d2=0.708 g=0.752\n",
      ">84, d1=0.666, d2=0.712 g=0.740\n",
      ">85, d1=0.703, d2=0.650 g=0.767\n",
      ">86, d1=0.675, d2=0.657 g=0.772\n",
      ">87, d1=0.701, d2=0.688 g=0.786\n",
      ">88, d1=0.700, d2=0.678 g=0.755\n",
      ">89, d1=0.696, d2=0.650 g=0.791\n",
      ">90, d1=0.684, d2=0.724 g=0.780\n",
      ">91, d1=0.700, d2=0.707 g=0.817\n",
      ">92, d1=0.701, d2=0.675 g=0.750\n",
      ">93, d1=0.695, d2=0.699 g=0.761\n",
      ">94, d1=0.662, d2=0.746 g=0.755\n",
      ">95, d1=0.692, d2=0.692 g=0.768\n",
      ">96, d1=0.714, d2=0.676 g=0.759\n",
      ">97, d1=0.688, d2=0.709 g=0.749\n",
      ">98, d1=0.668, d2=0.677 g=0.741\n",
      ">99, d1=0.661, d2=0.665 g=0.774\n",
      ">100, d1=0.675, d2=0.682 g=0.757\n"
     ]
    }
   ],
   "source": [
    "train(g_model, d_model, gan_model, dataset, latent_dim)"
   ],
   "metadata": {
    "collapsed": false,
    "pycharm": {
     "name": "#%%\n"
    }
   }
  },
  {
   "cell_type": "code",
   "execution_count": 12,
   "outputs": [
    {
     "name": "stderr",
     "output_type": "stream",
     "text": [
      "2022-05-27 12:52:31.385358: I tensorflow/compiler/mlir/mlir_graph_optimization_pass.cc:116] None of the MLIR optimization passes are enabled (registered 2)\n"
     ]
    },
    {
     "data": {
      "text/plain": "<Figure size 432x288 with 100 Axes>",
      "image/png": "[encoded data removed]"
     },
     "metadata": {
      "needs_background": "light"
     },
     "output_type": "display_data"
    }
   ],
   "source": [
    "# load model\n",
    "model = load_model('cgan_generator.h5', compile = False)\n",
    "# generate images\n",
    "latent_points, labels = generate_latent_points(100, 100)\n",
    "# specify labels\n",
    "labels = asarray([x for _ in range(10) for x in range(10)])\n",
    "# generate images\n",
    "X  = model.predict([latent_points, labels])\n",
    "# scale from [-1,1] to [0,1]\n",
    "X = (X + 1) / 2.0\n",
    "# plot the result\n",
    "save_plot(X, 10)"
   ],
   "metadata": {
    "collapsed": false,
    "pycharm": {
     "name": "#%%\n"
    }
   }
  },
  {
   "cell_type": "code",
   "execution_count": null,
   "outputs": [],
   "source": [],
   "metadata": {
    "collapsed": false,
    "pycharm": {
     "name": "#%%\n"
    }
   }
  }
 ],
 "metadata": {
  "kernelspec": {
   "display_name": "Python 3",
   "language": "python",
   "name": "python3"
  },
  "language_info": {
   "codemirror_mode": {
    "name": "ipython",
    "version": 2
   },
   "file_extension": ".py",
   "mimetype": "text/x-python",
   "name": "python",
   "nbconvert_exporter": "python",
   "pygments_lexer": "ipython2",
   "version": "2.7.6"
  }
 },
 "nbformat": 4,
 "nbformat_minor": 0
}