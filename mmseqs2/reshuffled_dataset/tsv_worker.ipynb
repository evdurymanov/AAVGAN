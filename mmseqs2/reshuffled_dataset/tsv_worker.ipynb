{
 "cells": [
  {
   "cell_type": "code",
   "execution_count": 1,
   "metadata": {
    "collapsed": true
   },
   "outputs": [],
   "source": [
    "import csv\n",
    "from Bio import SeqIO\n",
    "import operator"
   ]
  },
  {
   "cell_type": "code",
   "execution_count": 2,
   "outputs": [],
   "source": [
    "def find_between(s, first, last ):\n",
    "    try:\n",
    "        start = s.index( first ) + len( first )\n",
    "        end = s.index( last, start )\n",
    "        return s[start:end]\n",
    "    except ValueError:\n",
    "        return \"\""
   ],
   "metadata": {
    "collapsed": false,
    "pycharm": {
     "name": "#%%\n"
    }
   }
  },
  {
   "cell_type": "code",
   "execution_count": 3,
   "outputs": [],
   "source": [
    "def counting_cluster(file):\n",
    "    clusters = []\n",
    "    with open(file) as fd:\n",
    "        rd = csv.reader(fd, delimiter=\"\\t\", quotechar='\"')\n",
    "        for row in rd:\n",
    "            clusters.append(row[0])\n",
    "    clusters_counter = {}\n",
    "    for name in clusters:\n",
    "        clusters_counter.setdefault(name, 0)\n",
    "        clusters_counter[name] += 1\n",
    "    return clusters_counter"
   ],
   "metadata": {
    "collapsed": false,
    "pycharm": {
     "name": "#%%\n"
    }
   }
  },
  {
   "cell_type": "code",
   "execution_count": 4,
   "outputs": [],
   "source": [
    "def dict_of_clusters(file):\n",
    "    clusters = {}\n",
    "    with open(file) as fd:\n",
    "        rd = csv.reader(fd, delimiter=\"\\t\", quotechar='\"')\n",
    "        for row in rd:\n",
    "            if row[0] in clusters:\n",
    "                clusters[row[0]].append(row[1])\n",
    "            else:\n",
    "                clusters.setdefault(row[0], [row[1]])\n",
    "    return clusters\n"
   ],
   "metadata": {
    "collapsed": false,
    "pycharm": {
     "name": "#%%\n"
    }
   }
  },
  {
   "cell_type": "code",
   "execution_count": 5,
   "outputs": [
    {
     "data": {
      "text/plain": "[('Q2VJ50', 1),\n ('Q6V7U2', 1),\n ('A0A2Z3D964', 1),\n ('A0A1C8Z4Q6', 1),\n ('A0A3S9JKK3', 1),\n ('A0A6M4C6I4', 1),\n ('A0A6B9PR37', 1),\n ('N0A7G5', 1),\n ('A0A0G3ZB70', 1),\n ('A0A5B8IGP3', 1),\n ('A0A6M9Z7M2', 1),\n ('A0A7D3QMM3', 1),\n ('A0A6M9Z6M8', 1),\n ('G1JYZ5', 2),\n ('Q2VJ46', 2),\n ('A0A6M9Z857', 2),\n ('A0A6M9Z7K1', 2),\n ('A0A2H4N9R9', 3),\n ('A0A5C0PZD0', 3),\n ('A0A6M9Z6N5', 4),\n ('A0A8A4XEC0', 5),\n ('A0A6M9Z7J6', 5),\n ('A0A2Z4K548', 5),\n ('C0LA98', 6),\n ('Q6GWF2', 6),\n ('A9RAI0', 9),\n ('Q2VJ48', 13),\n ('A0A513ZUS7', 53),\n ('A0A6G6ACW8', 217),\n ('M4ISG9', 264)]"
     },
     "execution_count": 5,
     "metadata": {},
     "output_type": "execute_result"
    }
   ],
   "source": [
    "dict_of_aav = dict_of_clusters(\"DB_aav_clu.tsv\")\n",
    "dict_of_len_aav = {}\n",
    "for clust in dict_of_aav.items():\n",
    "    dict_of_len_aav.setdefault(clust[0], len(clust[1]))\n",
    "dict_of_len_aav_sorted = sorted(dict_of_len_aav.items(), key = operator.itemgetter(1))\n",
    "dict_of_len_aav_sorted\n"
   ],
   "metadata": {
    "collapsed": false,
    "pycharm": {
     "name": "#%%\n"
    }
   }
  },
  {
   "cell_type": "code",
   "execution_count": 6,
   "outputs": [
    {
     "data": {
      "text/plain": "[('A0A2K9YNA1', 1),\n ('A0A8A4XDL6', 1),\n ('A0A8A4XEI4', 1),\n ('A0A8G0VT64', 1),\n ('A0A6G6AEC1', 1),\n ('A0A0U3BGQ5', 1),\n ('A0A8A4XDN7', 1),\n ('A0A8E7G1S3', 1),\n ('A0A2H4RDS6', 1),\n ('A0A897ZGG0', 1),\n ('V5NEJ8', 1),\n ('A0A097F8R4', 1),\n ('A0A7M4CF74', 1),\n ('H2ESE9', 1),\n ('A0A481W6J6', 1),\n ('A0A7D5NPQ3', 1),\n ('A0A8A4XDV1', 1),\n ('A0A7M1PW40', 1),\n ('A0A8E7G1V7', 1),\n ('A0A7D3UKP6', 1),\n ('A0A8E7G1Q0', 1),\n ('A0A891EZR0', 1),\n ('A0A8A4XCV2', 1),\n ('A7UIY7', 1),\n ('A0A8A4XDT5', 1),\n ('A0A2K9YND6', 1),\n ('A0A8A4XDM3', 1),\n ('A0A513PZL6', 1),\n ('K7QMU7', 1),\n ('H2ESE7', 1),\n ('A0A2H4RDS3', 1),\n ('A0A8A4XDP6', 1),\n ('A0A5C0PWM1', 1),\n ('A0A8A4XDF3', 1),\n ('A0A2K9YN97', 1),\n ('A0A097F8N9', 1),\n ('A0A7D3QLM1', 1),\n ('Q80PY6', 1),\n ('A0A6M3YRX2', 1),\n ('E2D6F3', 1),\n ('A0A7D3QIV9', 1),\n ('A0A8A4XCD9', 1),\n ('A0A0B4N000', 1),\n ('Q88273', 1),\n ('C6KF51', 1),\n ('A0A2H4RDR9', 1),\n ('A0A5C0PVD1', 1),\n ('A0A2L2P6U9', 1),\n ('A0A0A7KU74', 1),\n ('A0A6H1XL25', 1),\n ('A0A513Q0P1', 1),\n ('A0A1J0F5D2', 1),\n ('A0A2H4RDR4', 1),\n ('A0A7M1PVP4', 1),\n ('A0A2H4RDS8', 1),\n ('A0A7D3UGP6', 1),\n ('A0A7M1PVK8', 1),\n ('A0A8A4XE78', 1),\n ('P87584', 1),\n ('A0A2H4RDS2', 1),\n ('A0A2H4N9S6', 1),\n ('A0A221LEC7', 1),\n ('C4P0S3', 1),\n ('H2ESE5', 1),\n ('A0A2Z3D894', 1),\n ('A0A481W6J5', 1),\n ('A0A481W736', 1),\n ('A0A7D3V1H4', 1),\n ('A0A2Z3DB37', 1),\n ('A0A2Z4EVH0', 1),\n ('H9XTL4', 1),\n ('A0A2H4X1Y6', 1),\n ('W8PQ92', 1),\n ('A0A6B9UMK2', 1),\n ('A0A7D3QLH8', 1),\n ('A0A7M1PVN3', 1),\n ('A0A8A4XE66', 1),\n ('A0A221LEC4', 1),\n ('V5KE12', 1),\n ('A0A7M1PWM5', 1),\n ('A0A5C0PWL4', 1),\n ('A0A7D3QPT2', 1),\n ('A0A8A4XDM9', 1),\n ('A0A481W670', 1),\n ('A0A7D3QM90', 1),\n ('A0A8A4XE08', 1),\n ('A0A7G6BR76', 1),\n ('A0A8A4XE03', 1),\n ('A0A8A4XDB8', 1),\n ('M1NNZ2', 1),\n ('A0A8A4XDA8', 1),\n ('A0A2H4RDR8', 1),\n ('U3QY02', 1),\n ('A0A146GE64', 2),\n ('A0A2H4RDT8', 2),\n ('A0A513Q0I1', 2),\n ('A0A125RQF8', 2),\n ('A0A6G5Q980', 2),\n ('A0A0D3MCM4', 2),\n ('A0A517FM28', 2),\n ('A0A3G5E9T0', 2),\n ('A0A513Q0A9', 2),\n ('N0A3K2', 2),\n ('A0A193AUM5', 2),\n ('A0A1B1V540', 2),\n ('A0A7D3QM82', 2),\n ('A0A2K9YNA2', 2),\n ('A0A2S0SYY7', 2),\n ('A0A2H4YQ20', 2),\n ('A0A0A0R2R1', 2),\n ('A0A7D4WFI2', 2),\n ('A0A871HZ70', 2),\n ('A0A221LED6', 2),\n ('A0A2Z3D7V2', 2),\n ('A0A1J0F5D5', 2),\n ('A0A513Q0R0', 3),\n ('A0A7D3QIQ3', 3),\n ('A0A0D3MCF4', 3),\n ('A0A8G0VS91', 3),\n ('A0A513Q0K3', 3),\n ('A0A1S6M267', 3),\n ('A0A1S6YK96', 3),\n ('A0A891EZE5', 3),\n ('A0A7L9B005', 3),\n ('G8GWG8', 4),\n ('Q9J0X6', 4),\n ('A0A891EZH5', 4),\n ('Q918U9', 4),\n ('A0A0S2XGI9', 4),\n ('A0A513PZT9', 4),\n ('A0A0D3MD69', 4),\n ('A0A5P8PFL4', 5),\n ('P07297', 5),\n ('A0A7T0MBY1', 5),\n ('A0A0D3MC97', 5),\n ('U5YQG2', 6),\n ('A0A3T0PN94', 6),\n ('R4L9D1', 6),\n ('V5K6Y0', 6),\n ('A0A172WCW9', 6),\n ('A0A894JFF7', 6),\n ('A0A7D3UH37', 6),\n ('Q90125', 7),\n ('A0A1B3IIH5', 7),\n ('A0A6M3YPL4', 8),\n ('A0A2U9AV19', 8),\n ('S5YSH5', 9),\n ('J9PNL0', 9),\n ('A0A513PZL7', 9),\n ('A0A7G7S060', 10),\n ('A0A0D3MCN1', 10),\n ('A0A514EJ46', 11),\n ('A0A3G2VQF6', 11),\n ('G1JYY2', 13),\n ('A0A346GC45', 14),\n ('A0A1Z3FW21', 15),\n ('A0A2Z2C8L9', 16),\n ('A0A7M4BDQ3', 19),\n ('K4NU96', 19),\n ('A0A2H4N9Q5', 20),\n ('A0A1Z3FVR1', 21),\n ('A0A1Z3FVQ1', 21),\n ('P07300', 22),\n ('A0A514EJ31', 24),\n ('A0A1S6EM70', 25),\n ('A0A076JU08', 28),\n ('E1CES5', 30),\n ('H9A288', 32),\n ('S5RNM6', 33),\n ('A0A060NBN6', 35),\n ('G3EZE8', 38),\n ('A0A0D5ZD45', 40),\n ('A0A0F7GFL9', 46),\n ('W8GNF2', 48),\n ('P03136', 53),\n ('D6PUU1', 59),\n ('K4KF99', 61),\n ('E3W908', 67),\n ('X5CV53', 75),\n ('D3Y5Q1', 89),\n ('J3SB80', 96),\n ('H9A282', 100),\n ('R4UBC0', 112),\n ('A0A1P8L135', 191),\n ('Q9PZT0', 197),\n ('Q96608', 227),\n ('A0A286RT05', 340),\n ('A0A0C5GBM8', 1117)]"
     },
     "execution_count": 6,
     "metadata": {},
     "output_type": "execute_result"
    }
   ],
   "source": [
    "dict_of_dpd = dict_of_clusters(\"DB_dpd_clu.tsv\")\n",
    "dict_of_len_dpd = {}\n",
    "for clust in dict_of_dpd.items():\n",
    "    dict_of_len_dpd.setdefault(clust[0], len(clust[1]))\n",
    "dict_of_len_dpd_sorted = sorted(dict_of_len_dpd.items(), key = operator.itemgetter(1))\n",
    "dict_of_len_dpd_sorted\n"
   ],
   "metadata": {
    "collapsed": false,
    "pycharm": {
     "name": "#%%\n"
    }
   }
  },
  {
   "cell_type": "code",
   "execution_count": 10,
   "outputs": [],
   "source": [
    "counter = 0\n",
    "parsed = SeqIO.parse(open(\"0.fasta\"),'fasta')\n",
    "validating = []\n",
    "for i in parsed:\n",
    "    validating.append(find_between(i.id, \"|\", \"|\"))\n",
    "parsed = SeqIO.parse(open(\"1.fasta\"),'fasta')\n",
    "for i in parsed:\n",
    "    validating.append(find_between(i.id, \"|\", \"|\"))\n",
    "\n",
    "\n",
    "with open(\"aav_and_dpd_train.fasta\", 'w') as in_handle:\n",
    "    fasta_sequences_train = SeqIO.parse(open(\"aav_and_dpd.fasta\"),'fasta')\n",
    "    for cap in fasta_sequences_train:\n",
    "        if find_between(cap.id, \"|\", \"|\") not in validating:\n",
    "            SeqIO.write([cap], in_handle, \"fasta\")\n",
    "#print(counter)"
   ],
   "metadata": {
    "collapsed": false,
    "pycharm": {
     "name": "#%%\n"
    }
   }
  },
  {
   "cell_type": "code",
   "execution_count": 11,
   "outputs": [
    {
     "name": "stdout",
     "output_type": "stream",
     "text": [
      "4272\n"
     ]
    }
   ],
   "source": [
    "parsed = SeqIO.parse(open(\"aav_and_dpd_train.fasta\"),'fasta')\n",
    "lenth = []\n",
    "for i in parsed:\n",
    "    lenth.append(i)\n",
    "print(len(lenth))"
   ],
   "metadata": {
    "collapsed": false,
    "pycharm": {
     "name": "#%%\n"
    }
   }
  },
  {
   "cell_type": "code",
   "execution_count": 150,
   "outputs": [
    {
     "name": "stdout",
     "output_type": "stream",
     "text": [
      "614\n"
     ]
    }
   ],
   "source": [
    "checking = []\n",
    "parsed = SeqIO.parse(open(\"1.fasta\"),'fasta')\n",
    "for i in parsed:\n",
    "    checking.append(find_between(i.id, \"|\", \"|\"))\n",
    "parsed = SeqIO.parse(open(\"1_1_200.fasta\"),'fasta')\n",
    "for i in parsed:\n",
    "    checking.append(find_between(i.id, \"|\", \"|\"))\n",
    "parsed = SeqIO.parse(open(\"1_1_50.fasta\"),'fasta')\n",
    "for i in parsed:\n",
    "    checking.append(find_between(i.id, \"|\", \"|\"))\n",
    "parsed = SeqIO.parse(open(\"1_1_1000.fasta\"),'fasta')\n",
    "for i in parsed:\n",
    "    checking.append(find_between(i.id, \"|\", \"|\"))\n",
    "parsed = SeqIO.parse(open(\"1_1_3000.fasta\"),'fasta')\n",
    "for i in parsed:\n",
    "    checking.append(find_between(i.id, \"|\", \"|\"))\n",
    "print(len(checking))"
   ],
   "metadata": {
    "collapsed": false,
    "pycharm": {
     "name": "#%%\n"
    }
   }
  },
  {
   "cell_type": "code",
   "execution_count": 15,
   "outputs": [
    {
     "name": "stdout",
     "output_type": "stream",
     "text": [
      "3696\n"
     ]
    }
   ],
   "source": [
    "parsed = SeqIO.parse(open(\"dependo_capsids.fasta\"), 'fasta')\n",
    "sas = []\n",
    "for i in parsed:\n",
    "    sas.append(find_between(i.id, \"|\", \"|\"))\n",
    "print(len(sas))"
   ],
   "metadata": {
    "collapsed": false,
    "pycharm": {
     "name": "#%%\n"
    }
   }
  },
  {
   "cell_type": "code",
   "execution_count": null,
   "outputs": [],
   "source": [],
   "metadata": {
    "collapsed": false,
    "pycharm": {
     "name": "#%%\n"
    }
   }
  }
 ],
 "metadata": {
  "kernelspec": {
   "display_name": "Python 3",
   "language": "python",
   "name": "python3"
  },
  "language_info": {
   "codemirror_mode": {
    "name": "ipython",
    "version": 2
   },
   "file_extension": ".py",
   "mimetype": "text/x-python",
   "name": "python",
   "nbconvert_exporter": "python",
   "pygments_lexer": "ipython2",
   "version": "2.7.6"
  }
 },
 "nbformat": 4,
 "nbformat_minor": 0
}