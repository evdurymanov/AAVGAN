{
 "cells": [
  {
   "cell_type": "code",
   "execution_count": 9,
   "metadata": {
    "collapsed": true
   },
   "outputs": [],
   "source": [
    "import csv\n",
    "from Bio import SeqIO\n",
    "import operator"
   ]
  },
  {
   "cell_type": "code",
   "execution_count": 10,
   "outputs": [],
   "source": [
    "def find_between(s, first, last ):\n",
    "    try:\n",
    "        start = s.index( first ) + len( first )\n",
    "        end = s.index( last, start )\n",
    "        return s[start:end]\n",
    "    except ValueError:\n",
    "        return \"\""
   ],
   "metadata": {
    "collapsed": false,
    "pycharm": {
     "name": "#%%\n"
    }
   }
  },
  {
   "cell_type": "code",
   "execution_count": 11,
   "outputs": [],
   "source": [
    "def counting_cluster(file):\n",
    "    clusters = []\n",
    "    with open(file) as fd:\n",
    "        rd = csv.reader(fd, delimiter=\"\\t\", quotechar='\"')\n",
    "        for row in rd:\n",
    "            clusters.append(row[0])\n",
    "    clusters_counter = {}\n",
    "    for name in clusters:\n",
    "        clusters_counter.setdefault(name, 0)\n",
    "        clusters_counter[name] += 1\n",
    "    return clusters_counter"
   ],
   "metadata": {
    "collapsed": false,
    "pycharm": {
     "name": "#%%\n"
    }
   }
  },
  {
   "cell_type": "code",
   "execution_count": 12,
   "outputs": [],
   "source": [
    "def dict_of_clusters(file):\n",
    "    clusters = {}\n",
    "    with open(file) as fd:\n",
    "        rd = csv.reader(fd, delimiter=\"\\t\", quotechar='\"')\n",
    "        for row in rd:\n",
    "            if row[0] in clusters:\n",
    "                clusters[row[0]].append(row[1])\n",
    "            else:\n",
    "                clusters.setdefault(row[0], [row[1]])\n",
    "    return clusters\n"
   ],
   "metadata": {
    "collapsed": false,
    "pycharm": {
     "name": "#%%\n"
    }
   }
  },
  {
   "cell_type": "code",
   "execution_count": 21,
   "outputs": [
    {
     "name": "stdout",
     "output_type": "stream",
     "text": [
      "{'Q2VJ50': ['Q2VJ50'], 'A9RAI0': ['A9RAI0', 'O41855', 'Q6JL79', 'A0A0B5CVI2', 'Q5Y9B2', 'Q808X9', 'Q808X8', 'Q808X7', 'B4Y891'], 'G1JYZ5': ['G1JYZ5', 'G1JYZ3'], 'Q6V7U2': ['Q6V7U2'], 'A0A2Z3D964': ['A0A2Z3D964'], 'C0LA98': ['C0LA98', 'M4IS86', 'C0LA97', 'C0LA99', 'Q9YIJ1', 'Q5XXZ6'], 'A0A1C8Z4Q6': ['A0A1C8Z4Q6'], 'A0A3S9JKK3': ['A0A3S9JKK3'], 'A0A2H4N9R9': ['A0A2H4N9R9', 'A0A6C0PVN7', 'A0A2H4N9R7'], 'A0A6M4C6I4': ['A0A6M4C6I4'], 'A0A513ZUS7': ['A0A513ZUS7', 'A0A513ZU33', 'A0A513ZTU6', 'A0A513ZUI9', 'A0A513ZU85', 'A0A513ZUL7', 'A0A513ZUG0', 'A0A513ZUE9', 'A0A513ZTW9', 'A0A513ZUZ8', 'A0A513ZUB0', 'A0A513ZU47', 'A0A513ZU50', 'A0A513ZTQ8', 'A0A513ZUV1', 'A0A513ZTR9', 'A0A513ZUU9', 'A0A513ZUL2', 'A0A513ZU25', 'A0A513ZUB4', 'A0A513ZUF4', 'A0A513ZUJ3', 'A0A513ZU12', 'A0A513ZTY5', 'A0A513ZTX9', 'A0A513ZUJ5', 'A0A513ZU61', 'A0A513ZU54', 'A0A513ZUD5', 'A0A513ZUP4', 'A0A286MGT8', 'A0A513ZUL9', 'A0A513ZUP5', 'A0A513ZUP8', 'A0A513ZUP2', 'A0A513ZUC8', 'A0A513ZUK2', 'A0A513ZUQ8', 'A0A513ZUD3', 'A0A513ZTX7', 'A0A513ZTY9', 'A0A513ZU72', 'A0A513ZTW6', 'A0A513ZU69', 'A0A513ZUB6', 'A0A513ZUX4', 'A0A513ZU52', 'A0A513ZTV7', 'A0A513ZUI7', 'A0A513ZUK6', 'A0A513ZUI8', 'A0A513ZUN0', 'A0A513ZTV6'], 'A0A5C0PZD0': ['A0A5C0PZD0', 'A0A5C0PVX0', 'A0A5C0PVT9'], 'Q6GWF2': ['Q6GWF2', 'Q7TG43', 'A0A6M3MU48', 'A0A346BLQ0', 'W8GGS2', 'C7FFS0'], 'M4ISG9': ['M4ISG9', 'M4IRL1', 'M4IQQ4', 'B4Y886', 'B4Y887', 'Q6JC15', 'Q6JC16', 'Q6JBZ8', 'Q6JBZ2', 'Q6JC14', 'A0A0K1P909', 'Q6JC48', 'Q6JC62', 'Q6JC55', 'Q8JQF8', 'A0A0K1P7W0', 'Q5Y9B4', 'Q6JC19', 'B4Y884', 'Q6JC18', 'Q808W6', 'A0A0K1P7U0', 'Q6JC61', 'Q808V8', 'Q6JC37', 'Q808W5', 'Q6JC56', 'Q808V7', 'Q6JC49', 'Q808X1', 'Q808W8', 'Q808X3', 'Q808X6', 'B4Y889', 'Q6JC45', 'Q6JC53', 'Q6JBZ3', 'A0A0K1P842', 'Q6JC47', 'Q6JC50', 'Q6JC60', 'Q6JC54', 'Q6JC57', 'Q6JC22', 'Q6JC23', 'Q6JC40', 'Q808X0', 'Q808X5', 'Q808X2', 'Q6JC63', 'B4Y890', 'Q808Y3', 'A0A0K1P7V4', 'A0A513ZU10', 'A0A513ZU15', 'Q6JC66', 'Q6JC64', 'Q6JC65', 'Q6JC59', 'Q808W9', 'A0A0K1P7W5', 'A0A0K1P7U4', 'Q808W1', 'Q808W2', 'A0A513ZUC6', 'A0A513ZTS7', 'A0A513ZUV3', 'A0A513ZUY7', 'A0A877XIL6', 'A0A877XJX5', 'A0A513ZU08', 'Q6JBZ1', 'Q6JC38', 'Q6JBZ0', 'A0A513ZUB5', 'A0A513ZUF0', 'Q6JC42', 'Q6JC36', 'A0A513ZU74', 'A0A877XIL5', 'A0A513ZUC7', 'Q6JC39', 'A0A513ZTY1', 'Q670Q8', 'A0A513ZU55', 'A0A513ZTZ1', 'A0A513ZUZ2', 'Q6JC26', 'A0A513ZU23', 'A0A513ZUM2', 'A0A513ZU87', 'Q6JC27', 'A0A513ZUH6', 'A0A513ZTW5', 'A0A513ZV18', 'Q670S0', 'A0A513ZU27', 'A0A513ZUB3', 'A0A513ZUG2', 'Q6JC00', 'A0A513ZU66', 'Q670R0', 'A0A513ZV52', 'Q6JC41', 'A0A513ZV41', 'A0A286MGT5', 'A0A513ZUR5', 'A0A513ZUR3', 'A0A877XL17', 'A0A513ZV05', 'Q6JC09', 'A0A513ZUP7', 'A0A513ZU79', 'Q6JC29', 'Q6JC25', 'Q6JC31', 'A0A513ZUC4', 'A0A513ZU42', 'A0A513ZU95', 'A0A513ZUD4', 'Q6JBZ5', 'A0A513ZTY6', 'A0A513ZUG6', 'Q6JC05', 'A0A513ZUF2', 'Q6JC33', 'A0A513ZUF5', 'A0A513ZUK9', 'A0A286MGT6', 'A0A513ZUJ1', 'P03135', 'Q6JC35', 'Q670R6', 'A0A513ZUL3', 'A0A513ZUI0', 'A0A513ZUP1', 'Q6JC20', 'A0A513ZUH1', 'Q6JC06', 'Q670Q6', 'A0A513ZUG5', 'A0A513ZU92', 'A0A513ZUP3', 'A0A513ZUP6', 'Q6JC21', 'A0A513ZUA0', 'A0A513ZUQ9', 'Q6JC07', 'A0A513ZUK1', 'A0A513ZTS8', 'Q6JC11', 'A0A513ZUL6', 'A0A513ZUT6', 'A0A513ZU59', 'A0A6M6CDY3', 'A0A513ZV15', 'Q670Q7', 'A0A513ZTU1', 'A0A513ZTT0', 'A0A513ZUN6', 'A0A513ZUH2', 'A0A513ZUN1', 'B4Y880', 'A0A513ZUM4', 'Q6JC01', 'A0A513ZU94', 'Q6JC30', 'Q6JBZ4', 'A0A513ZV21', 'Q670R8', 'Q670R4', 'A0A513ZUV4', 'A0A513ZUW1', 'A0A513ZU49', 'Q6JBZ9', 'A0A513ZTT9', 'A0A513ZUZ0', 'A0A513ZTZ3', 'A0A513ZTZ6', 'A0A513ZUE4', 'A0A513ZUW7', 'Q6JC43', 'A0A513ZUT1', 'A0A513ZV82', 'A0A513ZUM7', 'A0A513ZUS9', 'B4Y877', 'A0A8A4YIN7', 'Q808V9', 'A0A513ZU62', 'A0A513ZUE6', 'A0A513ZUD6', 'Q6JC24', 'Q6JBZ7', 'Q6JC44', 'A0A513ZUS3', 'Q6JBZ6', 'A0A513ZUS1', 'Q6JC17', 'Q6JC28', 'Q6JC34', 'A0A877XIP6', 'A0A0K1P7V0', 'A0A513ZTY8', 'A0A513ZTS9', 'A0A513ZTT6', 'A0A513ZTR4', 'A0A513ZTR2', 'A0A513ZU93', 'A0A513ZUB1', 'A0A513ZUA8', 'A0A513ZTS3', 'A0A513ZTS5', 'A0A513ZU04', 'Q808W3', 'B4Y878', 'Q1I032', 'O56137', 'Q9WBP8', 'B4Y883', 'B4Y875', 'Q6JC10', 'Q6JC08', 'Q1I030', 'B4Y876', 'Q6JC12', 'Q6JC13', 'B4Y874', 'B4Y882', 'B4Y881', 'A0A1W5PV80', 'Q808Y0', 'Q808Y1', 'Q808Y2', 'B4Y885', 'A0A6M4WC41', 'Q6JC04', 'A0A877XK06', 'A0A513ZTX2', 'A0A513ZU14', 'Q6JC02', 'Q6JC03', 'A0A513ZU77', 'A0A513ZUZ7', 'B5SUY7', 'B4Y879', 'Q808W4', 'A0A097PUS3', 'A0A097PUT6', 'Q65311', 'O56139', 'Q808W7', 'Q808X4', 'Q808W0', 'Q808V5', 'Q808V6', 'A0A0K1P847', 'Q808V4', 'Q6JC46', 'B4Y888', 'Q6JC52', 'Q6JC58', 'Q6JC51', 'Q8JQG0'], 'A0A6B9PR37': ['A0A6B9PR37'], 'N0A7G5': ['N0A7G5'], 'Q2VJ48': ['Q2VJ48', 'A0A3Q8HA51', 'A0A3Q8GZ07', 'A0A3S7R5D1', 'A0A3S7R5G0', 'A0A3Q8GZ14', 'A0A3S7R5E5', 'A0A3S7R5E9', 'A0A3S7R5E7', 'A0A3S7R5F4', 'A0A3Q8H2X3', 'A0A3S7R5E3', 'A0A3S7R5D2'], 'A0A6M9Z6N5': ['A0A6M9Z6N5', 'A0A6M9Z750', 'A0A6M9Z7L2', 'A0A6M9Z754'], 'Q2VJ46': ['Q2VJ46', 'Q2VJ47'], 'A0A8A4XEC0': ['A0A8A4XEC0', 'A0A2S0SZ30', 'Q2VJ51', 'Q2VJ52', 'A0A6M9Z9W2'], 'A0A0G3ZB70': ['A0A0G3ZB70'], 'A0A5B8IGP3': ['A0A5B8IGP3'], 'A0A6M9Z7J6': ['A0A6M9Z7J6', 'A0A6M9Z739', 'A0A7D7B3Y4', 'A0A6M9Z6M7', 'A0A6M9Z6L3'], 'A0A6M9Z7M2': ['A0A6M9Z7M2'], 'A0A7D3QMM3': ['A0A7D3QMM3'], 'A0A6M9Z857': ['A0A6M9Z857', 'A0A6B9PSI1'], 'A0A6M9Z6M8': ['A0A6M9Z6M8'], 'A0A6M9Z7K1': ['A0A6M9Z7K1', 'A0A2S0SZ41'], 'A0A6G6ACW8': ['A0A6G6ACW8', 'A0FJH3', 'A0A1L3KPW6', 'Q0Z871', 'A0A6G6ACY9', 'A0A0C5C1U8', 'B5U2C6', 'C7E5X7', 'A7UMZ9', 'A0A0C5C1U1', 'A0A0C5CH66', 'Q67668', 'A7UMZ6', 'A0FJG6', 'A0FJG8', 'A0A0C5C224', 'G0ZSH9', 'A0A2S0RQR8', 'A0A286QW67', 'C8CE61', 'A0A1L3KPV6', 'A0A1S6KKD5', 'A0A286QW70', 'A0A0C5CH71', 'H9M8D3', 'A0A0C5C213', 'A0A0C5BXS9', 'A0A0C5BXS0', 'A0A0C5BXS4', 'Q65446', 'A0A0C5C5H4', 'A0A0C5C1V0', 'B6V720', 'A0A0C5CH74', 'A0A1L3KPS4', 'A0FJH0', 'A0A1L3KPW2', 'B6V719', 'A0A3G6IVP3', 'A0A8E5N8C5', 'A0FJG7', 'A0A8E5J867', 'A0A0C5CH77', 'Q6R965', 'A8WBZ1', 'B6V721', 'Q1ZYL2', 'A0A1L3KPV4', 'A0A0C5C5I5', 'A0A6G6AE59', 'A0A1L3KPW5', 'A7UN02', 'A0A6C0N632', 'A0A140E9M2', 'A0A0N9QMG2', 'A0A140HEY6', 'Q8V395', 'Q67667', 'A0A7U3NQY8', 'A0A345GSD9', 'A0A089X5B1', 'A0A859MRC6', 'A0A3G6IR24', 'Q6R5P9', 'A7UMZ7', 'Q6TY08', 'A0A6G9FBW4', 'Q65445', 'A0A7H0S4Q1', 'A0A6G9F9A8', 'Q6TY17', 'A0A2I6SQF0', 'M1TTK7', 'A0A0N9R2D0', 'A0A6G9F9A3', 'A0A0P0IRL3', 'A0A2S0RQB7', 'Q67666', 'A0A0N9QE24', 'Q6TY16', 'A0A6G9F987', 'A0A8E5J853', 'A0A866VX97', 'A0A0N9R7I2', 'A0A173DWR3', 'S4V558', 'Q6R966', 'H9M8D1', 'A0A7T5V8A0', 'G8EMF0', 'A0A345W8A2', 'Q6TY14', 'B5LAD8', 'Q6TY15', 'A0A345YTX4', 'A0A8E8U643', 'A0A6G9F995', 'A0A7S6XKX3', 'A0A7S6XN37', 'T1TD63', 'A0A7T6AN56', 'A0A2Z0PR42', 'A0A6B9D556', 'Q6TY12', 'A0A0N9E5B5', 'A0A1B1CWR1', 'A0A866VXJ7', 'A0A482P4P7', 'A0A3G6IR23', 'A0A859MV17', 'A0A6G9F994', 'A0A345YTX6', 'Q6TY10', 'A0A0N7G839', 'A0A7D5BP30', 'A0A1S6Q5Q0', 'A0A1B1ZGB9', 'A0A2D3I219', 'A0A7H0S4Q5', 'A0A2Z0PWT2', 'A0A1X8VJ21', 'A0A6G7GH04', 'Q6TY13', 'A7UN00', 'A0A8E5J858', 'A0A6C0N5Y9', 'Q6TY09', 'A0A513ZV86', 'A0A345GSE6', 'A0A2H4QSR7', 'A0A8E5J985', 'Q6TY11', 'A0A866VTW7', 'Q67672', 'A0A0N9X2L4', 'A0A2H4QSS2', 'T1TCQ8', 'A0A4D6DS12', 'A0A345YTX5', 'A7UMZ5', 'A0A7H0S4Q3', 'Q83289', 'A0A343FLX5', 'A7UMZ8', 'B5LAD6', 'Q6TY07', 'Q6R5J0', 'A0A2S0RPV5', 'A0A3Q8A1J6', 'A0A193BKY9', 'A0A4D6D1S1', 'A0A2H4QSR4', 'H9M8D2', 'G0ZSH7', 'A0A7H0S4P7', 'Q83290', 'A0A2C9NKA7', 'A0A220A4U4', 'A0A411KVI4', 'A0A2H4QSR8', 'A0A220A4U5', 'A0A2Z0PPU0', 'A0A1S6KKD4', 'G8EME6', 'A0A7H0S4P9', 'Q65444', 'A0A7H0S4Q9', 'A6ZI21', 'A0A3Q7ZTK2', 'A0A0N9R7N6', 'A0A3Q7ZW85', 'A0A2C9NK42', 'G0ZSH8', 'A0A3S6CNK0', 'A5A0V7', 'A0A7H1MH47', 'Q6R967', 'Q3Y426', 'A0A3S6CE83', 'A0A345GSE4', 'A0A2Z0PRJ7', 'A7UMZ4', 'A7UN01', 'A0A3Q7ZU28', 'A0A482P1H2', 'A0A223A4I9', 'A0A7H0S4Q7', 'A5A0V8', 'G8EMF2', 'G8EME8', 'A0A4D6D1W8', 'A0A7D4XTD8', 'A0A8E5N914', 'A0A6C0N4W4', 'A0A6C0N6C3', 'A0A6C0NA61', 'A0A6C0N6A5', 'A0A286QW75', 'A0A286QW74', 'A0A0C5C5I1', 'A0A0C5CH70', 'A0A0C5C1U3', 'A0A6G6ACX7', 'A0A1L3KPS9', 'A0A0C5C5H8', 'A0A0C5C1V5', 'A0A6G6AE28', 'M1UF39', 'A0A089VFE4', 'A0A089VKW2', 'A0A6G6ACY2', 'A0A220A4V3', 'H2E867', 'A5A0V9', 'A0A7H1MH49', 'A0A7H1MH48', 'A0FJH2'], 'A0A2Z4K548': ['A0A2Z4K548', 'A0A2Z4K4X6', 'A0A2Z4K5C2', 'A0A2Z4K5C4', 'E0XJJ5']}\n",
      "{'Q2VJ50': 1, 'A9RAI0': 9, 'G1JYZ5': 2, 'Q6V7U2': 1, 'A0A2Z3D964': 1, 'C0LA98': 6, 'A0A1C8Z4Q6': 1, 'A0A3S9JKK3': 1, 'A0A2H4N9R9': 3, 'A0A6M4C6I4': 1, 'A0A513ZUS7': 53, 'A0A5C0PZD0': 3, 'Q6GWF2': 6, 'M4ISG9': 264, 'A0A6B9PR37': 1, 'N0A7G5': 1, 'Q2VJ48': 13, 'A0A6M9Z6N5': 4, 'Q2VJ46': 2, 'A0A8A4XEC0': 5, 'A0A0G3ZB70': 1, 'A0A5B8IGP3': 1, 'A0A6M9Z7J6': 5, 'A0A6M9Z7M2': 1, 'A0A7D3QMM3': 1, 'A0A6M9Z857': 2, 'A0A6M9Z6M8': 1, 'A0A6M9Z7K1': 2, 'A0A6G6ACW8': 217, 'A0A2Z4K548': 5}\n"
     ]
    },
    {
     "data": {
      "text/plain": "[('Q2VJ50', 1),\n ('Q6V7U2', 1),\n ('A0A2Z3D964', 1),\n ('A0A1C8Z4Q6', 1),\n ('A0A3S9JKK3', 1),\n ('A0A6M4C6I4', 1),\n ('A0A6B9PR37', 1),\n ('N0A7G5', 1),\n ('A0A0G3ZB70', 1),\n ('A0A5B8IGP3', 1),\n ('A0A6M9Z7M2', 1),\n ('A0A7D3QMM3', 1),\n ('A0A6M9Z6M8', 1),\n ('G1JYZ5', 2),\n ('Q2VJ46', 2),\n ('A0A6M9Z857', 2),\n ('A0A6M9Z7K1', 2),\n ('A0A2H4N9R9', 3),\n ('A0A5C0PZD0', 3),\n ('A0A6M9Z6N5', 4),\n ('A0A8A4XEC0', 5),\n ('A0A6M9Z7J6', 5),\n ('A0A2Z4K548', 5),\n ('C0LA98', 6),\n ('Q6GWF2', 6),\n ('A9RAI0', 9),\n ('Q2VJ48', 13),\n ('A0A513ZUS7', 53),\n ('A0A6G6ACW8', 217),\n ('M4ISG9', 264)]"
     },
     "execution_count": 21,
     "metadata": {},
     "output_type": "execute_result"
    }
   ],
   "source": [
    "dict_of_aav = dict_of_clusters(\"DB_aav_clu.tsv\")\n",
    "dict_of_len_aav = {}\n",
    "for clust in dict_of_aav.items():\n",
    "    dict_of_len_aav.setdefault(clust[0], len(clust[1]))\n",
    "print(dict_of_aav)\n",
    "print(dict_of_len_aav)\n",
    "dict_of_len_aav_sorted = sorted(dict_of_len_aav.items(), key = operator.itemgetter(1))\n",
    "dict_of_len_aav_sorted\n"
   ],
   "metadata": {
    "collapsed": false,
    "pycharm": {
     "name": "#%%\n"
    }
   }
  },
  {
   "cell_type": "code",
   "execution_count": 14,
   "outputs": [
    {
     "data": {
      "text/plain": "[('A0A2K9YNA1', 1),\n ('A0A8A4XDL6', 1),\n ('A0A8A4XEI4', 1),\n ('A0A8G0VT64', 1),\n ('A0A6G6AEC1', 1),\n ('A0A0U3BGQ5', 1),\n ('A0A8A4XDN7', 1),\n ('A0A8E7G1S3', 1),\n ('A0A2H4RDS6', 1),\n ('A0A897ZGG0', 1),\n ('V5NEJ8', 1),\n ('A0A097F8R4', 1),\n ('A0A7M4CF74', 1),\n ('H2ESE9', 1),\n ('A0A481W6J6', 1),\n ('A0A7D5NPQ3', 1),\n ('A0A8A4XDV1', 1),\n ('A0A7M1PW40', 1),\n ('A0A8E7G1V7', 1),\n ('A0A7D3UKP6', 1),\n ('A0A8E7G1Q0', 1),\n ('A0A891EZR0', 1),\n ('A0A8A4XCV2', 1),\n ('A7UIY7', 1),\n ('A0A8A4XDT5', 1),\n ('A0A2K9YND6', 1),\n ('A0A8A4XDM3', 1),\n ('A0A513PZL6', 1),\n ('K7QMU7', 1),\n ('H2ESE7', 1),\n ('A0A2H4RDS3', 1),\n ('A0A8A4XDP6', 1),\n ('A0A5C0PWM1', 1),\n ('A0A8A4XDF3', 1),\n ('A0A2K9YN97', 1),\n ('A0A097F8N9', 1),\n ('A0A7D3QLM1', 1),\n ('Q80PY6', 1),\n ('A0A6M3YRX2', 1),\n ('E2D6F3', 1),\n ('A0A7D3QIV9', 1),\n ('A0A8A4XCD9', 1),\n ('A0A0B4N000', 1),\n ('Q88273', 1),\n ('C6KF51', 1),\n ('A0A2H4RDR9', 1),\n ('A0A5C0PVD1', 1),\n ('A0A2L2P6U9', 1),\n ('A0A0A7KU74', 1),\n ('A0A6H1XL25', 1),\n ('A0A513Q0P1', 1),\n ('A0A1J0F5D2', 1),\n ('A0A2H4RDR4', 1),\n ('A0A7M1PVP4', 1),\n ('A0A2H4RDS8', 1),\n ('A0A7D3UGP6', 1),\n ('A0A7M1PVK8', 1),\n ('A0A8A4XE78', 1),\n ('P87584', 1),\n ('A0A2H4RDS2', 1),\n ('A0A2H4N9S6', 1),\n ('A0A221LEC7', 1),\n ('C4P0S3', 1),\n ('H2ESE5', 1),\n ('A0A2Z3D894', 1),\n ('A0A481W6J5', 1),\n ('A0A481W736', 1),\n ('A0A7D3V1H4', 1),\n ('A0A2Z3DB37', 1),\n ('A0A2Z4EVH0', 1),\n ('H9XTL4', 1),\n ('A0A2H4X1Y6', 1),\n ('W8PQ92', 1),\n ('A0A6B9UMK2', 1),\n ('A0A7D3QLH8', 1),\n ('A0A7M1PVN3', 1),\n ('A0A8A4XE66', 1),\n ('A0A221LEC4', 1),\n ('V5KE12', 1),\n ('A0A7M1PWM5', 1),\n ('A0A5C0PWL4', 1),\n ('A0A7D3QPT2', 1),\n ('A0A8A4XDM9', 1),\n ('A0A481W670', 1),\n ('A0A7D3QM90', 1),\n ('A0A8A4XE08', 1),\n ('A0A7G6BR76', 1),\n ('A0A8A4XE03', 1),\n ('A0A8A4XDB8', 1),\n ('M1NNZ2', 1),\n ('A0A8A4XDA8', 1),\n ('A0A2H4RDR8', 1),\n ('U3QY02', 1),\n ('A0A146GE64', 2),\n ('A0A2H4RDT8', 2),\n ('A0A513Q0I1', 2),\n ('A0A125RQF8', 2),\n ('A0A6G5Q980', 2),\n ('A0A0D3MCM4', 2),\n ('A0A517FM28', 2),\n ('A0A3G5E9T0', 2),\n ('A0A513Q0A9', 2),\n ('N0A3K2', 2),\n ('A0A193AUM5', 2),\n ('A0A1B1V540', 2),\n ('A0A7D3QM82', 2),\n ('A0A2K9YNA2', 2),\n ('A0A2S0SYY7', 2),\n ('A0A2H4YQ20', 2),\n ('A0A0A0R2R1', 2),\n ('A0A7D4WFI2', 2),\n ('A0A871HZ70', 2),\n ('A0A221LED6', 2),\n ('A0A2Z3D7V2', 2),\n ('A0A1J0F5D5', 2),\n ('A0A513Q0R0', 3),\n ('A0A7D3QIQ3', 3),\n ('A0A0D3MCF4', 3),\n ('A0A8G0VS91', 3),\n ('A0A513Q0K3', 3),\n ('A0A1S6M267', 3),\n ('A0A1S6YK96', 3),\n ('A0A891EZE5', 3),\n ('A0A7L9B005', 3),\n ('G8GWG8', 4),\n ('Q9J0X6', 4),\n ('A0A891EZH5', 4),\n ('Q918U9', 4),\n ('A0A0S2XGI9', 4),\n ('A0A513PZT9', 4),\n ('A0A0D3MD69', 4),\n ('A0A5P8PFL4', 5),\n ('P07297', 5),\n ('A0A7T0MBY1', 5),\n ('A0A0D3MC97', 5),\n ('U5YQG2', 6),\n ('A0A3T0PN94', 6),\n ('R4L9D1', 6),\n ('V5K6Y0', 6),\n ('A0A172WCW9', 6),\n ('A0A894JFF7', 6),\n ('A0A7D3UH37', 6),\n ('Q90125', 7),\n ('A0A1B3IIH5', 7),\n ('A0A6M3YPL4', 8),\n ('A0A2U9AV19', 8),\n ('S5YSH5', 9),\n ('J9PNL0', 9),\n ('A0A513PZL7', 9),\n ('A0A7G7S060', 10),\n ('A0A0D3MCN1', 10),\n ('A0A514EJ46', 11),\n ('A0A3G2VQF6', 11),\n ('G1JYY2', 13),\n ('A0A346GC45', 14),\n ('A0A1Z3FW21', 15),\n ('A0A2Z2C8L9', 16),\n ('A0A7M4BDQ3', 19),\n ('K4NU96', 19),\n ('A0A2H4N9Q5', 20),\n ('A0A1Z3FVR1', 21),\n ('A0A1Z3FVQ1', 21),\n ('P07300', 22),\n ('A0A514EJ31', 24),\n ('A0A1S6EM70', 25),\n ('A0A076JU08', 28),\n ('E1CES5', 30),\n ('H9A288', 32),\n ('S5RNM6', 33),\n ('A0A060NBN6', 35),\n ('G3EZE8', 38),\n ('A0A0D5ZD45', 40),\n ('A0A0F7GFL9', 46),\n ('W8GNF2', 48),\n ('P03136', 53),\n ('D6PUU1', 59),\n ('K4KF99', 61),\n ('E3W908', 67),\n ('X5CV53', 75),\n ('D3Y5Q1', 89),\n ('J3SB80', 96),\n ('H9A282', 100),\n ('R4UBC0', 112),\n ('A0A1P8L135', 191),\n ('Q9PZT0', 197),\n ('Q96608', 227),\n ('A0A286RT05', 340),\n ('A0A0C5GBM8', 1117)]"
     },
     "execution_count": 14,
     "metadata": {},
     "output_type": "execute_result"
    }
   ],
   "source": [
    "dict_of_dpd = dict_of_clusters(\"DB_dpd_clu.tsv\")\n",
    "dict_of_len_dpd = {}\n",
    "for clust in dict_of_dpd.items():\n",
    "    dict_of_len_dpd.setdefault(clust[0], len(clust[1]))\n",
    "dict_of_len_dpd_sorted = sorted(dict_of_len_dpd.items(), key = operator.itemgetter(1))\n",
    "dict_of_len_dpd_sorted\n"
   ],
   "metadata": {
    "collapsed": false,
    "pycharm": {
     "name": "#%%\n"
    }
   }
  },
  {
   "cell_type": "code",
   "execution_count": 62,
   "outputs": [],
   "source": [
    "parsed = SeqIO.parse(open(\"0.fasta\"),'fasta')\n",
    "validating = []\n",
    "for i in parsed:\n",
    "    validating.append(find_between(i.id, \"|\", \"|\"))\n",
    "\n",
    "parsed = SeqIO.parse(open(\"1.fasta\"),'fasta')\n",
    "for i in parsed:\n",
    "    validating.append(find_between(i.id, \"|\", \"|\"))\n",
    "\n",
    "with open(\"0_1_30.fasta\", \"w\") as in_handle:\n",
    "    for aavs in dict_of_dpd.values():\n",
    "        if len(aavs) < 10:\n",
    "            for aav in aavs:\n",
    "                fasta_sequences_train = SeqIO.parse(open(\"dependo_capsids.fasta\"), \"fasta\")\n",
    "                for data in fasta_sequences_train:\n",
    "                    if find_between(data.id, \"|\", \"|\") == aav and aav not in validating:\n",
    "                        SeqIO.write(data, in_handle, \"fasta\")"
   ],
   "metadata": {
    "collapsed": false,
    "pycharm": {
     "name": "#%%\n"
    }
   }
  },
  {
   "cell_type": "code",
   "execution_count": 77,
   "outputs": [
    {
     "name": "stdout",
     "output_type": "stream",
     "text": [
      "3696 3696\n"
     ]
    },
    {
     "data": {
      "text/plain": "True"
     },
     "execution_count": 77,
     "metadata": {},
     "output_type": "execute_result"
    }
   ],
   "source": [
    "all_dpds_list = []\n",
    "sas = []\n",
    "all_dpds = SeqIO.parse(open(\"dependo_capsids.fasta\"), \"fasta\")\n",
    "for i in all_dpds:\n",
    "    all_dpds_list.append(i.id)\n",
    "all_dpds_1 = SeqIO.parse(open(\"0_1_1.fasta\"), \"fasta\")\n",
    "all_dpds_5 = SeqIO.parse(open(\"0_1_5.fasta\"), \"fasta\")\n",
    "all_dpds_10 = SeqIO.parse(open(\"0_1_10.fasta\"), \"fasta\")\n",
    "all_dpds_30 = SeqIO.parse(open(\"0_1_30.fasta\"), \"fasta\")\n",
    "val_0 = SeqIO.parse(open(\"0.fasta\"), \"fasta\")\n",
    "for i in all_dpds_1:\n",
    "    sas.append(i.id)\n",
    "for i in all_dpds_5:\n",
    "    sas.append(i.id)\n",
    "for i in all_dpds_10:\n",
    "    sas.append(i.id)\n",
    "for i in all_dpds_30:\n",
    "    sas.append(i.id)\n",
    "for i in val_0:\n",
    "    sas.append(i.id)\n",
    "print(len(all_dpds_list), len(sas))\n",
    "set(all_dpds_list) == set(sas)"
   ],
   "metadata": {
    "collapsed": false,
    "pycharm": {
     "name": "#%%\n"
    }
   }
  },
  {
   "cell_type": "code",
   "execution_count": 29,
   "outputs": [
    {
     "name": "stdout",
     "output_type": "stream",
     "text": [
      "['A0A2K9YNA1', 'A0A8A4XDL6', 'A0A8A4XEI4', 'A0A8G0VT64', 'A0A6G6AEC1', 'A0A0U3BGQ5', 'A0A146GE64', 'A0A146GE51', 'A0A8A4XDN7', 'A0A8E7G1S3', 'A0A2H4RDT8', 'A0A2H4RDR3', 'A0A2H4RDS6', 'A0A897ZGG0', 'V5NEJ8', 'A0A097F8R4', 'A0A7M4CF74', 'H2ESE9', 'A0A481W6J6', 'A0A513Q0I1', 'A0A513Q0K5', 'A0A125RQF8', 'A0A125RQF7', 'A0A7D5NPQ3', 'A0A6G5Q980', 'A0A6G5Q909', 'A0A513Q0R0', 'A0A513Q0T9', 'A0A513Q0L5', 'A0A0D3MCM4', 'A0A0D3MDI9', 'A0A8A4XDV1', 'A0A7M1PW40', 'Q2VJ50', 'G1JYZ5', 'G1JYZ3', 'Q6V7U2', 'A0A2Z3D964']\n"
     ]
    }
   ],
   "source": [
    "counter = 0\n",
    "parsed = SeqIO.parse(open(\"0.fasta\"),'fasta')\n",
    "validating = []\n",
    "for i in parsed:\n",
    "    validating.append(find_between(i.id, \"|\", \"|\"))\n",
    "\n",
    "parsed = SeqIO.parse(open(\"1.fasta\"),'fasta')\n",
    "for i in parsed:\n",
    "    validating.append(find_between(i.id, \"|\", \"|\"))\n",
    "\n",
    "print(validating)\n",
    "\n",
    "with open(\"aav_and_dpd_train.fasta\", 'w') as in_handle:\n",
    "    fasta_sequences_train = SeqIO.parse(open(\"aav_and_dpd.fasta\"),'fasta')\n",
    "    for cap in fasta_sequences_train:\n",
    "        if find_between(cap.id, \"|\", \"|\") not in validating:\n",
    "            SeqIO.write([cap], in_handle, \"fasta\")\n",
    "#print(counter)"
   ],
   "metadata": {
    "collapsed": false,
    "pycharm": {
     "name": "#%%\n"
    }
   }
  },
  {
   "cell_type": "code",
   "execution_count": 11,
   "outputs": [
    {
     "name": "stdout",
     "output_type": "stream",
     "text": [
      "4272\n"
     ]
    }
   ],
   "source": [
    "parsed = SeqIO.parse(open(\"aav_and_dpd_train.fasta\"),'fasta')\n",
    "lenth = []\n",
    "for i in parsed:\n",
    "    lenth.append(i)\n",
    "print(len(lenth))"
   ],
   "metadata": {
    "collapsed": false,
    "pycharm": {
     "name": "#%%\n"
    }
   }
  },
  {
   "cell_type": "code",
   "execution_count": 150,
   "outputs": [
    {
     "name": "stdout",
     "output_type": "stream",
     "text": [
      "614\n"
     ]
    }
   ],
   "source": [
    "checking = []\n",
    "parsed = SeqIO.parse(open(\"1.fasta\"),'fasta')\n",
    "for i in parsed:\n",
    "    checking.append(find_between(i.id, \"|\", \"|\"))\n",
    "parsed = SeqIO.parse(open(\"1_1_200.fasta\"),'fasta')\n",
    "for i in parsed:\n",
    "    checking.append(find_between(i.id, \"|\", \"|\"))\n",
    "parsed = SeqIO.parse(open(\"1_1_50.fasta\"),'fasta')\n",
    "for i in parsed:\n",
    "    checking.append(find_between(i.id, \"|\", \"|\"))\n",
    "parsed = SeqIO.parse(open(\"1_1_1000.fasta\"),'fasta')\n",
    "for i in parsed:\n",
    "    checking.append(find_between(i.id, \"|\", \"|\"))\n",
    "parsed = SeqIO.parse(open(\"1_1_3000.fasta\"),'fasta')\n",
    "for i in parsed:\n",
    "    checking.append(find_between(i.id, \"|\", \"|\"))\n",
    "print(len(checking))"
   ],
   "metadata": {
    "collapsed": false,
    "pycharm": {
     "name": "#%%\n"
    }
   }
  },
  {
   "cell_type": "code",
   "execution_count": 15,
   "outputs": [
    {
     "name": "stdout",
     "output_type": "stream",
     "text": [
      "3696\n"
     ]
    }
   ],
   "source": [
    "parsed = SeqIO.parse(open(\"dependo_capsids.fasta\"), 'fasta')\n",
    "sas = []\n",
    "for i in parsed:\n",
    "    sas.append(find_between(i.id, \"|\", \"|\"))\n",
    "print(len(sas))"
   ],
   "metadata": {
    "collapsed": false,
    "pycharm": {
     "name": "#%%\n"
    }
   }
  },
  {
   "cell_type": "code",
   "execution_count": null,
   "outputs": [],
   "source": [],
   "metadata": {
    "collapsed": false,
    "pycharm": {
     "name": "#%%\n"
    }
   }
  }
 ],
 "metadata": {
  "kernelspec": {
   "display_name": "Python 3",
   "language": "python",
   "name": "python3"
  },
  "language_info": {
   "codemirror_mode": {
    "name": "ipython",
    "version": 2
   },
   "file_extension": ".py",
   "mimetype": "text/x-python",
   "name": "python",
   "nbconvert_exporter": "python",
   "pygments_lexer": "ipython2",
   "version": "2.7.6"
  }
 },
 "nbformat": 4,
 "nbformat_minor": 0
}