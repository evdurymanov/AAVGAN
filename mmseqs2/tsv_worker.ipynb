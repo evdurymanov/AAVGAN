{
 "cells": [
  {
   "cell_type": "code",
   "execution_count": 19,
   "metadata": {
    "collapsed": true
   },
   "outputs": [],
   "source": [
    "import csv"
   ]
  },
  {
   "cell_type": "code",
   "execution_count": 26,
   "outputs": [],
   "source": [
    "def counting_clutser(file):\n",
    "    clusters = []\n",
    "    with open(file) as fd:\n",
    "        rd = csv.reader(fd, delimiter=\"\\t\", quotechar='\"')\n",
    "        for row in rd:\n",
    "            clusters.append(row[0])\n",
    "    clusters_counter = {}\n",
    "    for name in clusters:\n",
    "        clusters_counter.setdefault(name, 0)\n",
    "        clusters_counter[name] += 1\n",
    "\n",
    "    return clusters_counter"
   ],
   "metadata": {
    "collapsed": false,
    "pycharm": {
     "name": "#%%\n"
    }
   }
  },
  {
   "cell_type": "code",
   "execution_count": 41,
   "outputs": [
    {
     "name": "stdout",
     "output_type": "stream",
     "text": [
      "[1, 1, 1, 1, 1, 1, 1, 1, 1, 1, 1, 1, 1, 2, 2, 2, 2, 3, 3, 4, 5, 5, 5, 6, 6, 9, 13, 53, 217, 264]\n",
      "{'Q2VJ50': 1, 'A9RAI0': 9, 'G1JYZ5': 2, 'Q6V7U2': 1, 'A0A2Z3D964': 1, 'C0LA98': 6, 'A0A1C8Z4Q6': 1, 'A0A3S9JKK3': 1, 'A0A2H4N9R9': 3, 'A0A6M4C6I4': 1, 'A0A513ZUS7': 53, 'A0A5C0PZD0': 3, 'Q6GWF2': 6, 'M4ISG9': 264, 'A0A6B9PR37': 1, 'N0A7G5': 1, 'Q2VJ48': 13, 'A0A6M9Z6N5': 4, 'Q2VJ46': 2, 'A0A8A4XEC0': 5, 'A0A0G3ZB70': 1, 'A0A5B8IGP3': 1, 'A0A6M9Z7J6': 5, 'A0A6M9Z7M2': 1, 'A0A7D3QMM3': 1, 'A0A6M9Z857': 2, 'A0A6M9Z6M8': 1, 'A0A6M9Z7K1': 2, 'A0A6G6ACW8': 217, 'A0A2Z4K548': 5}\n"
     ]
    }
   ],
   "source": [
    "clusters_aav = counting_clutser(\"DB_aav_clu.tsv\")\n",
    "clusters_dependo = counting_clutser(\"DB_dpd_clu.tsv\")\n",
    "counter = 0\n",
    "counters = []\n",
    "for i in clusters_aav.values():\n",
    "    counters.append(i)\n",
    "#print(lol_2)\n",
    "print(sorted(counters))\n",
    "print(clusters_aav)\n",
    "#lol_1 first 4 <4 - used for validation\n"
   ],
   "metadata": {
    "collapsed": false,
    "pycharm": {
     "name": "#%%\n"
    }
   }
  },
  {
   "cell_type": "code",
   "execution_count": null,
   "outputs": [],
   "source": [],
   "metadata": {
    "collapsed": false,
    "pycharm": {
     "name": "#%%\n"
    }
   }
  }
 ],
 "metadata": {
  "kernelspec": {
   "display_name": "Python 3",
   "language": "python",
   "name": "python3"
  },
  "language_info": {
   "codemirror_mode": {
    "name": "ipython",
    "version": 2
   },
   "file_extension": ".py",
   "mimetype": "text/x-python",
   "name": "python",
   "nbconvert_exporter": "python",
   "pygments_lexer": "ipython2",
   "version": "2.7.6"
  }
 },
 "nbformat": 4,
 "nbformat_minor": 0
}