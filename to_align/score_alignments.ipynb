{
 "cells": [
  {
   "cell_type": "code",
   "execution_count": 1,
   "metadata": {
    "collapsed": true
   },
   "outputs": [],
   "source": [
    "from Bio.SeqIO.FastaIO import SimpleFastaParser\n",
    "from Bio.pairwise2 import format_alignment\n",
    "from Bio import pairwise2\n",
    "from tqdm import tqdm"
   ]
  },
  {
   "cell_type": "code",
   "execution_count": 2,
   "outputs": [],
   "source": [
    "gen_capsid_0 = []\n",
    "gen_capsid_1 = []\n",
    "aavs = []"
   ],
   "metadata": {
    "collapsed": false,
    "pycharm": {
     "name": "#%%\n"
    }
   }
  },
  {
   "cell_type": "code",
   "execution_count": 3,
   "outputs": [],
   "source": [
    "with open(\"gen_zeros.fasta\") as in_handle:\n",
    "    for title, seq in SimpleFastaParser(in_handle):\n",
    "        gen_capsid_0.append(seq)"
   ],
   "metadata": {
    "collapsed": false,
    "pycharm": {
     "name": "#%%\n"
    }
   }
  },
  {
   "cell_type": "code",
   "execution_count": 4,
   "outputs": [],
   "source": [
    "with open(\"gen_ones.fasta\") as in_handle:\n",
    "    for title, seq in SimpleFastaParser(in_handle):\n",
    "        gen_capsid_1.append(seq)"
   ],
   "metadata": {
    "collapsed": false,
    "pycharm": {
     "name": "#%%\n"
    }
   }
  },
  {
   "cell_type": "code",
   "execution_count": 6,
   "outputs": [],
   "source": [
    "with open(\"aav_capsids.fasta\") as in_handle:\n",
    "    for title, seq in SimpleFastaParser(in_handle):\n",
    "        aavs.append(seq)"
   ],
   "metadata": {
    "collapsed": false,
    "pycharm": {
     "name": "#%%\n"
    }
   }
  },
  {
   "cell_type": "code",
   "execution_count": 7,
   "outputs": [
    {
     "name": "stdout",
     "output_type": "stream",
     "text": [
      "64 64 614\n"
     ]
    }
   ],
   "source": [
    "print(len(gen_capsid_0), len(gen_capsid_1), len(aavs))"
   ],
   "metadata": {
    "collapsed": false,
    "pycharm": {
     "name": "#%%\n"
    }
   }
  },
  {
   "cell_type": "code",
   "execution_count": 10,
   "outputs": [
    {
     "name": "stdout",
     "output_type": "stream",
     "text": [
      "588.0 389.28013029315963\n",
      "514.0 421.30944625407164\n",
      "708.0 430.6938110749186\n",
      "225.0 207.30781758957656\n",
      "675.0 496.071661237785\n",
      "255.0 241.25081433224756\n",
      "224.0 208.18078175895766\n",
      "731.0 424.27198697068405\n",
      "261.0 232.59446254071662\n",
      "531.0 421.37459283387625\n",
      "726.0 441.2247557003257\n",
      "269.0 253.62052117263843\n",
      "250.0 228.86644951140065\n",
      "218.0 205.71824104234528\n",
      "727.0 525.6335504885993\n",
      "265.0 238.79967426710098\n",
      "387.0 307.1514657980456\n",
      "260.0 240.79315960912052\n",
      "249.0 227.7442996742671\n",
      "716.0 418.88925081433223\n",
      "253.0 233.47231270358307\n",
      "523.0 319.98534201954396\n",
      "301.0 274.6514657980456\n",
      "433.0 369.35179153094464\n",
      "692.0 424.057003257329\n",
      "640.0 375.61074918566777\n",
      "731.0 424.10749185667754\n",
      "264.0 250.93811074918565\n",
      "249.0 230.04071661237785\n",
      "732.0 424.114006514658\n",
      "392.0 339.7214983713355\n",
      "281.0 260.1319218241042\n",
      "284.0 263.2557003257329\n",
      "242.0 230.2084690553746\n",
      "222.0 208.49348534201954\n",
      "226.0 210.8729641693811\n",
      "732.0 436.5114006514658\n",
      "724.0 440.78013029315963\n",
      "610.0 435.90065146579803\n",
      "731.0 449.41530944625407\n",
      "685.0 400.9690553745928\n",
      "719.0 528.1954397394137\n",
      "307.0 279.4055374592834\n",
      "206.0 195.41368078175896\n",
      "516.0 420.60912052117266\n",
      "465.0 373.85179153094464\n",
      "233.0 216.56188925081435\n",
      "732.0 438.65798045602605\n",
      "534.0 424.2459283387622\n",
      "474.0 355.0928338762215\n",
      "705.0 416.31107491856676\n",
      "722.0 421.66775244299674\n",
      "218.0 201.43159609120522\n",
      "241.0 229.31921824104234\n",
      "217.0 198.3013029315961\n",
      "252.0 229.91205211726384\n",
      "667.0 397.3941368078176\n",
      "723.0 520.0244299674267\n",
      "731.0 423.5912052117264\n",
      "208.0 194.35179153094464\n",
      "729.0 423.3583061889251\n",
      "323.0 280.2540716612378\n",
      "266.0 253.1986970684039\n",
      "209.0 195.8973941368078\n",
      "ITOG_MAX 455.046875\n",
      "ITOG_LEN 330.943963762215\n"
     ]
    }
   ],
   "source": [
    "itog_max = []\n",
    "itog_mean = []\n",
    "for gen in gen_capsid_0:\n",
    "    aligments = []\n",
    "    for seq_1_37 in aavs:\n",
    "        a = pairwise2.align.globalxx(gen, seq_1_37, score_only = True)\n",
    "        aligments.append(a)\n",
    "    print(max(aligments), sum(aligments)/len(aligments))\n",
    "    itog_max.append(max(aligments))\n",
    "    itog_mean.append(sum(aligments)/len(aligments))\n",
    "print(\"ITOG_MAX\", sum(itog_max)/len(itog_max))\n",
    "print(\"ITOG_LEN\", sum(itog_mean)/len(itog_mean))"
   ],
   "metadata": {
    "collapsed": false,
    "pycharm": {
     "name": "#%%\n"
    }
   }
  },
  {
   "cell_type": "code",
   "execution_count": 11,
   "outputs": [
    {
     "name": "stdout",
     "output_type": "stream",
     "text": [
      "723.0 422.31107491856676\n",
      "680.0 432.9527687296417\n",
      "284.0 263.6319218241042\n",
      "562.0 392.9267100977199\n",
      "215.0 199.3110749185668\n",
      "362.0 300.685667752443\n",
      "269.0 254.91368078175896\n",
      "730.0 423.93322475570034\n",
      "246.0 227.47719869706842\n",
      "239.0 220.83387622149837\n",
      "528.0 407.88110749185665\n",
      "242.0 221.42019543973942\n",
      "674.0 413.31107491856676\n",
      "535.0 412.44625407166126\n",
      "249.0 233.39902280130292\n",
      "725.0 527.4609120521172\n",
      "731.0 424.25081433224756\n",
      "732.0 424.12703583061887\n",
      "234.0 218.4657980456026\n",
      "210.0 196.67589576547232\n",
      "520.0 318.10749185667754\n",
      "244.0 229.13680781758958\n",
      "275.0 247.37785016286645\n",
      "232.0 214.01791530944627\n",
      "249.0 232.58957654723127\n",
      "673.0 394.36156351791533\n",
      "327.0 295.76058631921825\n",
      "221.0 205.15472312703582\n",
      "640.0 482.0097719869707\n",
      "528.0 352.7785016286645\n",
      "710.0 442.8045602605863\n",
      "412.0 359.6726384364821\n",
      "246.0 225.9185667752443\n",
      "221.0 208.19218241042344\n",
      "570.0 444.48534201954396\n",
      "732.0 424.33061889250814\n",
      "255.0 241.56677524429966\n",
      "243.0 219.5358306188925\n",
      "525.0 321.17915309446255\n",
      "724.0 441.5928338762215\n",
      "526.0 321.7899022801303\n",
      "734.0 438.08631921824104\n",
      "301.0 276.76058631921825\n",
      "267.0 240.62377850162866\n",
      "732.0 424.6628664495114\n",
      "594.0 412.1661237785016\n",
      "286.0 263.685667752443\n",
      "222.0 207.0\n",
      "265.0 241.82899022801303\n",
      "535.0 423.93322475570034\n",
      "323.0 282.0228013029316\n",
      "434.0 364.714983713355\n",
      "279.0 255.86319218241042\n",
      "224.0 208.31921824104234\n",
      "220.0 205.74755700325733\n",
      "719.0 445.9299674267101\n",
      "730.0 425.0814332247557\n",
      "533.0 422.19218241042347\n",
      "262.0 239.24104234527687\n",
      "735.0 439.5944625407166\n",
      "558.0 364.77198697068405\n",
      "234.0 216.43811074918565\n",
      "446.0 286.6026058631922\n",
      "274.0 249.22801302931597\n",
      "ITOG_MAX 439.84375\n",
      "ITOG_LEN 321.4886502442997\n"
     ]
    }
   ],
   "source": [
    "itog_max = []\n",
    "itog_mean = []\n",
    "for gen in gen_capsid_1:\n",
    "    aligments = []\n",
    "    for seq_1_37 in aavs:\n",
    "        a = pairwise2.align.globalxx(gen, seq_1_37, score_only = True)\n",
    "        aligments.append(a)\n",
    "    print(max(aligments), sum(aligments)/len(aligments))\n",
    "    itog_max.append(max(aligments))\n",
    "    itog_mean.append(sum(aligments)/len(aligments))\n",
    "print(\"ITOG_MAX\", sum(itog_max)/len(itog_max))\n",
    "print(\"ITOG_LEN\", sum(itog_mean)/len(itog_mean))"
   ],
   "metadata": {
    "collapsed": false,
    "pycharm": {
     "name": "#%%\n"
    }
   }
  },
  {
   "cell_type": "code",
   "execution_count": null,
   "outputs": [],
   "source": [],
   "metadata": {
    "collapsed": false,
    "pycharm": {
     "name": "#%%\n"
    }
   }
  }
 ],
 "metadata": {
  "kernelspec": {
   "display_name": "Python 3",
   "language": "python",
   "name": "python3"
  },
  "language_info": {
   "codemirror_mode": {
    "name": "ipython",
    "version": 2
   },
   "file_extension": ".py",
   "mimetype": "text/x-python",
   "name": "python",
   "nbconvert_exporter": "python",
   "pygments_lexer": "ipython2",
   "version": "2.7.6"
  }
 },
 "nbformat": 4,
 "nbformat_minor": 0
}