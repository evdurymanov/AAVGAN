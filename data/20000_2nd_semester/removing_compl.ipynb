{
 "cells": [
  {
   "cell_type": "code",
   "execution_count": 1,
   "metadata": {
    "collapsed": true,
    "pycharm": {
     "name": "#%%\n"
    }
   },
   "outputs": [],
   "source": [
    "import numpy as np\n",
    "from Bio.SeqIO.FastaIO import SimpleFastaParser\n",
    "from Bio.pairwise2 import format_alignment\n",
    "from Bio import pairwise2\n",
    "from Bio import SeqIO\n",
    "from tqdm import tqdm\n",
    "from sklearn.manifold import TSNE\n",
    "import matplotlib.pyplot as plt\n",
    "import seaborn as sns\n",
    "import pandas as pd\n",
    "import matplotlib as mpl"
   ]
  },
  {
   "cell_type": "code",
   "execution_count": 5,
   "outputs": [],
   "source": [
    "fasta_sequences_aav = SeqIO.parse(open(\"aav_capsids.fasta\"),'fasta')\n",
    "aav_set = set()\n",
    "for i in fasta_sequences_aav:\n",
    "    aav_set.add(i.seq)\n",
    "\n",
    "fasta_sequences_dependo = SeqIO.parse(open(\"dependo_capsids.fasta\"),'fasta')\n",
    "dependo_set = set()\n",
    "for i in fasta_sequences_dependo:\n",
    "    dependo_set.add(i.seq)\n",
    "\n",
    "\n",
    "resulted = dependo_set - aav_set\n",
    "#resulted = set.symmetric_difference_update(aav_set, dependo_set)"
   ],
   "metadata": {
    "collapsed": false,
    "pycharm": {
     "name": "#%%\n"
    }
   }
  },
  {
   "cell_type": "code",
   "execution_count": 11,
   "outputs": [],
   "source": [
    "fasta_sequences_dependo = SeqIO.parse(open(\"dependo_capsids.fasta\"),'fasta')\n",
    "\n",
    "with open(\"rename.fasta\", 'w') as in_handle:\n",
    "    for i in fasta_sequences_dependo:\n",
    "        if str(i.seq) in resulted:\n",
    "            SeqIO.write([i], in_handle, \"fasta\")"
   ],
   "metadata": {
    "collapsed": false,
    "pycharm": {
     "name": "#%%\n"
    }
   }
  },
  {
   "cell_type": "code",
   "execution_count": 14,
   "outputs": [
    {
     "name": "stdout",
     "output_type": "stream",
     "text": [
      "3696\n"
     ]
    }
   ],
   "source": [
    "fasta_sequences_dependo_resulted = SeqIO.parse(open(\"rename.fasta\"),'fasta')\n",
    "dependo_result_set = set()\n",
    "for i in fasta_sequences_dependo_resulted:\n",
    "    dependo_result_set.add(i.seq)\n",
    "\n",
    "print(len(dependo_result_set))"
   ],
   "metadata": {
    "collapsed": false,
    "pycharm": {
     "name": "#%%\n"
    }
   }
  },
  {
   "cell_type": "code",
   "execution_count": null,
   "outputs": [],
   "source": [],
   "metadata": {
    "collapsed": false,
    "pycharm": {
     "name": "#%%\n"
    }
   }
  }
 ],
 "metadata": {
  "kernelspec": {
   "display_name": "Python 3",
   "language": "python",
   "name": "python3"
  },
  "language_info": {
   "codemirror_mode": {
    "name": "ipython",
    "version": 2
   },
   "file_extension": ".py",
   "mimetype": "text/x-python",
   "name": "python",
   "nbconvert_exporter": "python",
   "pygments_lexer": "ipython2",
   "version": "2.7.6"
  }
 },
 "nbformat": 4,
 "nbformat_minor": 0
}